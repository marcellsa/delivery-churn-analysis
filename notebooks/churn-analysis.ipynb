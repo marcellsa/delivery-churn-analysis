{
 "cells": [
  {
   "cell_type": "markdown",
   "id": "949576d0",
   "metadata": {},
   "source": [
    "### 1. Importação das bibliotecas essenciais"
   ]
  },
  {
   "cell_type": "code",
   "execution_count": 2,
   "id": "6c5d5479",
   "metadata": {},
   "outputs": [
    {
     "name": "stdout",
     "output_type": "stream",
     "text": [
      "Bibliotecas importadas com sucesso!\n"
     ]
    }
   ],
   "source": [
    "# Importando as bibliotecas\n",
    "import pandas as pd\n",
    "import plotly.express as px\n",
    "\n",
    "print(\"Bibliotecas importadas com sucesso!\")"
   ]
  },
  {
   "cell_type": "markdown",
   "id": "f1794116",
   "metadata": {},
   "source": [
    "### 2. Carregamento dos dados"
   ]
  },
  {
   "cell_type": "code",
   "execution_count": 3,
   "id": "e638fa07",
   "metadata": {},
   "outputs": [
    {
     "name": "stdout",
     "output_type": "stream",
     "text": [
      "As 5 primeiras linhas do DataFrame:\n"
     ]
    },
    {
     "data": {
      "text/html": [
       "<div>\n",
       "<style scoped>\n",
       "    .dataframe tbody tr th:only-of-type {\n",
       "        vertical-align: middle;\n",
       "    }\n",
       "\n",
       "    .dataframe tbody tr th {\n",
       "        vertical-align: top;\n",
       "    }\n",
       "\n",
       "    .dataframe thead th {\n",
       "        text-align: right;\n",
       "    }\n",
       "</style>\n",
       "<table border=\"1\" class=\"dataframe\">\n",
       "  <thead>\n",
       "    <tr style=\"text-align: right;\">\n",
       "      <th></th>\n",
       "      <th>ClientId</th>\n",
       "      <th>DataExtracao</th>\n",
       "      <th>Score_Credito</th>\n",
       "      <th>Estado</th>\n",
       "      <th>Gênero</th>\n",
       "      <th>Idade</th>\n",
       "      <th>Tempo_Cliente</th>\n",
       "      <th>Limite_Credito_Mercado</th>\n",
       "      <th>Qte_Categorias</th>\n",
       "      <th>Usa_Cartao_Credito</th>\n",
       "      <th>Programa_Fidelidade</th>\n",
       "      <th>Sum_Pedidos_Acumulados</th>\n",
       "      <th>DataUltimaTransacao</th>\n",
       "      <th>Churn</th>\n",
       "    </tr>\n",
       "  </thead>\n",
       "  <tbody>\n",
       "    <tr>\n",
       "      <th>0</th>\n",
       "      <td>345.568</td>\n",
       "      <td>2019-06-30</td>\n",
       "      <td>619</td>\n",
       "      <td>São Paulo</td>\n",
       "      <td>Feminino</td>\n",
       "      <td>42</td>\n",
       "      <td>2</td>\n",
       "      <td>0</td>\n",
       "      <td>1</td>\n",
       "      <td>1</td>\n",
       "      <td>1</td>\n",
       "      <td>422,287</td>\n",
       "      <td>2019-09-14</td>\n",
       "      <td>1</td>\n",
       "    </tr>\n",
       "    <tr>\n",
       "      <th>1</th>\n",
       "      <td>345.569</td>\n",
       "      <td>2019-06-30</td>\n",
       "      <td>608</td>\n",
       "      <td>Rio de Janeiro</td>\n",
       "      <td>Feminino</td>\n",
       "      <td>41</td>\n",
       "      <td>1</td>\n",
       "      <td>838,0786</td>\n",
       "      <td>1</td>\n",
       "      <td>0</td>\n",
       "      <td>1</td>\n",
       "      <td>468,9274166667</td>\n",
       "      <td>2019-10-05</td>\n",
       "      <td>0</td>\n",
       "    </tr>\n",
       "    <tr>\n",
       "      <th>2</th>\n",
       "      <td>345.570</td>\n",
       "      <td>2019-06-30</td>\n",
       "      <td>502</td>\n",
       "      <td>São Paulo</td>\n",
       "      <td>Feminino</td>\n",
       "      <td>42</td>\n",
       "      <td>8</td>\n",
       "      <td>1.596,608</td>\n",
       "      <td>3</td>\n",
       "      <td>1</td>\n",
       "      <td>0</td>\n",
       "      <td>474,714875</td>\n",
       "      <td>2019-08-20</td>\n",
       "      <td>1</td>\n",
       "    </tr>\n",
       "    <tr>\n",
       "      <th>3</th>\n",
       "      <td>345.571</td>\n",
       "      <td>2019-06-30</td>\n",
       "      <td>699</td>\n",
       "      <td>São Paulo</td>\n",
       "      <td>Feminino</td>\n",
       "      <td>39</td>\n",
       "      <td>1</td>\n",
       "      <td>0</td>\n",
       "      <td>2</td>\n",
       "      <td>0</td>\n",
       "      <td>0</td>\n",
       "      <td>390,9442916667</td>\n",
       "      <td>2019-10-21</td>\n",
       "      <td>0</td>\n",
       "    </tr>\n",
       "    <tr>\n",
       "      <th>4</th>\n",
       "      <td>345.572</td>\n",
       "      <td>2019-06-30</td>\n",
       "      <td>850</td>\n",
       "      <td>Rio de Janeiro</td>\n",
       "      <td>Feminino</td>\n",
       "      <td>43</td>\n",
       "      <td>2</td>\n",
       "      <td>1.255,1082</td>\n",
       "      <td>1</td>\n",
       "      <td>1</td>\n",
       "      <td>1</td>\n",
       "      <td>329,5170833333</td>\n",
       "      <td>2019-10-26</td>\n",
       "      <td>0</td>\n",
       "    </tr>\n",
       "  </tbody>\n",
       "</table>\n",
       "</div>"
      ],
      "text/plain": [
       "   ClientId DataExtracao  Score_Credito          Estado    Gênero  Idade  \\\n",
       "0   345.568   2019-06-30            619       São Paulo  Feminino     42   \n",
       "1   345.569   2019-06-30            608  Rio de Janeiro  Feminino     41   \n",
       "2   345.570   2019-06-30            502       São Paulo  Feminino     42   \n",
       "3   345.571   2019-06-30            699       São Paulo  Feminino     39   \n",
       "4   345.572   2019-06-30            850  Rio de Janeiro  Feminino     43   \n",
       "\n",
       "   Tempo_Cliente Limite_Credito_Mercado  Qte_Categorias  Usa_Cartao_Credito  \\\n",
       "0              2                      0               1                   1   \n",
       "1              1               838,0786               1                   0   \n",
       "2              8              1.596,608               3                   1   \n",
       "3              1                      0               2                   0   \n",
       "4              2             1.255,1082               1                   1   \n",
       "\n",
       "   Programa_Fidelidade Sum_Pedidos_Acumulados DataUltimaTransacao  Churn  \n",
       "0                    1                422,287          2019-09-14      1  \n",
       "1                    1         468,9274166667          2019-10-05      0  \n",
       "2                    0             474,714875          2019-08-20      1  \n",
       "3                    0         390,9442916667          2019-10-21      0  \n",
       "4                    1         329,5170833333          2019-10-26      0  "
      ]
     },
     "metadata": {},
     "output_type": "display_data"
    }
   ],
   "source": [
    "# Definindo o caminho do arquivo csv\n",
    "caminho_arquivo = '../data/raw/base_churn_preditiva_20191030.csv'\n",
    "\n",
    "# Lendo o arquivo, especificando que o separador é ';'\n",
    "df = pd.read_csv(caminho_arquivo, sep=';')\n",
    "\n",
    "print(\"As 5 primeiras linhas do DataFrame:\")\n",
    "display(df.head())"
   ]
  },
  {
   "cell_type": "markdown",
   "id": "1d8355d2",
   "metadata": {},
   "source": [
    "### 3. Diagnóstico inicial dos dados"
   ]
  },
  {
   "cell_type": "code",
   "execution_count": 6,
   "id": "208d9252",
   "metadata": {},
   "outputs": [
    {
     "name": "stdout",
     "output_type": "stream",
     "text": [
      "O DataFrame possui 10000 linhas e 14 colunas.\n"
     ]
    }
   ],
   "source": [
    "# 1. Qual o tamanho do nosso dataset? (Linhas, Colunas)\n",
    "print(f\"O DataFrame possui {df.shape[0]} linhas e {df.shape[1]} colunas.\")"
   ]
  },
  {
   "cell_type": "code",
   "execution_count": 7,
   "id": "ebff72c2",
   "metadata": {},
   "outputs": [
    {
     "name": "stdout",
     "output_type": "stream",
     "text": [
      "Tipos de Dados e Contagem de Nulos por Coluna:\n",
      "<class 'pandas.core.frame.DataFrame'>\n",
      "RangeIndex: 10000 entries, 0 to 9999\n",
      "Data columns (total 14 columns):\n",
      " #   Column                  Non-Null Count  Dtype  \n",
      "---  ------                  --------------  -----  \n",
      " 0   ClientId                10000 non-null  float64\n",
      " 1   DataExtracao            10000 non-null  object \n",
      " 2   Score_Credito           10000 non-null  int64  \n",
      " 3   Estado                  10000 non-null  object \n",
      " 4   Gênero                  10000 non-null  object \n",
      " 5   Idade                   10000 non-null  int64  \n",
      " 6   Tempo_Cliente           10000 non-null  int64  \n",
      " 7   Limite_Credito_Mercado  10000 non-null  object \n",
      " 8   Qte_Categorias          10000 non-null  int64  \n",
      " 9   Usa_Cartao_Credito      10000 non-null  int64  \n",
      " 10  Programa_Fidelidade     10000 non-null  int64  \n",
      " 11  Sum_Pedidos_Acumulados  10000 non-null  object \n",
      " 12  DataUltimaTransacao     10000 non-null  object \n",
      " 13  Churn                   10000 non-null  int64  \n",
      "dtypes: float64(1), int64(7), object(6)\n",
      "memory usage: 1.1+ MB\n"
     ]
    }
   ],
   "source": [
    "# 2. Quais os tipos de dados e há valores faltando?\n",
    "print(\"Tipos de Dados e Contagem de Nulos por Coluna:\")\n",
    "df.info()"
   ]
  },
  {
   "cell_type": "code",
   "execution_count": 8,
   "id": "f85637f7",
   "metadata": {},
   "outputs": [
    {
     "name": "stdout",
     "output_type": "stream",
     "text": [
      "Estatísticas Descritivas das Variáveis Numéricas:\n"
     ]
    },
    {
     "data": {
      "text/html": [
       "<div>\n",
       "<style scoped>\n",
       "    .dataframe tbody tr th:only-of-type {\n",
       "        vertical-align: middle;\n",
       "    }\n",
       "\n",
       "    .dataframe tbody tr th {\n",
       "        vertical-align: top;\n",
       "    }\n",
       "\n",
       "    .dataframe thead th {\n",
       "        text-align: right;\n",
       "    }\n",
       "</style>\n",
       "<table border=\"1\" class=\"dataframe\">\n",
       "  <thead>\n",
       "    <tr style=\"text-align: right;\">\n",
       "      <th></th>\n",
       "      <th>ClientId</th>\n",
       "      <th>Score_Credito</th>\n",
       "      <th>Idade</th>\n",
       "      <th>Tempo_Cliente</th>\n",
       "      <th>Qte_Categorias</th>\n",
       "      <th>Usa_Cartao_Credito</th>\n",
       "      <th>Programa_Fidelidade</th>\n",
       "      <th>Churn</th>\n",
       "    </tr>\n",
       "  </thead>\n",
       "  <tbody>\n",
       "    <tr>\n",
       "      <th>count</th>\n",
       "      <td>10000.000000</td>\n",
       "      <td>10000.000000</td>\n",
       "      <td>10000.000000</td>\n",
       "      <td>10000.000000</td>\n",
       "      <td>10000.000000</td>\n",
       "      <td>10000.00000</td>\n",
       "      <td>10000.000000</td>\n",
       "      <td>10000.000000</td>\n",
       "    </tr>\n",
       "    <tr>\n",
       "      <th>mean</th>\n",
       "      <td>350.567500</td>\n",
       "      <td>650.528800</td>\n",
       "      <td>38.921800</td>\n",
       "      <td>5.012800</td>\n",
       "      <td>1.530200</td>\n",
       "      <td>0.70550</td>\n",
       "      <td>0.515100</td>\n",
       "      <td>0.201300</td>\n",
       "    </tr>\n",
       "    <tr>\n",
       "      <th>std</th>\n",
       "      <td>2.886896</td>\n",
       "      <td>96.653299</td>\n",
       "      <td>10.487806</td>\n",
       "      <td>2.892174</td>\n",
       "      <td>0.581654</td>\n",
       "      <td>0.45584</td>\n",
       "      <td>0.499797</td>\n",
       "      <td>0.400992</td>\n",
       "    </tr>\n",
       "    <tr>\n",
       "      <th>min</th>\n",
       "      <td>345.568000</td>\n",
       "      <td>350.000000</td>\n",
       "      <td>18.000000</td>\n",
       "      <td>0.000000</td>\n",
       "      <td>1.000000</td>\n",
       "      <td>0.00000</td>\n",
       "      <td>0.000000</td>\n",
       "      <td>0.000000</td>\n",
       "    </tr>\n",
       "    <tr>\n",
       "      <th>25%</th>\n",
       "      <td>348.067750</td>\n",
       "      <td>584.000000</td>\n",
       "      <td>32.000000</td>\n",
       "      <td>3.000000</td>\n",
       "      <td>1.000000</td>\n",
       "      <td>0.00000</td>\n",
       "      <td>0.000000</td>\n",
       "      <td>0.000000</td>\n",
       "    </tr>\n",
       "    <tr>\n",
       "      <th>50%</th>\n",
       "      <td>350.567500</td>\n",
       "      <td>652.000000</td>\n",
       "      <td>37.000000</td>\n",
       "      <td>5.000000</td>\n",
       "      <td>1.000000</td>\n",
       "      <td>1.00000</td>\n",
       "      <td>1.000000</td>\n",
       "      <td>0.000000</td>\n",
       "    </tr>\n",
       "    <tr>\n",
       "      <th>75%</th>\n",
       "      <td>353.067250</td>\n",
       "      <td>718.000000</td>\n",
       "      <td>44.000000</td>\n",
       "      <td>7.000000</td>\n",
       "      <td>2.000000</td>\n",
       "      <td>1.00000</td>\n",
       "      <td>1.000000</td>\n",
       "      <td>0.000000</td>\n",
       "    </tr>\n",
       "    <tr>\n",
       "      <th>max</th>\n",
       "      <td>355.567000</td>\n",
       "      <td>850.000000</td>\n",
       "      <td>92.000000</td>\n",
       "      <td>10.000000</td>\n",
       "      <td>4.000000</td>\n",
       "      <td>1.00000</td>\n",
       "      <td>1.000000</td>\n",
       "      <td>1.000000</td>\n",
       "    </tr>\n",
       "  </tbody>\n",
       "</table>\n",
       "</div>"
      ],
      "text/plain": [
       "           ClientId  Score_Credito         Idade  Tempo_Cliente  \\\n",
       "count  10000.000000   10000.000000  10000.000000   10000.000000   \n",
       "mean     350.567500     650.528800     38.921800       5.012800   \n",
       "std        2.886896      96.653299     10.487806       2.892174   \n",
       "min      345.568000     350.000000     18.000000       0.000000   \n",
       "25%      348.067750     584.000000     32.000000       3.000000   \n",
       "50%      350.567500     652.000000     37.000000       5.000000   \n",
       "75%      353.067250     718.000000     44.000000       7.000000   \n",
       "max      355.567000     850.000000     92.000000      10.000000   \n",
       "\n",
       "       Qte_Categorias  Usa_Cartao_Credito  Programa_Fidelidade         Churn  \n",
       "count    10000.000000         10000.00000         10000.000000  10000.000000  \n",
       "mean         1.530200             0.70550             0.515100      0.201300  \n",
       "std          0.581654             0.45584             0.499797      0.400992  \n",
       "min          1.000000             0.00000             0.000000      0.000000  \n",
       "25%          1.000000             0.00000             0.000000      0.000000  \n",
       "50%          1.000000             1.00000             1.000000      0.000000  \n",
       "75%          2.000000             1.00000             1.000000      0.000000  \n",
       "max          4.000000             1.00000             1.000000      1.000000  "
      ]
     },
     "metadata": {},
     "output_type": "display_data"
    }
   ],
   "source": [
    "# 3. Como as variáveis numéricas se distribuem?\n",
    "print(\"Estatísticas Descritivas das Variáveis Numéricas:\")\n",
    "display(df.describe())"
   ]
  },
  {
   "cell_type": "code",
   "execution_count": 10,
   "id": "0ae2c7ab",
   "metadata": {},
   "outputs": [
    {
     "name": "stdout",
     "output_type": "stream",
     "text": [
      "Estatísticas Descritivas das Variáveis Categóricas:\n"
     ]
    },
    {
     "data": {
      "text/html": [
       "<div>\n",
       "<style scoped>\n",
       "    .dataframe tbody tr th:only-of-type {\n",
       "        vertical-align: middle;\n",
       "    }\n",
       "\n",
       "    .dataframe tbody tr th {\n",
       "        vertical-align: top;\n",
       "    }\n",
       "\n",
       "    .dataframe thead th {\n",
       "        text-align: right;\n",
       "    }\n",
       "</style>\n",
       "<table border=\"1\" class=\"dataframe\">\n",
       "  <thead>\n",
       "    <tr style=\"text-align: right;\">\n",
       "      <th></th>\n",
       "      <th>DataExtracao</th>\n",
       "      <th>Estado</th>\n",
       "      <th>Gênero</th>\n",
       "      <th>Limite_Credito_Mercado</th>\n",
       "      <th>Sum_Pedidos_Acumulados</th>\n",
       "      <th>DataUltimaTransacao</th>\n",
       "    </tr>\n",
       "  </thead>\n",
       "  <tbody>\n",
       "    <tr>\n",
       "      <th>count</th>\n",
       "      <td>10000</td>\n",
       "      <td>10000</td>\n",
       "      <td>10000</td>\n",
       "      <td>10000</td>\n",
       "      <td>10000</td>\n",
       "      <td>10000</td>\n",
       "    </tr>\n",
       "    <tr>\n",
       "      <th>unique</th>\n",
       "      <td>1</td>\n",
       "      <td>3</td>\n",
       "      <td>2</td>\n",
       "      <td>6382</td>\n",
       "      <td>9999</td>\n",
       "      <td>122</td>\n",
       "    </tr>\n",
       "    <tr>\n",
       "      <th>top</th>\n",
       "      <td>2019-06-30</td>\n",
       "      <td>São Paulo</td>\n",
       "      <td>Masculino</td>\n",
       "      <td>0</td>\n",
       "      <td>103,8538333333</td>\n",
       "      <td>2019-10-12</td>\n",
       "    </tr>\n",
       "    <tr>\n",
       "      <th>freq</th>\n",
       "      <td>10000</td>\n",
       "      <td>5014</td>\n",
       "      <td>5457</td>\n",
       "      <td>3617</td>\n",
       "      <td>2</td>\n",
       "      <td>296</td>\n",
       "    </tr>\n",
       "  </tbody>\n",
       "</table>\n",
       "</div>"
      ],
      "text/plain": [
       "       DataExtracao     Estado     Gênero Limite_Credito_Mercado  \\\n",
       "count         10000      10000      10000                  10000   \n",
       "unique            1          3          2                   6382   \n",
       "top      2019-06-30  São Paulo  Masculino                      0   \n",
       "freq          10000       5014       5457                   3617   \n",
       "\n",
       "       Sum_Pedidos_Acumulados DataUltimaTransacao  \n",
       "count                   10000               10000  \n",
       "unique                   9999                 122  \n",
       "top            103,8538333333          2019-10-12  \n",
       "freq                        2                 296  "
      ]
     },
     "metadata": {},
     "output_type": "display_data"
    }
   ],
   "source": [
    "# 4. Como as variáveis categóricas se distribuem?\n",
    "# Selecionando apenas as colunas que são do tipo 'object' (texto)\n",
    "df_categorico = df.select_dtypes(include=\"object\")\n",
    "\n",
    "# Aplicando o describe nesse novo DataFrame filtrado\n",
    "print(\"Estatísticas Descritivas das Variáveis Categóricas:\")\n",
    "display(df_categorico.describe())"
   ]
  },
  {
   "cell_type": "markdown",
   "id": "68b207a8",
   "metadata": {},
   "source": [
    "#### Análise dos resultados do Diagnóstico"
   ]
  },
  {
   "cell_type": "markdown",
   "id": "9fc35576",
   "metadata": {},
   "source": [
    "- As colunas DataExtracao, Limite_Credito_Mercado, Sum_Pedidos_Acumulados e DataUltimaTransacao estão com o Dtype (tipo de dado) como object, ou seja, estão sendo tratadas como texto. Isso nos impede de fazer qualquer cálculo matemático ou análise de data com elas.\n",
    "\n",
    "- Sem Dados Faltantes: a coluna Non-Null Count mostra 10000 para todas as variáveis. Não será preciso preencher dados ausentes.\n",
    "\n",
    "- Dimensões: temos 10.000 clientes e 14 variáveis para analisar.\n",
    "\n",
    "- Idade: a idade dos clientes varia de 18 a 92 anos, com uma média de aproximadamente 39 anos.\n",
    "\n",
    "- Estado: temos clientes em 3 estados, sendo São Paulo o mais frequente.\n",
    "\n",
    "- Churn: A taxa de Churn é de 20.13% (mean de 0.2013 na coluna Churn), o que é um número bem significativo."
   ]
  },
  {
   "cell_type": "markdown",
   "id": "5b102528",
   "metadata": {},
   "source": [
    "### 4. Limpeza dos dados"
   ]
  },
  {
   "cell_type": "code",
   "execution_count": 11,
   "id": "03af7a1a",
   "metadata": {},
   "outputs": [],
   "source": [
    "# Lista das colunas numéricas que precisam de correção\n",
    "cols_num_clean = [\"Limite_Credito_Mercado\", \"Sum_Pedidos_Acumulados\"]\n",
    "for col in cols_num_clean:\n",
    "    df[col] = df[col].astype(str).str.replace(\".\", \"\", regex=False)\n",
    "    df[col] = df[col].str.replace(\",\", \".\", regex=False).astype(float)"
   ]
  },
  {
   "cell_type": "code",
   "execution_count": 12,
   "id": "bc4da368",
   "metadata": {},
   "outputs": [],
   "source": [
    "# Lista das colunas de data que precisam de correção\n",
    "cols_date_clean = [\"DataExtracao\", \"DataUltimaTransacao\"]\n",
    "for col in cols_date_clean:\n",
    "    df[col] = pd.to_datetime(df[col])"
   ]
  },
  {
   "cell_type": "code",
   "execution_count": 15,
   "id": "09b75523",
   "metadata": {},
   "outputs": [
    {
     "name": "stdout",
     "output_type": "stream",
     "text": [
      "\n",
      "--- Verificando os tipos de dados após a limpeza ---\n",
      "<class 'pandas.core.frame.DataFrame'>\n",
      "RangeIndex: 10000 entries, 0 to 9999\n",
      "Data columns (total 14 columns):\n",
      " #   Column                  Non-Null Count  Dtype         \n",
      "---  ------                  --------------  -----         \n",
      " 0   ClientId                10000 non-null  float64       \n",
      " 1   DataExtracao            10000 non-null  datetime64[ns]\n",
      " 2   Score_Credito           10000 non-null  int64         \n",
      " 3   Estado                  10000 non-null  object        \n",
      " 4   Gênero                  10000 non-null  object        \n",
      " 5   Idade                   10000 non-null  int64         \n",
      " 6   Tempo_Cliente           10000 non-null  int64         \n",
      " 7   Limite_Credito_Mercado  10000 non-null  float64       \n",
      " 8   Qte_Categorias          10000 non-null  int64         \n",
      " 9   Usa_Cartao_Credito      10000 non-null  int64         \n",
      " 10  Programa_Fidelidade     10000 non-null  int64         \n",
      " 11  Sum_Pedidos_Acumulados  10000 non-null  float64       \n",
      " 12  DataUltimaTransacao     10000 non-null  datetime64[ns]\n",
      " 13  Churn                   10000 non-null  int64         \n",
      "dtypes: datetime64[ns](2), float64(3), int64(7), object(2)\n",
      "memory usage: 1.1+ MB\n"
     ]
    }
   ],
   "source": [
    "print(\"\\n--- Verificando os tipos de dados após a limpeza ---\")\n",
    "df.info()"
   ]
  }
 ],
 "metadata": {
  "kernelspec": {
   "display_name": ".venv",
   "language": "python",
   "name": "python3"
  },
  "language_info": {
   "codemirror_mode": {
    "name": "ipython",
    "version": 3
   },
   "file_extension": ".py",
   "mimetype": "text/x-python",
   "name": "python",
   "nbconvert_exporter": "python",
   "pygments_lexer": "ipython3",
   "version": "3.13.5"
  }
 },
 "nbformat": 4,
 "nbformat_minor": 5
}
