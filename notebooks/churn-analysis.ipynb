{
 "cells": [
  {
   "cell_type": "markdown",
   "id": "949576d0",
   "metadata": {},
   "source": [
    "### 1. Importação das bibliotecas essenciais"
   ]
  },
  {
   "cell_type": "code",
   "execution_count": 1,
   "id": "6c5d5479",
   "metadata": {},
   "outputs": [
    {
     "name": "stdout",
     "output_type": "stream",
     "text": [
      "Bibliotecas importadas com sucesso!\n"
     ]
    }
   ],
   "source": [
    "# Importando as bibliotecas\n",
    "import pandas as pd\n",
    "import plotly.express as px\n",
    "\n",
    "print(\"Bibliotecas importadas com sucesso!\")"
   ]
  },
  {
   "cell_type": "markdown",
   "id": "f1794116",
   "metadata": {},
   "source": [
    "### 2. Carregamento e limpeza inicial dos dados"
   ]
  },
  {
   "cell_type": "code",
   "execution_count": 4,
   "id": "e638fa07",
   "metadata": {},
   "outputs": [
    {
     "name": "stdout",
     "output_type": "stream",
     "text": [
      "As 5 primeiras linhas do DataFrame:\n"
     ]
    },
    {
     "data": {
      "text/html": [
       "<div>\n",
       "<style scoped>\n",
       "    .dataframe tbody tr th:only-of-type {\n",
       "        vertical-align: middle;\n",
       "    }\n",
       "\n",
       "    .dataframe tbody tr th {\n",
       "        vertical-align: top;\n",
       "    }\n",
       "\n",
       "    .dataframe thead th {\n",
       "        text-align: right;\n",
       "    }\n",
       "</style>\n",
       "<table border=\"1\" class=\"dataframe\">\n",
       "  <thead>\n",
       "    <tr style=\"text-align: right;\">\n",
       "      <th></th>\n",
       "      <th>ClientId</th>\n",
       "      <th>DataExtracao</th>\n",
       "      <th>Score_Credito</th>\n",
       "      <th>Estado</th>\n",
       "      <th>Gênero</th>\n",
       "      <th>Idade</th>\n",
       "      <th>Tempo_Cliente</th>\n",
       "      <th>Limite_Credito_Mercado</th>\n",
       "      <th>Qte_Categorias</th>\n",
       "      <th>Usa_Cartao_Credito</th>\n",
       "      <th>Programa_Fidelidade</th>\n",
       "      <th>Sum_Pedidos_Acumulados</th>\n",
       "      <th>DataUltimaTransacao</th>\n",
       "      <th>Churn</th>\n",
       "    </tr>\n",
       "  </thead>\n",
       "  <tbody>\n",
       "    <tr>\n",
       "      <th>0</th>\n",
       "      <td>345.568</td>\n",
       "      <td>2019-06-30</td>\n",
       "      <td>619</td>\n",
       "      <td>São Paulo</td>\n",
       "      <td>Feminino</td>\n",
       "      <td>42</td>\n",
       "      <td>2</td>\n",
       "      <td>0</td>\n",
       "      <td>1</td>\n",
       "      <td>1</td>\n",
       "      <td>1</td>\n",
       "      <td>422,287</td>\n",
       "      <td>2019-09-14</td>\n",
       "      <td>1</td>\n",
       "    </tr>\n",
       "    <tr>\n",
       "      <th>1</th>\n",
       "      <td>345.569</td>\n",
       "      <td>2019-06-30</td>\n",
       "      <td>608</td>\n",
       "      <td>Rio de Janeiro</td>\n",
       "      <td>Feminino</td>\n",
       "      <td>41</td>\n",
       "      <td>1</td>\n",
       "      <td>838,0786</td>\n",
       "      <td>1</td>\n",
       "      <td>0</td>\n",
       "      <td>1</td>\n",
       "      <td>468,9274166667</td>\n",
       "      <td>2019-10-05</td>\n",
       "      <td>0</td>\n",
       "    </tr>\n",
       "    <tr>\n",
       "      <th>2</th>\n",
       "      <td>345.570</td>\n",
       "      <td>2019-06-30</td>\n",
       "      <td>502</td>\n",
       "      <td>São Paulo</td>\n",
       "      <td>Feminino</td>\n",
       "      <td>42</td>\n",
       "      <td>8</td>\n",
       "      <td>1.596,608</td>\n",
       "      <td>3</td>\n",
       "      <td>1</td>\n",
       "      <td>0</td>\n",
       "      <td>474,714875</td>\n",
       "      <td>2019-08-20</td>\n",
       "      <td>1</td>\n",
       "    </tr>\n",
       "    <tr>\n",
       "      <th>3</th>\n",
       "      <td>345.571</td>\n",
       "      <td>2019-06-30</td>\n",
       "      <td>699</td>\n",
       "      <td>São Paulo</td>\n",
       "      <td>Feminino</td>\n",
       "      <td>39</td>\n",
       "      <td>1</td>\n",
       "      <td>0</td>\n",
       "      <td>2</td>\n",
       "      <td>0</td>\n",
       "      <td>0</td>\n",
       "      <td>390,9442916667</td>\n",
       "      <td>2019-10-21</td>\n",
       "      <td>0</td>\n",
       "    </tr>\n",
       "    <tr>\n",
       "      <th>4</th>\n",
       "      <td>345.572</td>\n",
       "      <td>2019-06-30</td>\n",
       "      <td>850</td>\n",
       "      <td>Rio de Janeiro</td>\n",
       "      <td>Feminino</td>\n",
       "      <td>43</td>\n",
       "      <td>2</td>\n",
       "      <td>1.255,1082</td>\n",
       "      <td>1</td>\n",
       "      <td>1</td>\n",
       "      <td>1</td>\n",
       "      <td>329,5170833333</td>\n",
       "      <td>2019-10-26</td>\n",
       "      <td>0</td>\n",
       "    </tr>\n",
       "  </tbody>\n",
       "</table>\n",
       "</div>"
      ],
      "text/plain": [
       "   ClientId DataExtracao  Score_Credito          Estado    Gênero  Idade  \\\n",
       "0   345.568   2019-06-30            619       São Paulo  Feminino     42   \n",
       "1   345.569   2019-06-30            608  Rio de Janeiro  Feminino     41   \n",
       "2   345.570   2019-06-30            502       São Paulo  Feminino     42   \n",
       "3   345.571   2019-06-30            699       São Paulo  Feminino     39   \n",
       "4   345.572   2019-06-30            850  Rio de Janeiro  Feminino     43   \n",
       "\n",
       "   Tempo_Cliente Limite_Credito_Mercado  Qte_Categorias  Usa_Cartao_Credito  \\\n",
       "0              2                      0               1                   1   \n",
       "1              1               838,0786               1                   0   \n",
       "2              8              1.596,608               3                   1   \n",
       "3              1                      0               2                   0   \n",
       "4              2             1.255,1082               1                   1   \n",
       "\n",
       "   Programa_Fidelidade Sum_Pedidos_Acumulados DataUltimaTransacao  Churn  \n",
       "0                    1                422,287          2019-09-14      1  \n",
       "1                    1         468,9274166667          2019-10-05      0  \n",
       "2                    0             474,714875          2019-08-20      1  \n",
       "3                    0         390,9442916667          2019-10-21      0  \n",
       "4                    1         329,5170833333          2019-10-26      0  "
      ]
     },
     "metadata": {},
     "output_type": "display_data"
    }
   ],
   "source": [
    "# Definindo o caminho do arquivo csv\n",
    "caminho_arquivo = '../data/raw/base_churn_preditiva_20191030.csv'\n",
    "\n",
    "# Lendo o arquivo, especificando que o separador é ';'\n",
    "df = pd.read_csv(caminho_arquivo, sep=';')\n",
    "\n",
    "print(\"As 5 primeiras linhas do DataFrame:\")\n",
    "display(df.head())"
   ]
  }
 ],
 "metadata": {
  "kernelspec": {
   "display_name": ".venv",
   "language": "python",
   "name": "python3"
  },
  "language_info": {
   "codemirror_mode": {
    "name": "ipython",
    "version": 3
   },
   "file_extension": ".py",
   "mimetype": "text/x-python",
   "name": "python",
   "nbconvert_exporter": "python",
   "pygments_lexer": "ipython3",
   "version": "3.13.5"
  }
 },
 "nbformat": 4,
 "nbformat_minor": 5
}
