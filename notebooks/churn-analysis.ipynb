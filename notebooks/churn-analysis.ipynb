{
 "cells": [
  {
   "cell_type": "markdown",
   "id": "72122cdd",
   "metadata": {},
   "source": [
    "### Fase 1: Pré-processamento e Carga dos Dados"
   ]
  },
  {
   "cell_type": "markdown",
   "id": "949576d0",
   "metadata": {},
   "source": [
    "#### 1.1 Importação das bibliotecas essenciais"
   ]
  },
  {
   "cell_type": "code",
   "execution_count": 1,
   "id": "6c5d5479",
   "metadata": {},
   "outputs": [
    {
     "name": "stdout",
     "output_type": "stream",
     "text": [
      "Bibliotecas importadas com sucesso!\n"
     ]
    }
   ],
   "source": [
    "# Importando as bibliotecas\n",
    "import pandas as pd\n",
    "import plotly.express as px\n",
    "\n",
    "print(\"Bibliotecas importadas com sucesso!\")"
   ]
  },
  {
   "cell_type": "markdown",
   "id": "f1794116",
   "metadata": {},
   "source": [
    "#### 1.2 Carregamento dos dados"
   ]
  },
  {
   "cell_type": "code",
   "execution_count": 2,
   "id": "e638fa07",
   "metadata": {},
   "outputs": [
    {
     "name": "stdout",
     "output_type": "stream",
     "text": [
      "As 5 primeiras linhas do DataFrame:\n"
     ]
    },
    {
     "data": {
      "text/html": [
       "<div>\n",
       "<style scoped>\n",
       "    .dataframe tbody tr th:only-of-type {\n",
       "        vertical-align: middle;\n",
       "    }\n",
       "\n",
       "    .dataframe tbody tr th {\n",
       "        vertical-align: top;\n",
       "    }\n",
       "\n",
       "    .dataframe thead th {\n",
       "        text-align: right;\n",
       "    }\n",
       "</style>\n",
       "<table border=\"1\" class=\"dataframe\">\n",
       "  <thead>\n",
       "    <tr style=\"text-align: right;\">\n",
       "      <th></th>\n",
       "      <th>ClientId</th>\n",
       "      <th>DataExtracao</th>\n",
       "      <th>Score_Credito</th>\n",
       "      <th>Estado</th>\n",
       "      <th>Gênero</th>\n",
       "      <th>Idade</th>\n",
       "      <th>Tempo_Cliente</th>\n",
       "      <th>Limite_Credito_Mercado</th>\n",
       "      <th>Qte_Categorias</th>\n",
       "      <th>Usa_Cartao_Credito</th>\n",
       "      <th>Programa_Fidelidade</th>\n",
       "      <th>Sum_Pedidos_Acumulados</th>\n",
       "      <th>DataUltimaTransacao</th>\n",
       "      <th>Churn</th>\n",
       "    </tr>\n",
       "  </thead>\n",
       "  <tbody>\n",
       "    <tr>\n",
       "      <th>0</th>\n",
       "      <td>345.568</td>\n",
       "      <td>2019-06-30</td>\n",
       "      <td>619</td>\n",
       "      <td>São Paulo</td>\n",
       "      <td>Feminino</td>\n",
       "      <td>42</td>\n",
       "      <td>2</td>\n",
       "      <td>0</td>\n",
       "      <td>1</td>\n",
       "      <td>1</td>\n",
       "      <td>1</td>\n",
       "      <td>422,287</td>\n",
       "      <td>2019-09-14</td>\n",
       "      <td>1</td>\n",
       "    </tr>\n",
       "    <tr>\n",
       "      <th>1</th>\n",
       "      <td>345.569</td>\n",
       "      <td>2019-06-30</td>\n",
       "      <td>608</td>\n",
       "      <td>Rio de Janeiro</td>\n",
       "      <td>Feminino</td>\n",
       "      <td>41</td>\n",
       "      <td>1</td>\n",
       "      <td>838,0786</td>\n",
       "      <td>1</td>\n",
       "      <td>0</td>\n",
       "      <td>1</td>\n",
       "      <td>468,9274166667</td>\n",
       "      <td>2019-10-05</td>\n",
       "      <td>0</td>\n",
       "    </tr>\n",
       "    <tr>\n",
       "      <th>2</th>\n",
       "      <td>345.570</td>\n",
       "      <td>2019-06-30</td>\n",
       "      <td>502</td>\n",
       "      <td>São Paulo</td>\n",
       "      <td>Feminino</td>\n",
       "      <td>42</td>\n",
       "      <td>8</td>\n",
       "      <td>1.596,608</td>\n",
       "      <td>3</td>\n",
       "      <td>1</td>\n",
       "      <td>0</td>\n",
       "      <td>474,714875</td>\n",
       "      <td>2019-08-20</td>\n",
       "      <td>1</td>\n",
       "    </tr>\n",
       "    <tr>\n",
       "      <th>3</th>\n",
       "      <td>345.571</td>\n",
       "      <td>2019-06-30</td>\n",
       "      <td>699</td>\n",
       "      <td>São Paulo</td>\n",
       "      <td>Feminino</td>\n",
       "      <td>39</td>\n",
       "      <td>1</td>\n",
       "      <td>0</td>\n",
       "      <td>2</td>\n",
       "      <td>0</td>\n",
       "      <td>0</td>\n",
       "      <td>390,9442916667</td>\n",
       "      <td>2019-10-21</td>\n",
       "      <td>0</td>\n",
       "    </tr>\n",
       "    <tr>\n",
       "      <th>4</th>\n",
       "      <td>345.572</td>\n",
       "      <td>2019-06-30</td>\n",
       "      <td>850</td>\n",
       "      <td>Rio de Janeiro</td>\n",
       "      <td>Feminino</td>\n",
       "      <td>43</td>\n",
       "      <td>2</td>\n",
       "      <td>1.255,1082</td>\n",
       "      <td>1</td>\n",
       "      <td>1</td>\n",
       "      <td>1</td>\n",
       "      <td>329,5170833333</td>\n",
       "      <td>2019-10-26</td>\n",
       "      <td>0</td>\n",
       "    </tr>\n",
       "  </tbody>\n",
       "</table>\n",
       "</div>"
      ],
      "text/plain": [
       "   ClientId DataExtracao  Score_Credito          Estado    Gênero  Idade  \\\n",
       "0   345.568   2019-06-30            619       São Paulo  Feminino     42   \n",
       "1   345.569   2019-06-30            608  Rio de Janeiro  Feminino     41   \n",
       "2   345.570   2019-06-30            502       São Paulo  Feminino     42   \n",
       "3   345.571   2019-06-30            699       São Paulo  Feminino     39   \n",
       "4   345.572   2019-06-30            850  Rio de Janeiro  Feminino     43   \n",
       "\n",
       "   Tempo_Cliente Limite_Credito_Mercado  Qte_Categorias  Usa_Cartao_Credito  \\\n",
       "0              2                      0               1                   1   \n",
       "1              1               838,0786               1                   0   \n",
       "2              8              1.596,608               3                   1   \n",
       "3              1                      0               2                   0   \n",
       "4              2             1.255,1082               1                   1   \n",
       "\n",
       "   Programa_Fidelidade Sum_Pedidos_Acumulados DataUltimaTransacao  Churn  \n",
       "0                    1                422,287          2019-09-14      1  \n",
       "1                    1         468,9274166667          2019-10-05      0  \n",
       "2                    0             474,714875          2019-08-20      1  \n",
       "3                    0         390,9442916667          2019-10-21      0  \n",
       "4                    1         329,5170833333          2019-10-26      0  "
      ]
     },
     "metadata": {},
     "output_type": "display_data"
    }
   ],
   "source": [
    "# Definindo o caminho do arquivo csv\n",
    "caminho_arquivo = '../data/raw/base_churn_preditiva_20191030.csv'\n",
    "\n",
    "# Lendo o arquivo, especificando que o separador é ';'\n",
    "df = pd.read_csv(caminho_arquivo, sep=';')\n",
    "\n",
    "print(\"As 5 primeiras linhas do DataFrame:\")\n",
    "display(df.head())"
   ]
  },
  {
   "cell_type": "markdown",
   "id": "1d8355d2",
   "metadata": {},
   "source": [
    "#### 1.3 Diagnóstico inicial dos dados"
   ]
  },
  {
   "cell_type": "code",
   "execution_count": 3,
   "id": "208d9252",
   "metadata": {},
   "outputs": [
    {
     "name": "stdout",
     "output_type": "stream",
     "text": [
      "O DataFrame possui 10000 linhas e 14 colunas.\n"
     ]
    }
   ],
   "source": [
    "# 1. Qual o tamanho do nosso dataset? (Linhas, Colunas)\n",
    "print(f\"O DataFrame possui {df.shape[0]} linhas e {df.shape[1]} colunas.\")"
   ]
  },
  {
   "cell_type": "code",
   "execution_count": 4,
   "id": "ebff72c2",
   "metadata": {},
   "outputs": [
    {
     "name": "stdout",
     "output_type": "stream",
     "text": [
      "Tipos de Dados e Contagem de Nulos por Coluna:\n",
      "<class 'pandas.core.frame.DataFrame'>\n",
      "RangeIndex: 10000 entries, 0 to 9999\n",
      "Data columns (total 14 columns):\n",
      " #   Column                  Non-Null Count  Dtype  \n",
      "---  ------                  --------------  -----  \n",
      " 0   ClientId                10000 non-null  float64\n",
      " 1   DataExtracao            10000 non-null  object \n",
      " 2   Score_Credito           10000 non-null  int64  \n",
      " 3   Estado                  10000 non-null  object \n",
      " 4   Gênero                  10000 non-null  object \n",
      " 5   Idade                   10000 non-null  int64  \n",
      " 6   Tempo_Cliente           10000 non-null  int64  \n",
      " 7   Limite_Credito_Mercado  10000 non-null  object \n",
      " 8   Qte_Categorias          10000 non-null  int64  \n",
      " 9   Usa_Cartao_Credito      10000 non-null  int64  \n",
      " 10  Programa_Fidelidade     10000 non-null  int64  \n",
      " 11  Sum_Pedidos_Acumulados  10000 non-null  object \n",
      " 12  DataUltimaTransacao     10000 non-null  object \n",
      " 13  Churn                   10000 non-null  int64  \n",
      "dtypes: float64(1), int64(7), object(6)\n",
      "memory usage: 1.1+ MB\n"
     ]
    }
   ],
   "source": [
    "# 2. Quais os tipos de dados e há valores faltando?\n",
    "print(\"Tipos de Dados e Contagem de Nulos por Coluna:\")\n",
    "df.info()"
   ]
  },
  {
   "cell_type": "code",
   "execution_count": 5,
   "id": "f85637f7",
   "metadata": {},
   "outputs": [
    {
     "name": "stdout",
     "output_type": "stream",
     "text": [
      "Estatísticas Descritivas das Variáveis Numéricas:\n"
     ]
    },
    {
     "data": {
      "text/html": [
       "<div>\n",
       "<style scoped>\n",
       "    .dataframe tbody tr th:only-of-type {\n",
       "        vertical-align: middle;\n",
       "    }\n",
       "\n",
       "    .dataframe tbody tr th {\n",
       "        vertical-align: top;\n",
       "    }\n",
       "\n",
       "    .dataframe thead th {\n",
       "        text-align: right;\n",
       "    }\n",
       "</style>\n",
       "<table border=\"1\" class=\"dataframe\">\n",
       "  <thead>\n",
       "    <tr style=\"text-align: right;\">\n",
       "      <th></th>\n",
       "      <th>ClientId</th>\n",
       "      <th>Score_Credito</th>\n",
       "      <th>Idade</th>\n",
       "      <th>Tempo_Cliente</th>\n",
       "      <th>Qte_Categorias</th>\n",
       "      <th>Usa_Cartao_Credito</th>\n",
       "      <th>Programa_Fidelidade</th>\n",
       "      <th>Churn</th>\n",
       "    </tr>\n",
       "  </thead>\n",
       "  <tbody>\n",
       "    <tr>\n",
       "      <th>count</th>\n",
       "      <td>10000.000000</td>\n",
       "      <td>10000.000000</td>\n",
       "      <td>10000.000000</td>\n",
       "      <td>10000.000000</td>\n",
       "      <td>10000.000000</td>\n",
       "      <td>10000.00000</td>\n",
       "      <td>10000.000000</td>\n",
       "      <td>10000.000000</td>\n",
       "    </tr>\n",
       "    <tr>\n",
       "      <th>mean</th>\n",
       "      <td>350.567500</td>\n",
       "      <td>650.528800</td>\n",
       "      <td>38.921800</td>\n",
       "      <td>5.012800</td>\n",
       "      <td>1.530200</td>\n",
       "      <td>0.70550</td>\n",
       "      <td>0.515100</td>\n",
       "      <td>0.201300</td>\n",
       "    </tr>\n",
       "    <tr>\n",
       "      <th>std</th>\n",
       "      <td>2.886896</td>\n",
       "      <td>96.653299</td>\n",
       "      <td>10.487806</td>\n",
       "      <td>2.892174</td>\n",
       "      <td>0.581654</td>\n",
       "      <td>0.45584</td>\n",
       "      <td>0.499797</td>\n",
       "      <td>0.400992</td>\n",
       "    </tr>\n",
       "    <tr>\n",
       "      <th>min</th>\n",
       "      <td>345.568000</td>\n",
       "      <td>350.000000</td>\n",
       "      <td>18.000000</td>\n",
       "      <td>0.000000</td>\n",
       "      <td>1.000000</td>\n",
       "      <td>0.00000</td>\n",
       "      <td>0.000000</td>\n",
       "      <td>0.000000</td>\n",
       "    </tr>\n",
       "    <tr>\n",
       "      <th>25%</th>\n",
       "      <td>348.067750</td>\n",
       "      <td>584.000000</td>\n",
       "      <td>32.000000</td>\n",
       "      <td>3.000000</td>\n",
       "      <td>1.000000</td>\n",
       "      <td>0.00000</td>\n",
       "      <td>0.000000</td>\n",
       "      <td>0.000000</td>\n",
       "    </tr>\n",
       "    <tr>\n",
       "      <th>50%</th>\n",
       "      <td>350.567500</td>\n",
       "      <td>652.000000</td>\n",
       "      <td>37.000000</td>\n",
       "      <td>5.000000</td>\n",
       "      <td>1.000000</td>\n",
       "      <td>1.00000</td>\n",
       "      <td>1.000000</td>\n",
       "      <td>0.000000</td>\n",
       "    </tr>\n",
       "    <tr>\n",
       "      <th>75%</th>\n",
       "      <td>353.067250</td>\n",
       "      <td>718.000000</td>\n",
       "      <td>44.000000</td>\n",
       "      <td>7.000000</td>\n",
       "      <td>2.000000</td>\n",
       "      <td>1.00000</td>\n",
       "      <td>1.000000</td>\n",
       "      <td>0.000000</td>\n",
       "    </tr>\n",
       "    <tr>\n",
       "      <th>max</th>\n",
       "      <td>355.567000</td>\n",
       "      <td>850.000000</td>\n",
       "      <td>92.000000</td>\n",
       "      <td>10.000000</td>\n",
       "      <td>4.000000</td>\n",
       "      <td>1.00000</td>\n",
       "      <td>1.000000</td>\n",
       "      <td>1.000000</td>\n",
       "    </tr>\n",
       "  </tbody>\n",
       "</table>\n",
       "</div>"
      ],
      "text/plain": [
       "           ClientId  Score_Credito         Idade  Tempo_Cliente  \\\n",
       "count  10000.000000   10000.000000  10000.000000   10000.000000   \n",
       "mean     350.567500     650.528800     38.921800       5.012800   \n",
       "std        2.886896      96.653299     10.487806       2.892174   \n",
       "min      345.568000     350.000000     18.000000       0.000000   \n",
       "25%      348.067750     584.000000     32.000000       3.000000   \n",
       "50%      350.567500     652.000000     37.000000       5.000000   \n",
       "75%      353.067250     718.000000     44.000000       7.000000   \n",
       "max      355.567000     850.000000     92.000000      10.000000   \n",
       "\n",
       "       Qte_Categorias  Usa_Cartao_Credito  Programa_Fidelidade         Churn  \n",
       "count    10000.000000         10000.00000         10000.000000  10000.000000  \n",
       "mean         1.530200             0.70550             0.515100      0.201300  \n",
       "std          0.581654             0.45584             0.499797      0.400992  \n",
       "min          1.000000             0.00000             0.000000      0.000000  \n",
       "25%          1.000000             0.00000             0.000000      0.000000  \n",
       "50%          1.000000             1.00000             1.000000      0.000000  \n",
       "75%          2.000000             1.00000             1.000000      0.000000  \n",
       "max          4.000000             1.00000             1.000000      1.000000  "
      ]
     },
     "metadata": {},
     "output_type": "display_data"
    }
   ],
   "source": [
    "# 3. Como as variáveis numéricas se distribuem?\n",
    "print(\"Estatísticas Descritivas das Variáveis Numéricas:\")\n",
    "display(df.describe())"
   ]
  },
  {
   "cell_type": "code",
   "execution_count": 6,
   "id": "0ae2c7ab",
   "metadata": {},
   "outputs": [
    {
     "name": "stdout",
     "output_type": "stream",
     "text": [
      "Estatísticas Descritivas das Variáveis Categóricas:\n"
     ]
    },
    {
     "data": {
      "text/html": [
       "<div>\n",
       "<style scoped>\n",
       "    .dataframe tbody tr th:only-of-type {\n",
       "        vertical-align: middle;\n",
       "    }\n",
       "\n",
       "    .dataframe tbody tr th {\n",
       "        vertical-align: top;\n",
       "    }\n",
       "\n",
       "    .dataframe thead th {\n",
       "        text-align: right;\n",
       "    }\n",
       "</style>\n",
       "<table border=\"1\" class=\"dataframe\">\n",
       "  <thead>\n",
       "    <tr style=\"text-align: right;\">\n",
       "      <th></th>\n",
       "      <th>DataExtracao</th>\n",
       "      <th>Estado</th>\n",
       "      <th>Gênero</th>\n",
       "      <th>Limite_Credito_Mercado</th>\n",
       "      <th>Sum_Pedidos_Acumulados</th>\n",
       "      <th>DataUltimaTransacao</th>\n",
       "    </tr>\n",
       "  </thead>\n",
       "  <tbody>\n",
       "    <tr>\n",
       "      <th>count</th>\n",
       "      <td>10000</td>\n",
       "      <td>10000</td>\n",
       "      <td>10000</td>\n",
       "      <td>10000</td>\n",
       "      <td>10000</td>\n",
       "      <td>10000</td>\n",
       "    </tr>\n",
       "    <tr>\n",
       "      <th>unique</th>\n",
       "      <td>1</td>\n",
       "      <td>3</td>\n",
       "      <td>2</td>\n",
       "      <td>6382</td>\n",
       "      <td>9999</td>\n",
       "      <td>122</td>\n",
       "    </tr>\n",
       "    <tr>\n",
       "      <th>top</th>\n",
       "      <td>2019-06-30</td>\n",
       "      <td>São Paulo</td>\n",
       "      <td>Masculino</td>\n",
       "      <td>0</td>\n",
       "      <td>103,8538333333</td>\n",
       "      <td>2019-10-12</td>\n",
       "    </tr>\n",
       "    <tr>\n",
       "      <th>freq</th>\n",
       "      <td>10000</td>\n",
       "      <td>5014</td>\n",
       "      <td>5457</td>\n",
       "      <td>3617</td>\n",
       "      <td>2</td>\n",
       "      <td>296</td>\n",
       "    </tr>\n",
       "  </tbody>\n",
       "</table>\n",
       "</div>"
      ],
      "text/plain": [
       "       DataExtracao     Estado     Gênero Limite_Credito_Mercado  \\\n",
       "count         10000      10000      10000                  10000   \n",
       "unique            1          3          2                   6382   \n",
       "top      2019-06-30  São Paulo  Masculino                      0   \n",
       "freq          10000       5014       5457                   3617   \n",
       "\n",
       "       Sum_Pedidos_Acumulados DataUltimaTransacao  \n",
       "count                   10000               10000  \n",
       "unique                   9999                 122  \n",
       "top            103,8538333333          2019-10-12  \n",
       "freq                        2                 296  "
      ]
     },
     "metadata": {},
     "output_type": "display_data"
    }
   ],
   "source": [
    "# 4. Como as variáveis categóricas se distribuem?\n",
    "# Selecionando apenas as colunas que são do tipo 'object' (texto)\n",
    "df_categorico = df.select_dtypes(include=\"object\")\n",
    "\n",
    "# Aplicando o describe nesse novo DataFrame filtrado\n",
    "print(\"Estatísticas Descritivas das Variáveis Categóricas:\")\n",
    "display(df_categorico.describe())"
   ]
  },
  {
   "cell_type": "markdown",
   "id": "68b207a8",
   "metadata": {},
   "source": [
    "Análise dos resultados do Diagnóstico"
   ]
  },
  {
   "cell_type": "markdown",
   "id": "9fc35576",
   "metadata": {},
   "source": [
    "- As colunas DataExtracao, Limite_Credito_Mercado, Sum_Pedidos_Acumulados e DataUltimaTransacao estão com o Dtype (tipo de dado) como object, ou seja, estão sendo tratadas como texto. Isso nos impede de fazer qualquer cálculo matemático ou análise de data com elas.\n",
    "\n",
    "- Sem Dados Faltantes: a coluna Non-Null Count mostra 10000 para todas as variáveis. Não será preciso preencher dados ausentes.\n",
    "\n",
    "- Dimensões: temos 10.000 clientes e 14 variáveis para analisar.\n",
    "\n",
    "- Idade: a idade dos clientes varia de 18 a 92 anos, com uma média de aproximadamente 39 anos.\n",
    "\n",
    "- Estado: temos clientes em 3 estados, sendo São Paulo o mais frequente.\n",
    "\n",
    "- Churn: A taxa de Churn é de 20.13% (mean de 0.2013 na coluna Churn), o que é um número bem significativo."
   ]
  },
  {
   "cell_type": "markdown",
   "id": "5b102528",
   "metadata": {},
   "source": [
    "#### 1.4 Limpeza dos dados"
   ]
  },
  {
   "cell_type": "code",
   "execution_count": 7,
   "id": "03af7a1a",
   "metadata": {},
   "outputs": [],
   "source": [
    "# Lista das colunas numéricas que precisam de correção\n",
    "cols_num_clean = [\"Limite_Credito_Mercado\", \"Sum_Pedidos_Acumulados\"]\n",
    "for col in cols_num_clean:\n",
    "    df[col] = df[col].astype(str).str.replace(\".\", \"\", regex=False)\n",
    "    df[col] = df[col].str.replace(\",\", \".\", regex=False).astype(float)"
   ]
  },
  {
   "cell_type": "code",
   "execution_count": 8,
   "id": "bc4da368",
   "metadata": {},
   "outputs": [],
   "source": [
    "# Lista das colunas de data que precisam de correção\n",
    "cols_date_clean = [\"DataExtracao\", \"DataUltimaTransacao\"]\n",
    "for col in cols_date_clean:\n",
    "    df[col] = pd.to_datetime(df[col])"
   ]
  },
  {
   "cell_type": "code",
   "execution_count": 9,
   "id": "09b75523",
   "metadata": {},
   "outputs": [
    {
     "name": "stdout",
     "output_type": "stream",
     "text": [
      "\n",
      "--- Verificando os tipos de dados após a limpeza ---\n",
      "<class 'pandas.core.frame.DataFrame'>\n",
      "RangeIndex: 10000 entries, 0 to 9999\n",
      "Data columns (total 14 columns):\n",
      " #   Column                  Non-Null Count  Dtype         \n",
      "---  ------                  --------------  -----         \n",
      " 0   ClientId                10000 non-null  float64       \n",
      " 1   DataExtracao            10000 non-null  datetime64[ns]\n",
      " 2   Score_Credito           10000 non-null  int64         \n",
      " 3   Estado                  10000 non-null  object        \n",
      " 4   Gênero                  10000 non-null  object        \n",
      " 5   Idade                   10000 non-null  int64         \n",
      " 6   Tempo_Cliente           10000 non-null  int64         \n",
      " 7   Limite_Credito_Mercado  10000 non-null  float64       \n",
      " 8   Qte_Categorias          10000 non-null  int64         \n",
      " 9   Usa_Cartao_Credito      10000 non-null  int64         \n",
      " 10  Programa_Fidelidade     10000 non-null  int64         \n",
      " 11  Sum_Pedidos_Acumulados  10000 non-null  float64       \n",
      " 12  DataUltimaTransacao     10000 non-null  datetime64[ns]\n",
      " 13  Churn                   10000 non-null  int64         \n",
      "dtypes: datetime64[ns](2), float64(3), int64(7), object(2)\n",
      "memory usage: 1.1+ MB\n"
     ]
    }
   ],
   "source": [
    "print(\"\\n--- Verificando os tipos de dados após a limpeza ---\")\n",
    "df.info()"
   ]
  },
  {
   "cell_type": "markdown",
   "id": "1838843a",
   "metadata": {},
   "source": [
    "A saída do df.info() agora parece fazer sentido:\n",
    "\n",
    "- datetime64[ns] para as datas.\n",
    "\n",
    "- float64 para os valores monetários.\n",
    "\n",
    "- object apenas para Estado and Gênero, que são de fato texto."
   ]
  },
  {
   "cell_type": "markdown",
   "id": "cdd3d0df",
   "metadata": {},
   "source": [
    "### Fase 2: Análise Exploratória de Dados (EDA)"
   ]
  },
  {
   "cell_type": "markdown",
   "id": "1f765c38",
   "metadata": {},
   "source": [
    "#### 2.1 Análise Univariada"
   ]
  },
  {
   "cell_type": "markdown",
   "id": "c601d5f7",
   "metadata": {},
   "source": [
    "O objetivo aqui é entender o perfil do nosso cliente. Vamos responder a perguntas como:\n",
    "\n",
    "- Qual é a distribuição de idade dos nossos clientes?\n",
    "\n",
    "- Como o score de crédito está distribuído?\n",
    "\n",
    "- Qual estado tem mais clientes?"
   ]
  },
  {
   "cell_type": "code",
   "execution_count": 18,
   "id": "5451876d",
   "metadata": {},
   "outputs": [
    {
     "data": {
      "text/html": [
       "<div>\n",
       "<style scoped>\n",
       "    .dataframe tbody tr th:only-of-type {\n",
       "        vertical-align: middle;\n",
       "    }\n",
       "\n",
       "    .dataframe tbody tr th {\n",
       "        vertical-align: top;\n",
       "    }\n",
       "\n",
       "    .dataframe thead th {\n",
       "        text-align: right;\n",
       "    }\n",
       "</style>\n",
       "<table border=\"1\" class=\"dataframe\">\n",
       "  <thead>\n",
       "    <tr style=\"text-align: right;\">\n",
       "      <th></th>\n",
       "      <th>Usa_Cartao_Credito</th>\n",
       "      <th>Usa_Cartao_Credito_Label</th>\n",
       "      <th>Programa_Fidelidade</th>\n",
       "      <th>Programa_Fidelidade_Label</th>\n",
       "    </tr>\n",
       "  </thead>\n",
       "  <tbody>\n",
       "    <tr>\n",
       "      <th>0</th>\n",
       "      <td>1</td>\n",
       "      <td>Cadastrou</td>\n",
       "      <td>1</td>\n",
       "      <td>Participa</td>\n",
       "    </tr>\n",
       "    <tr>\n",
       "      <th>1</th>\n",
       "      <td>0</td>\n",
       "      <td>Não cadastrou</td>\n",
       "      <td>1</td>\n",
       "      <td>Participa</td>\n",
       "    </tr>\n",
       "    <tr>\n",
       "      <th>2</th>\n",
       "      <td>1</td>\n",
       "      <td>Cadastrou</td>\n",
       "      <td>0</td>\n",
       "      <td>Não participa</td>\n",
       "    </tr>\n",
       "    <tr>\n",
       "      <th>3</th>\n",
       "      <td>0</td>\n",
       "      <td>Não cadastrou</td>\n",
       "      <td>0</td>\n",
       "      <td>Não participa</td>\n",
       "    </tr>\n",
       "    <tr>\n",
       "      <th>4</th>\n",
       "      <td>1</td>\n",
       "      <td>Cadastrou</td>\n",
       "      <td>1</td>\n",
       "      <td>Participa</td>\n",
       "    </tr>\n",
       "  </tbody>\n",
       "</table>\n",
       "</div>"
      ],
      "text/plain": [
       "   Usa_Cartao_Credito Usa_Cartao_Credito_Label  Programa_Fidelidade  \\\n",
       "0                   1                Cadastrou                    1   \n",
       "1                   0            Não cadastrou                    1   \n",
       "2                   1                Cadastrou                    0   \n",
       "3                   0            Não cadastrou                    0   \n",
       "4                   1                Cadastrou                    1   \n",
       "\n",
       "  Programa_Fidelidade_Label  \n",
       "0                 Participa  \n",
       "1                 Participa  \n",
       "2             Não participa  \n",
       "3             Não participa  \n",
       "4                 Participa  "
      ]
     },
     "metadata": {},
     "output_type": "display_data"
    }
   ],
   "source": [
    "# Mapeando valores binários (0/1) para rótulos descritivos\n",
    "\n",
    "# Mapeiando a coluna 'Usa_Cartao_Credito'\n",
    "map_cartao = {1: \"Cadastrou\", 0: \"Não cadastrou\"}\n",
    "df[\"Usa_Cartao_Credito_Label\"] = df[\"Usa_Cartao_Credito\"].map(map_cartao)\n",
    "\n",
    "# Mapeiando a coluna 'Programa_Fidelidade'\n",
    "map_fidelidade = {1: \"Participa\", 0: \"Não participa\"}\n",
    "df[\"Programa_Fidelidade_Label\"] = df[\"Programa_Fidelidade\"].map(map_fidelidade)\n",
    "\n",
    "# Exibindo as primeiras linhas para verificar a transformação\n",
    "display(\n",
    "    df[\n",
    "        [\n",
    "            \"Usa_Cartao_Credito\",\n",
    "            \"Usa_Cartao_Credito_Label\",\n",
    "            \"Programa_Fidelidade\",\n",
    "            \"Programa_Fidelidade_Label\",\n",
    "        ]\n",
    "    ].head()\n",
    ")"
   ]
  },
  {
   "cell_type": "code",
   "execution_count": 19,
   "id": "1290d155",
   "metadata": {},
   "outputs": [
    {
     "name": "stdout",
     "output_type": "stream",
     "text": [
      "\n",
      "---------- Análise da Variável: 'Estado' ----------\n",
      "Tabela de Frequência:\n"
     ]
    },
    {
     "data": {
      "text/html": [
       "<div>\n",
       "<style scoped>\n",
       "    .dataframe tbody tr th:only-of-type {\n",
       "        vertical-align: middle;\n",
       "    }\n",
       "\n",
       "    .dataframe tbody tr th {\n",
       "        vertical-align: top;\n",
       "    }\n",
       "\n",
       "    .dataframe thead th {\n",
       "        text-align: right;\n",
       "    }\n",
       "</style>\n",
       "<table border=\"1\" class=\"dataframe\">\n",
       "  <thead>\n",
       "    <tr style=\"text-align: right;\">\n",
       "      <th></th>\n",
       "      <th>Estado</th>\n",
       "      <th>Contagem</th>\n",
       "      <th>Porcentagem (%)</th>\n",
       "    </tr>\n",
       "  </thead>\n",
       "  <tbody>\n",
       "    <tr>\n",
       "      <th>0</th>\n",
       "      <td>São Paulo</td>\n",
       "      <td>5014</td>\n",
       "      <td>50.1</td>\n",
       "    </tr>\n",
       "    <tr>\n",
       "      <th>1</th>\n",
       "      <td>Minas Gerais</td>\n",
       "      <td>2509</td>\n",
       "      <td>25.1</td>\n",
       "    </tr>\n",
       "    <tr>\n",
       "      <th>2</th>\n",
       "      <td>Rio de Janeiro</td>\n",
       "      <td>2477</td>\n",
       "      <td>24.8</td>\n",
       "    </tr>\n",
       "  </tbody>\n",
       "</table>\n",
       "</div>"
      ],
      "text/plain": [
       "           Estado  Contagem  Porcentagem (%)\n",
       "0       São Paulo      5014             50.1\n",
       "1    Minas Gerais      2509             25.1\n",
       "2  Rio de Janeiro      2477             24.8"
      ]
     },
     "metadata": {},
     "output_type": "display_data"
    },
    {
     "data": {
      "application/vnd.plotly.v1+json": {
       "config": {
        "plotlyServerURL": "https://plot.ly"
       },
       "data": [
        {
         "hovertemplate": "Estado=%{x}<br>Contagem=%{y}<br>text=%{text}<extra></extra>",
         "legendgroup": "",
         "marker": {
          "color": "#636efa",
          "pattern": {
           "shape": ""
          }
         },
         "name": "",
         "orientation": "v",
         "showlegend": false,
         "text": [
          "50.1%",
          "25.1%",
          "24.8%"
         ],
         "textposition": "auto",
         "type": "bar",
         "x": [
          "São Paulo",
          "Minas Gerais",
          "Rio de Janeiro"
         ],
         "xaxis": "x",
         "y": {
          "bdata": "lhPNCa0J",
          "dtype": "i2"
         },
         "yaxis": "y"
        }
       ],
       "layout": {
        "barmode": "relative",
        "legend": {
         "tracegroupgap": 0
        },
        "template": {
         "data": {
          "bar": [
           {
            "error_x": {
             "color": "#2a3f5f"
            },
            "error_y": {
             "color": "#2a3f5f"
            },
            "marker": {
             "line": {
              "color": "#E5ECF6",
              "width": 0.5
             },
             "pattern": {
              "fillmode": "overlay",
              "size": 10,
              "solidity": 0.2
             }
            },
            "type": "bar"
           }
          ],
          "barpolar": [
           {
            "marker": {
             "line": {
              "color": "#E5ECF6",
              "width": 0.5
             },
             "pattern": {
              "fillmode": "overlay",
              "size": 10,
              "solidity": 0.2
             }
            },
            "type": "barpolar"
           }
          ],
          "carpet": [
           {
            "aaxis": {
             "endlinecolor": "#2a3f5f",
             "gridcolor": "white",
             "linecolor": "white",
             "minorgridcolor": "white",
             "startlinecolor": "#2a3f5f"
            },
            "baxis": {
             "endlinecolor": "#2a3f5f",
             "gridcolor": "white",
             "linecolor": "white",
             "minorgridcolor": "white",
             "startlinecolor": "#2a3f5f"
            },
            "type": "carpet"
           }
          ],
          "choropleth": [
           {
            "colorbar": {
             "outlinewidth": 0,
             "ticks": ""
            },
            "type": "choropleth"
           }
          ],
          "contour": [
           {
            "colorbar": {
             "outlinewidth": 0,
             "ticks": ""
            },
            "colorscale": [
             [
              0,
              "#0d0887"
             ],
             [
              0.1111111111111111,
              "#46039f"
             ],
             [
              0.2222222222222222,
              "#7201a8"
             ],
             [
              0.3333333333333333,
              "#9c179e"
             ],
             [
              0.4444444444444444,
              "#bd3786"
             ],
             [
              0.5555555555555556,
              "#d8576b"
             ],
             [
              0.6666666666666666,
              "#ed7953"
             ],
             [
              0.7777777777777778,
              "#fb9f3a"
             ],
             [
              0.8888888888888888,
              "#fdca26"
             ],
             [
              1,
              "#f0f921"
             ]
            ],
            "type": "contour"
           }
          ],
          "contourcarpet": [
           {
            "colorbar": {
             "outlinewidth": 0,
             "ticks": ""
            },
            "type": "contourcarpet"
           }
          ],
          "heatmap": [
           {
            "colorbar": {
             "outlinewidth": 0,
             "ticks": ""
            },
            "colorscale": [
             [
              0,
              "#0d0887"
             ],
             [
              0.1111111111111111,
              "#46039f"
             ],
             [
              0.2222222222222222,
              "#7201a8"
             ],
             [
              0.3333333333333333,
              "#9c179e"
             ],
             [
              0.4444444444444444,
              "#bd3786"
             ],
             [
              0.5555555555555556,
              "#d8576b"
             ],
             [
              0.6666666666666666,
              "#ed7953"
             ],
             [
              0.7777777777777778,
              "#fb9f3a"
             ],
             [
              0.8888888888888888,
              "#fdca26"
             ],
             [
              1,
              "#f0f921"
             ]
            ],
            "type": "heatmap"
           }
          ],
          "histogram": [
           {
            "marker": {
             "pattern": {
              "fillmode": "overlay",
              "size": 10,
              "solidity": 0.2
             }
            },
            "type": "histogram"
           }
          ],
          "histogram2d": [
           {
            "colorbar": {
             "outlinewidth": 0,
             "ticks": ""
            },
            "colorscale": [
             [
              0,
              "#0d0887"
             ],
             [
              0.1111111111111111,
              "#46039f"
             ],
             [
              0.2222222222222222,
              "#7201a8"
             ],
             [
              0.3333333333333333,
              "#9c179e"
             ],
             [
              0.4444444444444444,
              "#bd3786"
             ],
             [
              0.5555555555555556,
              "#d8576b"
             ],
             [
              0.6666666666666666,
              "#ed7953"
             ],
             [
              0.7777777777777778,
              "#fb9f3a"
             ],
             [
              0.8888888888888888,
              "#fdca26"
             ],
             [
              1,
              "#f0f921"
             ]
            ],
            "type": "histogram2d"
           }
          ],
          "histogram2dcontour": [
           {
            "colorbar": {
             "outlinewidth": 0,
             "ticks": ""
            },
            "colorscale": [
             [
              0,
              "#0d0887"
             ],
             [
              0.1111111111111111,
              "#46039f"
             ],
             [
              0.2222222222222222,
              "#7201a8"
             ],
             [
              0.3333333333333333,
              "#9c179e"
             ],
             [
              0.4444444444444444,
              "#bd3786"
             ],
             [
              0.5555555555555556,
              "#d8576b"
             ],
             [
              0.6666666666666666,
              "#ed7953"
             ],
             [
              0.7777777777777778,
              "#fb9f3a"
             ],
             [
              0.8888888888888888,
              "#fdca26"
             ],
             [
              1,
              "#f0f921"
             ]
            ],
            "type": "histogram2dcontour"
           }
          ],
          "mesh3d": [
           {
            "colorbar": {
             "outlinewidth": 0,
             "ticks": ""
            },
            "type": "mesh3d"
           }
          ],
          "parcoords": [
           {
            "line": {
             "colorbar": {
              "outlinewidth": 0,
              "ticks": ""
             }
            },
            "type": "parcoords"
           }
          ],
          "pie": [
           {
            "automargin": true,
            "type": "pie"
           }
          ],
          "scatter": [
           {
            "fillpattern": {
             "fillmode": "overlay",
             "size": 10,
             "solidity": 0.2
            },
            "type": "scatter"
           }
          ],
          "scatter3d": [
           {
            "line": {
             "colorbar": {
              "outlinewidth": 0,
              "ticks": ""
             }
            },
            "marker": {
             "colorbar": {
              "outlinewidth": 0,
              "ticks": ""
             }
            },
            "type": "scatter3d"
           }
          ],
          "scattercarpet": [
           {
            "marker": {
             "colorbar": {
              "outlinewidth": 0,
              "ticks": ""
             }
            },
            "type": "scattercarpet"
           }
          ],
          "scattergeo": [
           {
            "marker": {
             "colorbar": {
              "outlinewidth": 0,
              "ticks": ""
             }
            },
            "type": "scattergeo"
           }
          ],
          "scattergl": [
           {
            "marker": {
             "colorbar": {
              "outlinewidth": 0,
              "ticks": ""
             }
            },
            "type": "scattergl"
           }
          ],
          "scattermap": [
           {
            "marker": {
             "colorbar": {
              "outlinewidth": 0,
              "ticks": ""
             }
            },
            "type": "scattermap"
           }
          ],
          "scattermapbox": [
           {
            "marker": {
             "colorbar": {
              "outlinewidth": 0,
              "ticks": ""
             }
            },
            "type": "scattermapbox"
           }
          ],
          "scatterpolar": [
           {
            "marker": {
             "colorbar": {
              "outlinewidth": 0,
              "ticks": ""
             }
            },
            "type": "scatterpolar"
           }
          ],
          "scatterpolargl": [
           {
            "marker": {
             "colorbar": {
              "outlinewidth": 0,
              "ticks": ""
             }
            },
            "type": "scatterpolargl"
           }
          ],
          "scatterternary": [
           {
            "marker": {
             "colorbar": {
              "outlinewidth": 0,
              "ticks": ""
             }
            },
            "type": "scatterternary"
           }
          ],
          "surface": [
           {
            "colorbar": {
             "outlinewidth": 0,
             "ticks": ""
            },
            "colorscale": [
             [
              0,
              "#0d0887"
             ],
             [
              0.1111111111111111,
              "#46039f"
             ],
             [
              0.2222222222222222,
              "#7201a8"
             ],
             [
              0.3333333333333333,
              "#9c179e"
             ],
             [
              0.4444444444444444,
              "#bd3786"
             ],
             [
              0.5555555555555556,
              "#d8576b"
             ],
             [
              0.6666666666666666,
              "#ed7953"
             ],
             [
              0.7777777777777778,
              "#fb9f3a"
             ],
             [
              0.8888888888888888,
              "#fdca26"
             ],
             [
              1,
              "#f0f921"
             ]
            ],
            "type": "surface"
           }
          ],
          "table": [
           {
            "cells": {
             "fill": {
              "color": "#EBF0F8"
             },
             "line": {
              "color": "white"
             }
            },
            "header": {
             "fill": {
              "color": "#C8D4E3"
             },
             "line": {
              "color": "white"
             }
            },
            "type": "table"
           }
          ]
         },
         "layout": {
          "annotationdefaults": {
           "arrowcolor": "#2a3f5f",
           "arrowhead": 0,
           "arrowwidth": 1
          },
          "autotypenumbers": "strict",
          "coloraxis": {
           "colorbar": {
            "outlinewidth": 0,
            "ticks": ""
           }
          },
          "colorscale": {
           "diverging": [
            [
             0,
             "#8e0152"
            ],
            [
             0.1,
             "#c51b7d"
            ],
            [
             0.2,
             "#de77ae"
            ],
            [
             0.3,
             "#f1b6da"
            ],
            [
             0.4,
             "#fde0ef"
            ],
            [
             0.5,
             "#f7f7f7"
            ],
            [
             0.6,
             "#e6f5d0"
            ],
            [
             0.7,
             "#b8e186"
            ],
            [
             0.8,
             "#7fbc41"
            ],
            [
             0.9,
             "#4d9221"
            ],
            [
             1,
             "#276419"
            ]
           ],
           "sequential": [
            [
             0,
             "#0d0887"
            ],
            [
             0.1111111111111111,
             "#46039f"
            ],
            [
             0.2222222222222222,
             "#7201a8"
            ],
            [
             0.3333333333333333,
             "#9c179e"
            ],
            [
             0.4444444444444444,
             "#bd3786"
            ],
            [
             0.5555555555555556,
             "#d8576b"
            ],
            [
             0.6666666666666666,
             "#ed7953"
            ],
            [
             0.7777777777777778,
             "#fb9f3a"
            ],
            [
             0.8888888888888888,
             "#fdca26"
            ],
            [
             1,
             "#f0f921"
            ]
           ],
           "sequentialminus": [
            [
             0,
             "#0d0887"
            ],
            [
             0.1111111111111111,
             "#46039f"
            ],
            [
             0.2222222222222222,
             "#7201a8"
            ],
            [
             0.3333333333333333,
             "#9c179e"
            ],
            [
             0.4444444444444444,
             "#bd3786"
            ],
            [
             0.5555555555555556,
             "#d8576b"
            ],
            [
             0.6666666666666666,
             "#ed7953"
            ],
            [
             0.7777777777777778,
             "#fb9f3a"
            ],
            [
             0.8888888888888888,
             "#fdca26"
            ],
            [
             1,
             "#f0f921"
            ]
           ]
          },
          "colorway": [
           "#636efa",
           "#EF553B",
           "#00cc96",
           "#ab63fa",
           "#FFA15A",
           "#19d3f3",
           "#FF6692",
           "#B6E880",
           "#FF97FF",
           "#FECB52"
          ],
          "font": {
           "color": "#2a3f5f"
          },
          "geo": {
           "bgcolor": "white",
           "lakecolor": "white",
           "landcolor": "#E5ECF6",
           "showlakes": true,
           "showland": true,
           "subunitcolor": "white"
          },
          "hoverlabel": {
           "align": "left"
          },
          "hovermode": "closest",
          "mapbox": {
           "style": "light"
          },
          "paper_bgcolor": "white",
          "plot_bgcolor": "#E5ECF6",
          "polar": {
           "angularaxis": {
            "gridcolor": "white",
            "linecolor": "white",
            "ticks": ""
           },
           "bgcolor": "#E5ECF6",
           "radialaxis": {
            "gridcolor": "white",
            "linecolor": "white",
            "ticks": ""
           }
          },
          "scene": {
           "xaxis": {
            "backgroundcolor": "#E5ECF6",
            "gridcolor": "white",
            "gridwidth": 2,
            "linecolor": "white",
            "showbackground": true,
            "ticks": "",
            "zerolinecolor": "white"
           },
           "yaxis": {
            "backgroundcolor": "#E5ECF6",
            "gridcolor": "white",
            "gridwidth": 2,
            "linecolor": "white",
            "showbackground": true,
            "ticks": "",
            "zerolinecolor": "white"
           },
           "zaxis": {
            "backgroundcolor": "#E5ECF6",
            "gridcolor": "white",
            "gridwidth": 2,
            "linecolor": "white",
            "showbackground": true,
            "ticks": "",
            "zerolinecolor": "white"
           }
          },
          "shapedefaults": {
           "line": {
            "color": "#2a3f5f"
           }
          },
          "ternary": {
           "aaxis": {
            "gridcolor": "white",
            "linecolor": "white",
            "ticks": ""
           },
           "baxis": {
            "gridcolor": "white",
            "linecolor": "white",
            "ticks": ""
           },
           "bgcolor": "#E5ECF6",
           "caxis": {
            "gridcolor": "white",
            "linecolor": "white",
            "ticks": ""
           }
          },
          "title": {
           "x": 0.05
          },
          "xaxis": {
           "automargin": true,
           "gridcolor": "white",
           "linecolor": "white",
           "ticks": "",
           "title": {
            "standoff": 15
           },
           "zerolinecolor": "white",
           "zerolinewidth": 2
          },
          "yaxis": {
           "automargin": true,
           "gridcolor": "white",
           "linecolor": "white",
           "ticks": "",
           "title": {
            "standoff": 15
           },
           "zerolinecolor": "white",
           "zerolinewidth": 2
          }
         }
        },
        "title": {
         "text": "Distribuição da Variável \"Estado\""
        },
        "xaxis": {
         "anchor": "y",
         "domain": [
          0,
          1
         ],
         "title": {
          "text": "Estado"
         }
        },
        "yaxis": {
         "anchor": "x",
         "domain": [
          0,
          1
         ],
         "title": {
          "text": "Contagem"
         }
        }
       }
      }
     },
     "metadata": {},
     "output_type": "display_data"
    },
    {
     "name": "stdout",
     "output_type": "stream",
     "text": [
      "\n",
      "---------- Análise da Variável: 'Gênero' ----------\n",
      "Tabela de Frequência:\n"
     ]
    },
    {
     "data": {
      "text/html": [
       "<div>\n",
       "<style scoped>\n",
       "    .dataframe tbody tr th:only-of-type {\n",
       "        vertical-align: middle;\n",
       "    }\n",
       "\n",
       "    .dataframe tbody tr th {\n",
       "        vertical-align: top;\n",
       "    }\n",
       "\n",
       "    .dataframe thead th {\n",
       "        text-align: right;\n",
       "    }\n",
       "</style>\n",
       "<table border=\"1\" class=\"dataframe\">\n",
       "  <thead>\n",
       "    <tr style=\"text-align: right;\">\n",
       "      <th></th>\n",
       "      <th>Gênero</th>\n",
       "      <th>Contagem</th>\n",
       "      <th>Porcentagem (%)</th>\n",
       "    </tr>\n",
       "  </thead>\n",
       "  <tbody>\n",
       "    <tr>\n",
       "      <th>0</th>\n",
       "      <td>Masculino</td>\n",
       "      <td>5457</td>\n",
       "      <td>54.6</td>\n",
       "    </tr>\n",
       "    <tr>\n",
       "      <th>1</th>\n",
       "      <td>Feminino</td>\n",
       "      <td>4543</td>\n",
       "      <td>45.4</td>\n",
       "    </tr>\n",
       "  </tbody>\n",
       "</table>\n",
       "</div>"
      ],
      "text/plain": [
       "      Gênero  Contagem  Porcentagem (%)\n",
       "0  Masculino      5457             54.6\n",
       "1   Feminino      4543             45.4"
      ]
     },
     "metadata": {},
     "output_type": "display_data"
    },
    {
     "data": {
      "application/vnd.plotly.v1+json": {
       "config": {
        "plotlyServerURL": "https://plot.ly"
       },
       "data": [
        {
         "hovertemplate": "Gênero=%{x}<br>Contagem=%{y}<br>text=%{text}<extra></extra>",
         "legendgroup": "",
         "marker": {
          "color": "#636efa",
          "pattern": {
           "shape": ""
          }
         },
         "name": "",
         "orientation": "v",
         "showlegend": false,
         "text": [
          "54.6%",
          "45.4%"
         ],
         "textposition": "auto",
         "type": "bar",
         "x": [
          "Masculino",
          "Feminino"
         ],
         "xaxis": "x",
         "y": {
          "bdata": "URW/EQ==",
          "dtype": "i2"
         },
         "yaxis": "y"
        }
       ],
       "layout": {
        "barmode": "relative",
        "legend": {
         "tracegroupgap": 0
        },
        "template": {
         "data": {
          "bar": [
           {
            "error_x": {
             "color": "#2a3f5f"
            },
            "error_y": {
             "color": "#2a3f5f"
            },
            "marker": {
             "line": {
              "color": "#E5ECF6",
              "width": 0.5
             },
             "pattern": {
              "fillmode": "overlay",
              "size": 10,
              "solidity": 0.2
             }
            },
            "type": "bar"
           }
          ],
          "barpolar": [
           {
            "marker": {
             "line": {
              "color": "#E5ECF6",
              "width": 0.5
             },
             "pattern": {
              "fillmode": "overlay",
              "size": 10,
              "solidity": 0.2
             }
            },
            "type": "barpolar"
           }
          ],
          "carpet": [
           {
            "aaxis": {
             "endlinecolor": "#2a3f5f",
             "gridcolor": "white",
             "linecolor": "white",
             "minorgridcolor": "white",
             "startlinecolor": "#2a3f5f"
            },
            "baxis": {
             "endlinecolor": "#2a3f5f",
             "gridcolor": "white",
             "linecolor": "white",
             "minorgridcolor": "white",
             "startlinecolor": "#2a3f5f"
            },
            "type": "carpet"
           }
          ],
          "choropleth": [
           {
            "colorbar": {
             "outlinewidth": 0,
             "ticks": ""
            },
            "type": "choropleth"
           }
          ],
          "contour": [
           {
            "colorbar": {
             "outlinewidth": 0,
             "ticks": ""
            },
            "colorscale": [
             [
              0,
              "#0d0887"
             ],
             [
              0.1111111111111111,
              "#46039f"
             ],
             [
              0.2222222222222222,
              "#7201a8"
             ],
             [
              0.3333333333333333,
              "#9c179e"
             ],
             [
              0.4444444444444444,
              "#bd3786"
             ],
             [
              0.5555555555555556,
              "#d8576b"
             ],
             [
              0.6666666666666666,
              "#ed7953"
             ],
             [
              0.7777777777777778,
              "#fb9f3a"
             ],
             [
              0.8888888888888888,
              "#fdca26"
             ],
             [
              1,
              "#f0f921"
             ]
            ],
            "type": "contour"
           }
          ],
          "contourcarpet": [
           {
            "colorbar": {
             "outlinewidth": 0,
             "ticks": ""
            },
            "type": "contourcarpet"
           }
          ],
          "heatmap": [
           {
            "colorbar": {
             "outlinewidth": 0,
             "ticks": ""
            },
            "colorscale": [
             [
              0,
              "#0d0887"
             ],
             [
              0.1111111111111111,
              "#46039f"
             ],
             [
              0.2222222222222222,
              "#7201a8"
             ],
             [
              0.3333333333333333,
              "#9c179e"
             ],
             [
              0.4444444444444444,
              "#bd3786"
             ],
             [
              0.5555555555555556,
              "#d8576b"
             ],
             [
              0.6666666666666666,
              "#ed7953"
             ],
             [
              0.7777777777777778,
              "#fb9f3a"
             ],
             [
              0.8888888888888888,
              "#fdca26"
             ],
             [
              1,
              "#f0f921"
             ]
            ],
            "type": "heatmap"
           }
          ],
          "histogram": [
           {
            "marker": {
             "pattern": {
              "fillmode": "overlay",
              "size": 10,
              "solidity": 0.2
             }
            },
            "type": "histogram"
           }
          ],
          "histogram2d": [
           {
            "colorbar": {
             "outlinewidth": 0,
             "ticks": ""
            },
            "colorscale": [
             [
              0,
              "#0d0887"
             ],
             [
              0.1111111111111111,
              "#46039f"
             ],
             [
              0.2222222222222222,
              "#7201a8"
             ],
             [
              0.3333333333333333,
              "#9c179e"
             ],
             [
              0.4444444444444444,
              "#bd3786"
             ],
             [
              0.5555555555555556,
              "#d8576b"
             ],
             [
              0.6666666666666666,
              "#ed7953"
             ],
             [
              0.7777777777777778,
              "#fb9f3a"
             ],
             [
              0.8888888888888888,
              "#fdca26"
             ],
             [
              1,
              "#f0f921"
             ]
            ],
            "type": "histogram2d"
           }
          ],
          "histogram2dcontour": [
           {
            "colorbar": {
             "outlinewidth": 0,
             "ticks": ""
            },
            "colorscale": [
             [
              0,
              "#0d0887"
             ],
             [
              0.1111111111111111,
              "#46039f"
             ],
             [
              0.2222222222222222,
              "#7201a8"
             ],
             [
              0.3333333333333333,
              "#9c179e"
             ],
             [
              0.4444444444444444,
              "#bd3786"
             ],
             [
              0.5555555555555556,
              "#d8576b"
             ],
             [
              0.6666666666666666,
              "#ed7953"
             ],
             [
              0.7777777777777778,
              "#fb9f3a"
             ],
             [
              0.8888888888888888,
              "#fdca26"
             ],
             [
              1,
              "#f0f921"
             ]
            ],
            "type": "histogram2dcontour"
           }
          ],
          "mesh3d": [
           {
            "colorbar": {
             "outlinewidth": 0,
             "ticks": ""
            },
            "type": "mesh3d"
           }
          ],
          "parcoords": [
           {
            "line": {
             "colorbar": {
              "outlinewidth": 0,
              "ticks": ""
             }
            },
            "type": "parcoords"
           }
          ],
          "pie": [
           {
            "automargin": true,
            "type": "pie"
           }
          ],
          "scatter": [
           {
            "fillpattern": {
             "fillmode": "overlay",
             "size": 10,
             "solidity": 0.2
            },
            "type": "scatter"
           }
          ],
          "scatter3d": [
           {
            "line": {
             "colorbar": {
              "outlinewidth": 0,
              "ticks": ""
             }
            },
            "marker": {
             "colorbar": {
              "outlinewidth": 0,
              "ticks": ""
             }
            },
            "type": "scatter3d"
           }
          ],
          "scattercarpet": [
           {
            "marker": {
             "colorbar": {
              "outlinewidth": 0,
              "ticks": ""
             }
            },
            "type": "scattercarpet"
           }
          ],
          "scattergeo": [
           {
            "marker": {
             "colorbar": {
              "outlinewidth": 0,
              "ticks": ""
             }
            },
            "type": "scattergeo"
           }
          ],
          "scattergl": [
           {
            "marker": {
             "colorbar": {
              "outlinewidth": 0,
              "ticks": ""
             }
            },
            "type": "scattergl"
           }
          ],
          "scattermap": [
           {
            "marker": {
             "colorbar": {
              "outlinewidth": 0,
              "ticks": ""
             }
            },
            "type": "scattermap"
           }
          ],
          "scattermapbox": [
           {
            "marker": {
             "colorbar": {
              "outlinewidth": 0,
              "ticks": ""
             }
            },
            "type": "scattermapbox"
           }
          ],
          "scatterpolar": [
           {
            "marker": {
             "colorbar": {
              "outlinewidth": 0,
              "ticks": ""
             }
            },
            "type": "scatterpolar"
           }
          ],
          "scatterpolargl": [
           {
            "marker": {
             "colorbar": {
              "outlinewidth": 0,
              "ticks": ""
             }
            },
            "type": "scatterpolargl"
           }
          ],
          "scatterternary": [
           {
            "marker": {
             "colorbar": {
              "outlinewidth": 0,
              "ticks": ""
             }
            },
            "type": "scatterternary"
           }
          ],
          "surface": [
           {
            "colorbar": {
             "outlinewidth": 0,
             "ticks": ""
            },
            "colorscale": [
             [
              0,
              "#0d0887"
             ],
             [
              0.1111111111111111,
              "#46039f"
             ],
             [
              0.2222222222222222,
              "#7201a8"
             ],
             [
              0.3333333333333333,
              "#9c179e"
             ],
             [
              0.4444444444444444,
              "#bd3786"
             ],
             [
              0.5555555555555556,
              "#d8576b"
             ],
             [
              0.6666666666666666,
              "#ed7953"
             ],
             [
              0.7777777777777778,
              "#fb9f3a"
             ],
             [
              0.8888888888888888,
              "#fdca26"
             ],
             [
              1,
              "#f0f921"
             ]
            ],
            "type": "surface"
           }
          ],
          "table": [
           {
            "cells": {
             "fill": {
              "color": "#EBF0F8"
             },
             "line": {
              "color": "white"
             }
            },
            "header": {
             "fill": {
              "color": "#C8D4E3"
             },
             "line": {
              "color": "white"
             }
            },
            "type": "table"
           }
          ]
         },
         "layout": {
          "annotationdefaults": {
           "arrowcolor": "#2a3f5f",
           "arrowhead": 0,
           "arrowwidth": 1
          },
          "autotypenumbers": "strict",
          "coloraxis": {
           "colorbar": {
            "outlinewidth": 0,
            "ticks": ""
           }
          },
          "colorscale": {
           "diverging": [
            [
             0,
             "#8e0152"
            ],
            [
             0.1,
             "#c51b7d"
            ],
            [
             0.2,
             "#de77ae"
            ],
            [
             0.3,
             "#f1b6da"
            ],
            [
             0.4,
             "#fde0ef"
            ],
            [
             0.5,
             "#f7f7f7"
            ],
            [
             0.6,
             "#e6f5d0"
            ],
            [
             0.7,
             "#b8e186"
            ],
            [
             0.8,
             "#7fbc41"
            ],
            [
             0.9,
             "#4d9221"
            ],
            [
             1,
             "#276419"
            ]
           ],
           "sequential": [
            [
             0,
             "#0d0887"
            ],
            [
             0.1111111111111111,
             "#46039f"
            ],
            [
             0.2222222222222222,
             "#7201a8"
            ],
            [
             0.3333333333333333,
             "#9c179e"
            ],
            [
             0.4444444444444444,
             "#bd3786"
            ],
            [
             0.5555555555555556,
             "#d8576b"
            ],
            [
             0.6666666666666666,
             "#ed7953"
            ],
            [
             0.7777777777777778,
             "#fb9f3a"
            ],
            [
             0.8888888888888888,
             "#fdca26"
            ],
            [
             1,
             "#f0f921"
            ]
           ],
           "sequentialminus": [
            [
             0,
             "#0d0887"
            ],
            [
             0.1111111111111111,
             "#46039f"
            ],
            [
             0.2222222222222222,
             "#7201a8"
            ],
            [
             0.3333333333333333,
             "#9c179e"
            ],
            [
             0.4444444444444444,
             "#bd3786"
            ],
            [
             0.5555555555555556,
             "#d8576b"
            ],
            [
             0.6666666666666666,
             "#ed7953"
            ],
            [
             0.7777777777777778,
             "#fb9f3a"
            ],
            [
             0.8888888888888888,
             "#fdca26"
            ],
            [
             1,
             "#f0f921"
            ]
           ]
          },
          "colorway": [
           "#636efa",
           "#EF553B",
           "#00cc96",
           "#ab63fa",
           "#FFA15A",
           "#19d3f3",
           "#FF6692",
           "#B6E880",
           "#FF97FF",
           "#FECB52"
          ],
          "font": {
           "color": "#2a3f5f"
          },
          "geo": {
           "bgcolor": "white",
           "lakecolor": "white",
           "landcolor": "#E5ECF6",
           "showlakes": true,
           "showland": true,
           "subunitcolor": "white"
          },
          "hoverlabel": {
           "align": "left"
          },
          "hovermode": "closest",
          "mapbox": {
           "style": "light"
          },
          "paper_bgcolor": "white",
          "plot_bgcolor": "#E5ECF6",
          "polar": {
           "angularaxis": {
            "gridcolor": "white",
            "linecolor": "white",
            "ticks": ""
           },
           "bgcolor": "#E5ECF6",
           "radialaxis": {
            "gridcolor": "white",
            "linecolor": "white",
            "ticks": ""
           }
          },
          "scene": {
           "xaxis": {
            "backgroundcolor": "#E5ECF6",
            "gridcolor": "white",
            "gridwidth": 2,
            "linecolor": "white",
            "showbackground": true,
            "ticks": "",
            "zerolinecolor": "white"
           },
           "yaxis": {
            "backgroundcolor": "#E5ECF6",
            "gridcolor": "white",
            "gridwidth": 2,
            "linecolor": "white",
            "showbackground": true,
            "ticks": "",
            "zerolinecolor": "white"
           },
           "zaxis": {
            "backgroundcolor": "#E5ECF6",
            "gridcolor": "white",
            "gridwidth": 2,
            "linecolor": "white",
            "showbackground": true,
            "ticks": "",
            "zerolinecolor": "white"
           }
          },
          "shapedefaults": {
           "line": {
            "color": "#2a3f5f"
           }
          },
          "ternary": {
           "aaxis": {
            "gridcolor": "white",
            "linecolor": "white",
            "ticks": ""
           },
           "baxis": {
            "gridcolor": "white",
            "linecolor": "white",
            "ticks": ""
           },
           "bgcolor": "#E5ECF6",
           "caxis": {
            "gridcolor": "white",
            "linecolor": "white",
            "ticks": ""
           }
          },
          "title": {
           "x": 0.05
          },
          "xaxis": {
           "automargin": true,
           "gridcolor": "white",
           "linecolor": "white",
           "ticks": "",
           "title": {
            "standoff": 15
           },
           "zerolinecolor": "white",
           "zerolinewidth": 2
          },
          "yaxis": {
           "automargin": true,
           "gridcolor": "white",
           "linecolor": "white",
           "ticks": "",
           "title": {
            "standoff": 15
           },
           "zerolinecolor": "white",
           "zerolinewidth": 2
          }
         }
        },
        "title": {
         "text": "Distribuição da Variável \"Gênero\""
        },
        "xaxis": {
         "anchor": "y",
         "domain": [
          0,
          1
         ],
         "title": {
          "text": "Gênero"
         }
        },
        "yaxis": {
         "anchor": "x",
         "domain": [
          0,
          1
         ],
         "title": {
          "text": "Contagem"
         }
        }
       }
      }
     },
     "metadata": {},
     "output_type": "display_data"
    },
    {
     "name": "stdout",
     "output_type": "stream",
     "text": [
      "\n",
      "---------- Análise da Variável: 'Usa_Cartao_Credito_Label' ----------\n",
      "Tabela de Frequência:\n"
     ]
    },
    {
     "data": {
      "text/html": [
       "<div>\n",
       "<style scoped>\n",
       "    .dataframe tbody tr th:only-of-type {\n",
       "        vertical-align: middle;\n",
       "    }\n",
       "\n",
       "    .dataframe tbody tr th {\n",
       "        vertical-align: top;\n",
       "    }\n",
       "\n",
       "    .dataframe thead th {\n",
       "        text-align: right;\n",
       "    }\n",
       "</style>\n",
       "<table border=\"1\" class=\"dataframe\">\n",
       "  <thead>\n",
       "    <tr style=\"text-align: right;\">\n",
       "      <th></th>\n",
       "      <th>Usa_Cartao_Credito_Label</th>\n",
       "      <th>Contagem</th>\n",
       "      <th>Porcentagem (%)</th>\n",
       "    </tr>\n",
       "  </thead>\n",
       "  <tbody>\n",
       "    <tr>\n",
       "      <th>0</th>\n",
       "      <td>Cadastrou</td>\n",
       "      <td>7055</td>\n",
       "      <td>70.6</td>\n",
       "    </tr>\n",
       "    <tr>\n",
       "      <th>1</th>\n",
       "      <td>Não cadastrou</td>\n",
       "      <td>2945</td>\n",
       "      <td>29.4</td>\n",
       "    </tr>\n",
       "  </tbody>\n",
       "</table>\n",
       "</div>"
      ],
      "text/plain": [
       "  Usa_Cartao_Credito_Label  Contagem  Porcentagem (%)\n",
       "0                Cadastrou      7055             70.6\n",
       "1            Não cadastrou      2945             29.4"
      ]
     },
     "metadata": {},
     "output_type": "display_data"
    },
    {
     "data": {
      "application/vnd.plotly.v1+json": {
       "config": {
        "plotlyServerURL": "https://plot.ly"
       },
       "data": [
        {
         "hovertemplate": "Usa_Cartao_Credito_Label=%{x}<br>Contagem=%{y}<br>text=%{text}<extra></extra>",
         "legendgroup": "",
         "marker": {
          "color": "#636efa",
          "pattern": {
           "shape": ""
          }
         },
         "name": "",
         "orientation": "v",
         "showlegend": false,
         "text": [
          "70.6%",
          "29.4%"
         ],
         "textposition": "auto",
         "type": "bar",
         "x": [
          "Cadastrou",
          "Não cadastrou"
         ],
         "xaxis": "x",
         "y": {
          "bdata": "jxuBCw==",
          "dtype": "i2"
         },
         "yaxis": "y"
        }
       ],
       "layout": {
        "barmode": "relative",
        "legend": {
         "tracegroupgap": 0
        },
        "template": {
         "data": {
          "bar": [
           {
            "error_x": {
             "color": "#2a3f5f"
            },
            "error_y": {
             "color": "#2a3f5f"
            },
            "marker": {
             "line": {
              "color": "#E5ECF6",
              "width": 0.5
             },
             "pattern": {
              "fillmode": "overlay",
              "size": 10,
              "solidity": 0.2
             }
            },
            "type": "bar"
           }
          ],
          "barpolar": [
           {
            "marker": {
             "line": {
              "color": "#E5ECF6",
              "width": 0.5
             },
             "pattern": {
              "fillmode": "overlay",
              "size": 10,
              "solidity": 0.2
             }
            },
            "type": "barpolar"
           }
          ],
          "carpet": [
           {
            "aaxis": {
             "endlinecolor": "#2a3f5f",
             "gridcolor": "white",
             "linecolor": "white",
             "minorgridcolor": "white",
             "startlinecolor": "#2a3f5f"
            },
            "baxis": {
             "endlinecolor": "#2a3f5f",
             "gridcolor": "white",
             "linecolor": "white",
             "minorgridcolor": "white",
             "startlinecolor": "#2a3f5f"
            },
            "type": "carpet"
           }
          ],
          "choropleth": [
           {
            "colorbar": {
             "outlinewidth": 0,
             "ticks": ""
            },
            "type": "choropleth"
           }
          ],
          "contour": [
           {
            "colorbar": {
             "outlinewidth": 0,
             "ticks": ""
            },
            "colorscale": [
             [
              0,
              "#0d0887"
             ],
             [
              0.1111111111111111,
              "#46039f"
             ],
             [
              0.2222222222222222,
              "#7201a8"
             ],
             [
              0.3333333333333333,
              "#9c179e"
             ],
             [
              0.4444444444444444,
              "#bd3786"
             ],
             [
              0.5555555555555556,
              "#d8576b"
             ],
             [
              0.6666666666666666,
              "#ed7953"
             ],
             [
              0.7777777777777778,
              "#fb9f3a"
             ],
             [
              0.8888888888888888,
              "#fdca26"
             ],
             [
              1,
              "#f0f921"
             ]
            ],
            "type": "contour"
           }
          ],
          "contourcarpet": [
           {
            "colorbar": {
             "outlinewidth": 0,
             "ticks": ""
            },
            "type": "contourcarpet"
           }
          ],
          "heatmap": [
           {
            "colorbar": {
             "outlinewidth": 0,
             "ticks": ""
            },
            "colorscale": [
             [
              0,
              "#0d0887"
             ],
             [
              0.1111111111111111,
              "#46039f"
             ],
             [
              0.2222222222222222,
              "#7201a8"
             ],
             [
              0.3333333333333333,
              "#9c179e"
             ],
             [
              0.4444444444444444,
              "#bd3786"
             ],
             [
              0.5555555555555556,
              "#d8576b"
             ],
             [
              0.6666666666666666,
              "#ed7953"
             ],
             [
              0.7777777777777778,
              "#fb9f3a"
             ],
             [
              0.8888888888888888,
              "#fdca26"
             ],
             [
              1,
              "#f0f921"
             ]
            ],
            "type": "heatmap"
           }
          ],
          "histogram": [
           {
            "marker": {
             "pattern": {
              "fillmode": "overlay",
              "size": 10,
              "solidity": 0.2
             }
            },
            "type": "histogram"
           }
          ],
          "histogram2d": [
           {
            "colorbar": {
             "outlinewidth": 0,
             "ticks": ""
            },
            "colorscale": [
             [
              0,
              "#0d0887"
             ],
             [
              0.1111111111111111,
              "#46039f"
             ],
             [
              0.2222222222222222,
              "#7201a8"
             ],
             [
              0.3333333333333333,
              "#9c179e"
             ],
             [
              0.4444444444444444,
              "#bd3786"
             ],
             [
              0.5555555555555556,
              "#d8576b"
             ],
             [
              0.6666666666666666,
              "#ed7953"
             ],
             [
              0.7777777777777778,
              "#fb9f3a"
             ],
             [
              0.8888888888888888,
              "#fdca26"
             ],
             [
              1,
              "#f0f921"
             ]
            ],
            "type": "histogram2d"
           }
          ],
          "histogram2dcontour": [
           {
            "colorbar": {
             "outlinewidth": 0,
             "ticks": ""
            },
            "colorscale": [
             [
              0,
              "#0d0887"
             ],
             [
              0.1111111111111111,
              "#46039f"
             ],
             [
              0.2222222222222222,
              "#7201a8"
             ],
             [
              0.3333333333333333,
              "#9c179e"
             ],
             [
              0.4444444444444444,
              "#bd3786"
             ],
             [
              0.5555555555555556,
              "#d8576b"
             ],
             [
              0.6666666666666666,
              "#ed7953"
             ],
             [
              0.7777777777777778,
              "#fb9f3a"
             ],
             [
              0.8888888888888888,
              "#fdca26"
             ],
             [
              1,
              "#f0f921"
             ]
            ],
            "type": "histogram2dcontour"
           }
          ],
          "mesh3d": [
           {
            "colorbar": {
             "outlinewidth": 0,
             "ticks": ""
            },
            "type": "mesh3d"
           }
          ],
          "parcoords": [
           {
            "line": {
             "colorbar": {
              "outlinewidth": 0,
              "ticks": ""
             }
            },
            "type": "parcoords"
           }
          ],
          "pie": [
           {
            "automargin": true,
            "type": "pie"
           }
          ],
          "scatter": [
           {
            "fillpattern": {
             "fillmode": "overlay",
             "size": 10,
             "solidity": 0.2
            },
            "type": "scatter"
           }
          ],
          "scatter3d": [
           {
            "line": {
             "colorbar": {
              "outlinewidth": 0,
              "ticks": ""
             }
            },
            "marker": {
             "colorbar": {
              "outlinewidth": 0,
              "ticks": ""
             }
            },
            "type": "scatter3d"
           }
          ],
          "scattercarpet": [
           {
            "marker": {
             "colorbar": {
              "outlinewidth": 0,
              "ticks": ""
             }
            },
            "type": "scattercarpet"
           }
          ],
          "scattergeo": [
           {
            "marker": {
             "colorbar": {
              "outlinewidth": 0,
              "ticks": ""
             }
            },
            "type": "scattergeo"
           }
          ],
          "scattergl": [
           {
            "marker": {
             "colorbar": {
              "outlinewidth": 0,
              "ticks": ""
             }
            },
            "type": "scattergl"
           }
          ],
          "scattermap": [
           {
            "marker": {
             "colorbar": {
              "outlinewidth": 0,
              "ticks": ""
             }
            },
            "type": "scattermap"
           }
          ],
          "scattermapbox": [
           {
            "marker": {
             "colorbar": {
              "outlinewidth": 0,
              "ticks": ""
             }
            },
            "type": "scattermapbox"
           }
          ],
          "scatterpolar": [
           {
            "marker": {
             "colorbar": {
              "outlinewidth": 0,
              "ticks": ""
             }
            },
            "type": "scatterpolar"
           }
          ],
          "scatterpolargl": [
           {
            "marker": {
             "colorbar": {
              "outlinewidth": 0,
              "ticks": ""
             }
            },
            "type": "scatterpolargl"
           }
          ],
          "scatterternary": [
           {
            "marker": {
             "colorbar": {
              "outlinewidth": 0,
              "ticks": ""
             }
            },
            "type": "scatterternary"
           }
          ],
          "surface": [
           {
            "colorbar": {
             "outlinewidth": 0,
             "ticks": ""
            },
            "colorscale": [
             [
              0,
              "#0d0887"
             ],
             [
              0.1111111111111111,
              "#46039f"
             ],
             [
              0.2222222222222222,
              "#7201a8"
             ],
             [
              0.3333333333333333,
              "#9c179e"
             ],
             [
              0.4444444444444444,
              "#bd3786"
             ],
             [
              0.5555555555555556,
              "#d8576b"
             ],
             [
              0.6666666666666666,
              "#ed7953"
             ],
             [
              0.7777777777777778,
              "#fb9f3a"
             ],
             [
              0.8888888888888888,
              "#fdca26"
             ],
             [
              1,
              "#f0f921"
             ]
            ],
            "type": "surface"
           }
          ],
          "table": [
           {
            "cells": {
             "fill": {
              "color": "#EBF0F8"
             },
             "line": {
              "color": "white"
             }
            },
            "header": {
             "fill": {
              "color": "#C8D4E3"
             },
             "line": {
              "color": "white"
             }
            },
            "type": "table"
           }
          ]
         },
         "layout": {
          "annotationdefaults": {
           "arrowcolor": "#2a3f5f",
           "arrowhead": 0,
           "arrowwidth": 1
          },
          "autotypenumbers": "strict",
          "coloraxis": {
           "colorbar": {
            "outlinewidth": 0,
            "ticks": ""
           }
          },
          "colorscale": {
           "diverging": [
            [
             0,
             "#8e0152"
            ],
            [
             0.1,
             "#c51b7d"
            ],
            [
             0.2,
             "#de77ae"
            ],
            [
             0.3,
             "#f1b6da"
            ],
            [
             0.4,
             "#fde0ef"
            ],
            [
             0.5,
             "#f7f7f7"
            ],
            [
             0.6,
             "#e6f5d0"
            ],
            [
             0.7,
             "#b8e186"
            ],
            [
             0.8,
             "#7fbc41"
            ],
            [
             0.9,
             "#4d9221"
            ],
            [
             1,
             "#276419"
            ]
           ],
           "sequential": [
            [
             0,
             "#0d0887"
            ],
            [
             0.1111111111111111,
             "#46039f"
            ],
            [
             0.2222222222222222,
             "#7201a8"
            ],
            [
             0.3333333333333333,
             "#9c179e"
            ],
            [
             0.4444444444444444,
             "#bd3786"
            ],
            [
             0.5555555555555556,
             "#d8576b"
            ],
            [
             0.6666666666666666,
             "#ed7953"
            ],
            [
             0.7777777777777778,
             "#fb9f3a"
            ],
            [
             0.8888888888888888,
             "#fdca26"
            ],
            [
             1,
             "#f0f921"
            ]
           ],
           "sequentialminus": [
            [
             0,
             "#0d0887"
            ],
            [
             0.1111111111111111,
             "#46039f"
            ],
            [
             0.2222222222222222,
             "#7201a8"
            ],
            [
             0.3333333333333333,
             "#9c179e"
            ],
            [
             0.4444444444444444,
             "#bd3786"
            ],
            [
             0.5555555555555556,
             "#d8576b"
            ],
            [
             0.6666666666666666,
             "#ed7953"
            ],
            [
             0.7777777777777778,
             "#fb9f3a"
            ],
            [
             0.8888888888888888,
             "#fdca26"
            ],
            [
             1,
             "#f0f921"
            ]
           ]
          },
          "colorway": [
           "#636efa",
           "#EF553B",
           "#00cc96",
           "#ab63fa",
           "#FFA15A",
           "#19d3f3",
           "#FF6692",
           "#B6E880",
           "#FF97FF",
           "#FECB52"
          ],
          "font": {
           "color": "#2a3f5f"
          },
          "geo": {
           "bgcolor": "white",
           "lakecolor": "white",
           "landcolor": "#E5ECF6",
           "showlakes": true,
           "showland": true,
           "subunitcolor": "white"
          },
          "hoverlabel": {
           "align": "left"
          },
          "hovermode": "closest",
          "mapbox": {
           "style": "light"
          },
          "paper_bgcolor": "white",
          "plot_bgcolor": "#E5ECF6",
          "polar": {
           "angularaxis": {
            "gridcolor": "white",
            "linecolor": "white",
            "ticks": ""
           },
           "bgcolor": "#E5ECF6",
           "radialaxis": {
            "gridcolor": "white",
            "linecolor": "white",
            "ticks": ""
           }
          },
          "scene": {
           "xaxis": {
            "backgroundcolor": "#E5ECF6",
            "gridcolor": "white",
            "gridwidth": 2,
            "linecolor": "white",
            "showbackground": true,
            "ticks": "",
            "zerolinecolor": "white"
           },
           "yaxis": {
            "backgroundcolor": "#E5ECF6",
            "gridcolor": "white",
            "gridwidth": 2,
            "linecolor": "white",
            "showbackground": true,
            "ticks": "",
            "zerolinecolor": "white"
           },
           "zaxis": {
            "backgroundcolor": "#E5ECF6",
            "gridcolor": "white",
            "gridwidth": 2,
            "linecolor": "white",
            "showbackground": true,
            "ticks": "",
            "zerolinecolor": "white"
           }
          },
          "shapedefaults": {
           "line": {
            "color": "#2a3f5f"
           }
          },
          "ternary": {
           "aaxis": {
            "gridcolor": "white",
            "linecolor": "white",
            "ticks": ""
           },
           "baxis": {
            "gridcolor": "white",
            "linecolor": "white",
            "ticks": ""
           },
           "bgcolor": "#E5ECF6",
           "caxis": {
            "gridcolor": "white",
            "linecolor": "white",
            "ticks": ""
           }
          },
          "title": {
           "x": 0.05
          },
          "xaxis": {
           "automargin": true,
           "gridcolor": "white",
           "linecolor": "white",
           "ticks": "",
           "title": {
            "standoff": 15
           },
           "zerolinecolor": "white",
           "zerolinewidth": 2
          },
          "yaxis": {
           "automargin": true,
           "gridcolor": "white",
           "linecolor": "white",
           "ticks": "",
           "title": {
            "standoff": 15
           },
           "zerolinecolor": "white",
           "zerolinewidth": 2
          }
         }
        },
        "title": {
         "text": "Distribuição da Variável \"Usa_Cartao_Credito_Label\""
        },
        "xaxis": {
         "anchor": "y",
         "domain": [
          0,
          1
         ],
         "title": {
          "text": "Usa_Cartao_Credito_Label"
         }
        },
        "yaxis": {
         "anchor": "x",
         "domain": [
          0,
          1
         ],
         "title": {
          "text": "Contagem"
         }
        }
       }
      }
     },
     "metadata": {},
     "output_type": "display_data"
    },
    {
     "name": "stdout",
     "output_type": "stream",
     "text": [
      "\n",
      "---------- Análise da Variável: 'Programa_Fidelidade_Label' ----------\n",
      "Tabela de Frequência:\n"
     ]
    },
    {
     "data": {
      "text/html": [
       "<div>\n",
       "<style scoped>\n",
       "    .dataframe tbody tr th:only-of-type {\n",
       "        vertical-align: middle;\n",
       "    }\n",
       "\n",
       "    .dataframe tbody tr th {\n",
       "        vertical-align: top;\n",
       "    }\n",
       "\n",
       "    .dataframe thead th {\n",
       "        text-align: right;\n",
       "    }\n",
       "</style>\n",
       "<table border=\"1\" class=\"dataframe\">\n",
       "  <thead>\n",
       "    <tr style=\"text-align: right;\">\n",
       "      <th></th>\n",
       "      <th>Programa_Fidelidade_Label</th>\n",
       "      <th>Contagem</th>\n",
       "      <th>Porcentagem (%)</th>\n",
       "    </tr>\n",
       "  </thead>\n",
       "  <tbody>\n",
       "    <tr>\n",
       "      <th>0</th>\n",
       "      <td>Participa</td>\n",
       "      <td>5151</td>\n",
       "      <td>51.5</td>\n",
       "    </tr>\n",
       "    <tr>\n",
       "      <th>1</th>\n",
       "      <td>Não participa</td>\n",
       "      <td>4849</td>\n",
       "      <td>48.5</td>\n",
       "    </tr>\n",
       "  </tbody>\n",
       "</table>\n",
       "</div>"
      ],
      "text/plain": [
       "  Programa_Fidelidade_Label  Contagem  Porcentagem (%)\n",
       "0                 Participa      5151             51.5\n",
       "1             Não participa      4849             48.5"
      ]
     },
     "metadata": {},
     "output_type": "display_data"
    },
    {
     "data": {
      "application/vnd.plotly.v1+json": {
       "config": {
        "plotlyServerURL": "https://plot.ly"
       },
       "data": [
        {
         "hovertemplate": "Programa_Fidelidade_Label=%{x}<br>Contagem=%{y}<br>text=%{text}<extra></extra>",
         "legendgroup": "",
         "marker": {
          "color": "#636efa",
          "pattern": {
           "shape": ""
          }
         },
         "name": "",
         "orientation": "v",
         "showlegend": false,
         "text": [
          "51.5%",
          "48.5%"
         ],
         "textposition": "auto",
         "type": "bar",
         "x": [
          "Participa",
          "Não participa"
         ],
         "xaxis": "x",
         "y": {
          "bdata": "HxTxEg==",
          "dtype": "i2"
         },
         "yaxis": "y"
        }
       ],
       "layout": {
        "barmode": "relative",
        "legend": {
         "tracegroupgap": 0
        },
        "template": {
         "data": {
          "bar": [
           {
            "error_x": {
             "color": "#2a3f5f"
            },
            "error_y": {
             "color": "#2a3f5f"
            },
            "marker": {
             "line": {
              "color": "#E5ECF6",
              "width": 0.5
             },
             "pattern": {
              "fillmode": "overlay",
              "size": 10,
              "solidity": 0.2
             }
            },
            "type": "bar"
           }
          ],
          "barpolar": [
           {
            "marker": {
             "line": {
              "color": "#E5ECF6",
              "width": 0.5
             },
             "pattern": {
              "fillmode": "overlay",
              "size": 10,
              "solidity": 0.2
             }
            },
            "type": "barpolar"
           }
          ],
          "carpet": [
           {
            "aaxis": {
             "endlinecolor": "#2a3f5f",
             "gridcolor": "white",
             "linecolor": "white",
             "minorgridcolor": "white",
             "startlinecolor": "#2a3f5f"
            },
            "baxis": {
             "endlinecolor": "#2a3f5f",
             "gridcolor": "white",
             "linecolor": "white",
             "minorgridcolor": "white",
             "startlinecolor": "#2a3f5f"
            },
            "type": "carpet"
           }
          ],
          "choropleth": [
           {
            "colorbar": {
             "outlinewidth": 0,
             "ticks": ""
            },
            "type": "choropleth"
           }
          ],
          "contour": [
           {
            "colorbar": {
             "outlinewidth": 0,
             "ticks": ""
            },
            "colorscale": [
             [
              0,
              "#0d0887"
             ],
             [
              0.1111111111111111,
              "#46039f"
             ],
             [
              0.2222222222222222,
              "#7201a8"
             ],
             [
              0.3333333333333333,
              "#9c179e"
             ],
             [
              0.4444444444444444,
              "#bd3786"
             ],
             [
              0.5555555555555556,
              "#d8576b"
             ],
             [
              0.6666666666666666,
              "#ed7953"
             ],
             [
              0.7777777777777778,
              "#fb9f3a"
             ],
             [
              0.8888888888888888,
              "#fdca26"
             ],
             [
              1,
              "#f0f921"
             ]
            ],
            "type": "contour"
           }
          ],
          "contourcarpet": [
           {
            "colorbar": {
             "outlinewidth": 0,
             "ticks": ""
            },
            "type": "contourcarpet"
           }
          ],
          "heatmap": [
           {
            "colorbar": {
             "outlinewidth": 0,
             "ticks": ""
            },
            "colorscale": [
             [
              0,
              "#0d0887"
             ],
             [
              0.1111111111111111,
              "#46039f"
             ],
             [
              0.2222222222222222,
              "#7201a8"
             ],
             [
              0.3333333333333333,
              "#9c179e"
             ],
             [
              0.4444444444444444,
              "#bd3786"
             ],
             [
              0.5555555555555556,
              "#d8576b"
             ],
             [
              0.6666666666666666,
              "#ed7953"
             ],
             [
              0.7777777777777778,
              "#fb9f3a"
             ],
             [
              0.8888888888888888,
              "#fdca26"
             ],
             [
              1,
              "#f0f921"
             ]
            ],
            "type": "heatmap"
           }
          ],
          "histogram": [
           {
            "marker": {
             "pattern": {
              "fillmode": "overlay",
              "size": 10,
              "solidity": 0.2
             }
            },
            "type": "histogram"
           }
          ],
          "histogram2d": [
           {
            "colorbar": {
             "outlinewidth": 0,
             "ticks": ""
            },
            "colorscale": [
             [
              0,
              "#0d0887"
             ],
             [
              0.1111111111111111,
              "#46039f"
             ],
             [
              0.2222222222222222,
              "#7201a8"
             ],
             [
              0.3333333333333333,
              "#9c179e"
             ],
             [
              0.4444444444444444,
              "#bd3786"
             ],
             [
              0.5555555555555556,
              "#d8576b"
             ],
             [
              0.6666666666666666,
              "#ed7953"
             ],
             [
              0.7777777777777778,
              "#fb9f3a"
             ],
             [
              0.8888888888888888,
              "#fdca26"
             ],
             [
              1,
              "#f0f921"
             ]
            ],
            "type": "histogram2d"
           }
          ],
          "histogram2dcontour": [
           {
            "colorbar": {
             "outlinewidth": 0,
             "ticks": ""
            },
            "colorscale": [
             [
              0,
              "#0d0887"
             ],
             [
              0.1111111111111111,
              "#46039f"
             ],
             [
              0.2222222222222222,
              "#7201a8"
             ],
             [
              0.3333333333333333,
              "#9c179e"
             ],
             [
              0.4444444444444444,
              "#bd3786"
             ],
             [
              0.5555555555555556,
              "#d8576b"
             ],
             [
              0.6666666666666666,
              "#ed7953"
             ],
             [
              0.7777777777777778,
              "#fb9f3a"
             ],
             [
              0.8888888888888888,
              "#fdca26"
             ],
             [
              1,
              "#f0f921"
             ]
            ],
            "type": "histogram2dcontour"
           }
          ],
          "mesh3d": [
           {
            "colorbar": {
             "outlinewidth": 0,
             "ticks": ""
            },
            "type": "mesh3d"
           }
          ],
          "parcoords": [
           {
            "line": {
             "colorbar": {
              "outlinewidth": 0,
              "ticks": ""
             }
            },
            "type": "parcoords"
           }
          ],
          "pie": [
           {
            "automargin": true,
            "type": "pie"
           }
          ],
          "scatter": [
           {
            "fillpattern": {
             "fillmode": "overlay",
             "size": 10,
             "solidity": 0.2
            },
            "type": "scatter"
           }
          ],
          "scatter3d": [
           {
            "line": {
             "colorbar": {
              "outlinewidth": 0,
              "ticks": ""
             }
            },
            "marker": {
             "colorbar": {
              "outlinewidth": 0,
              "ticks": ""
             }
            },
            "type": "scatter3d"
           }
          ],
          "scattercarpet": [
           {
            "marker": {
             "colorbar": {
              "outlinewidth": 0,
              "ticks": ""
             }
            },
            "type": "scattercarpet"
           }
          ],
          "scattergeo": [
           {
            "marker": {
             "colorbar": {
              "outlinewidth": 0,
              "ticks": ""
             }
            },
            "type": "scattergeo"
           }
          ],
          "scattergl": [
           {
            "marker": {
             "colorbar": {
              "outlinewidth": 0,
              "ticks": ""
             }
            },
            "type": "scattergl"
           }
          ],
          "scattermap": [
           {
            "marker": {
             "colorbar": {
              "outlinewidth": 0,
              "ticks": ""
             }
            },
            "type": "scattermap"
           }
          ],
          "scattermapbox": [
           {
            "marker": {
             "colorbar": {
              "outlinewidth": 0,
              "ticks": ""
             }
            },
            "type": "scattermapbox"
           }
          ],
          "scatterpolar": [
           {
            "marker": {
             "colorbar": {
              "outlinewidth": 0,
              "ticks": ""
             }
            },
            "type": "scatterpolar"
           }
          ],
          "scatterpolargl": [
           {
            "marker": {
             "colorbar": {
              "outlinewidth": 0,
              "ticks": ""
             }
            },
            "type": "scatterpolargl"
           }
          ],
          "scatterternary": [
           {
            "marker": {
             "colorbar": {
              "outlinewidth": 0,
              "ticks": ""
             }
            },
            "type": "scatterternary"
           }
          ],
          "surface": [
           {
            "colorbar": {
             "outlinewidth": 0,
             "ticks": ""
            },
            "colorscale": [
             [
              0,
              "#0d0887"
             ],
             [
              0.1111111111111111,
              "#46039f"
             ],
             [
              0.2222222222222222,
              "#7201a8"
             ],
             [
              0.3333333333333333,
              "#9c179e"
             ],
             [
              0.4444444444444444,
              "#bd3786"
             ],
             [
              0.5555555555555556,
              "#d8576b"
             ],
             [
              0.6666666666666666,
              "#ed7953"
             ],
             [
              0.7777777777777778,
              "#fb9f3a"
             ],
             [
              0.8888888888888888,
              "#fdca26"
             ],
             [
              1,
              "#f0f921"
             ]
            ],
            "type": "surface"
           }
          ],
          "table": [
           {
            "cells": {
             "fill": {
              "color": "#EBF0F8"
             },
             "line": {
              "color": "white"
             }
            },
            "header": {
             "fill": {
              "color": "#C8D4E3"
             },
             "line": {
              "color": "white"
             }
            },
            "type": "table"
           }
          ]
         },
         "layout": {
          "annotationdefaults": {
           "arrowcolor": "#2a3f5f",
           "arrowhead": 0,
           "arrowwidth": 1
          },
          "autotypenumbers": "strict",
          "coloraxis": {
           "colorbar": {
            "outlinewidth": 0,
            "ticks": ""
           }
          },
          "colorscale": {
           "diverging": [
            [
             0,
             "#8e0152"
            ],
            [
             0.1,
             "#c51b7d"
            ],
            [
             0.2,
             "#de77ae"
            ],
            [
             0.3,
             "#f1b6da"
            ],
            [
             0.4,
             "#fde0ef"
            ],
            [
             0.5,
             "#f7f7f7"
            ],
            [
             0.6,
             "#e6f5d0"
            ],
            [
             0.7,
             "#b8e186"
            ],
            [
             0.8,
             "#7fbc41"
            ],
            [
             0.9,
             "#4d9221"
            ],
            [
             1,
             "#276419"
            ]
           ],
           "sequential": [
            [
             0,
             "#0d0887"
            ],
            [
             0.1111111111111111,
             "#46039f"
            ],
            [
             0.2222222222222222,
             "#7201a8"
            ],
            [
             0.3333333333333333,
             "#9c179e"
            ],
            [
             0.4444444444444444,
             "#bd3786"
            ],
            [
             0.5555555555555556,
             "#d8576b"
            ],
            [
             0.6666666666666666,
             "#ed7953"
            ],
            [
             0.7777777777777778,
             "#fb9f3a"
            ],
            [
             0.8888888888888888,
             "#fdca26"
            ],
            [
             1,
             "#f0f921"
            ]
           ],
           "sequentialminus": [
            [
             0,
             "#0d0887"
            ],
            [
             0.1111111111111111,
             "#46039f"
            ],
            [
             0.2222222222222222,
             "#7201a8"
            ],
            [
             0.3333333333333333,
             "#9c179e"
            ],
            [
             0.4444444444444444,
             "#bd3786"
            ],
            [
             0.5555555555555556,
             "#d8576b"
            ],
            [
             0.6666666666666666,
             "#ed7953"
            ],
            [
             0.7777777777777778,
             "#fb9f3a"
            ],
            [
             0.8888888888888888,
             "#fdca26"
            ],
            [
             1,
             "#f0f921"
            ]
           ]
          },
          "colorway": [
           "#636efa",
           "#EF553B",
           "#00cc96",
           "#ab63fa",
           "#FFA15A",
           "#19d3f3",
           "#FF6692",
           "#B6E880",
           "#FF97FF",
           "#FECB52"
          ],
          "font": {
           "color": "#2a3f5f"
          },
          "geo": {
           "bgcolor": "white",
           "lakecolor": "white",
           "landcolor": "#E5ECF6",
           "showlakes": true,
           "showland": true,
           "subunitcolor": "white"
          },
          "hoverlabel": {
           "align": "left"
          },
          "hovermode": "closest",
          "mapbox": {
           "style": "light"
          },
          "paper_bgcolor": "white",
          "plot_bgcolor": "#E5ECF6",
          "polar": {
           "angularaxis": {
            "gridcolor": "white",
            "linecolor": "white",
            "ticks": ""
           },
           "bgcolor": "#E5ECF6",
           "radialaxis": {
            "gridcolor": "white",
            "linecolor": "white",
            "ticks": ""
           }
          },
          "scene": {
           "xaxis": {
            "backgroundcolor": "#E5ECF6",
            "gridcolor": "white",
            "gridwidth": 2,
            "linecolor": "white",
            "showbackground": true,
            "ticks": "",
            "zerolinecolor": "white"
           },
           "yaxis": {
            "backgroundcolor": "#E5ECF6",
            "gridcolor": "white",
            "gridwidth": 2,
            "linecolor": "white",
            "showbackground": true,
            "ticks": "",
            "zerolinecolor": "white"
           },
           "zaxis": {
            "backgroundcolor": "#E5ECF6",
            "gridcolor": "white",
            "gridwidth": 2,
            "linecolor": "white",
            "showbackground": true,
            "ticks": "",
            "zerolinecolor": "white"
           }
          },
          "shapedefaults": {
           "line": {
            "color": "#2a3f5f"
           }
          },
          "ternary": {
           "aaxis": {
            "gridcolor": "white",
            "linecolor": "white",
            "ticks": ""
           },
           "baxis": {
            "gridcolor": "white",
            "linecolor": "white",
            "ticks": ""
           },
           "bgcolor": "#E5ECF6",
           "caxis": {
            "gridcolor": "white",
            "linecolor": "white",
            "ticks": ""
           }
          },
          "title": {
           "x": 0.05
          },
          "xaxis": {
           "automargin": true,
           "gridcolor": "white",
           "linecolor": "white",
           "ticks": "",
           "title": {
            "standoff": 15
           },
           "zerolinecolor": "white",
           "zerolinewidth": 2
          },
          "yaxis": {
           "automargin": true,
           "gridcolor": "white",
           "linecolor": "white",
           "ticks": "",
           "title": {
            "standoff": 15
           },
           "zerolinecolor": "white",
           "zerolinewidth": 2
          }
         }
        },
        "title": {
         "text": "Distribuição da Variável \"Programa_Fidelidade_Label\""
        },
        "xaxis": {
         "anchor": "y",
         "domain": [
          0,
          1
         ],
         "title": {
          "text": "Programa_Fidelidade_Label"
         }
        },
        "yaxis": {
         "anchor": "x",
         "domain": [
          0,
          1
         ],
         "title": {
          "text": "Contagem"
         }
        }
       }
      }
     },
     "metadata": {},
     "output_type": "display_data"
    }
   ],
   "source": [
    "# Lista das variáveis categóricas de interesse\n",
    "variaveis_categoricas = [\n",
    "    \"Estado\",\n",
    "    \"Gênero\",\n",
    "    \"Usa_Cartao_Credito_Label\",\n",
    "    \"Programa_Fidelidade_Label\",\n",
    "]\n",
    "\n",
    "# Loop para criar a tabela de frequência e o gráfico de barras para cada variável\n",
    "for var in variaveis_categoricas:\n",
    "    print(f\"\\n---------- Análise da Variável: '{var}' ----------\")\n",
    "\n",
    "    # 1. Tabela de Frequência\n",
    "    tabela_frequencia = df[var].value_counts().reset_index()\n",
    "    tabela_frequencia.columns = [var, \"Contagem\"]\n",
    "    tabela_frequencia[\"Porcentagem (%)\"] = (\n",
    "        tabela_frequencia[\"Contagem\"] / len(df) * 100\n",
    "    ).round(1)\n",
    "\n",
    "    print(\"Tabela de Frequência:\")\n",
    "    display(tabela_frequencia)\n",
    "\n",
    "    # 2. Gráfico de Barras\n",
    "    fig = px.bar(\n",
    "        tabela_frequencia,\n",
    "        x=var,\n",
    "        y=\"Contagem\",\n",
    "        text=tabela_frequencia[\"Porcentagem (%)\"].apply(lambda x: f\"{x}%\"),\n",
    "        title=f'Distribuição da Variável \"{var}\"',\n",
    "    )\n",
    "\n",
    "    fig.show()"
   ]
  },
  {
   "cell_type": "code",
   "execution_count": 11,
   "id": "64053c22",
   "metadata": {},
   "outputs": [
    {
     "name": "stdout",
     "output_type": "stream",
     "text": [
      "\n",
      "---------- Análise da Variável: 'Score_Credito' ----------\n",
      "Estatísticas Descritivas:\n"
     ]
    },
    {
     "data": {
      "text/html": [
       "<div>\n",
       "<style scoped>\n",
       "    .dataframe tbody tr th:only-of-type {\n",
       "        vertical-align: middle;\n",
       "    }\n",
       "\n",
       "    .dataframe tbody tr th {\n",
       "        vertical-align: top;\n",
       "    }\n",
       "\n",
       "    .dataframe thead th {\n",
       "        text-align: right;\n",
       "    }\n",
       "</style>\n",
       "<table border=\"1\" class=\"dataframe\">\n",
       "  <thead>\n",
       "    <tr style=\"text-align: right;\">\n",
       "      <th></th>\n",
       "      <th>count</th>\n",
       "      <th>mean</th>\n",
       "      <th>std</th>\n",
       "      <th>min</th>\n",
       "      <th>25%</th>\n",
       "      <th>50%</th>\n",
       "      <th>75%</th>\n",
       "      <th>max</th>\n",
       "    </tr>\n",
       "  </thead>\n",
       "  <tbody>\n",
       "    <tr>\n",
       "      <th>Score_Credito</th>\n",
       "      <td>10000.0</td>\n",
       "      <td>650.5288</td>\n",
       "      <td>96.653299</td>\n",
       "      <td>350.0</td>\n",
       "      <td>584.0</td>\n",
       "      <td>652.0</td>\n",
       "      <td>718.0</td>\n",
       "      <td>850.0</td>\n",
       "    </tr>\n",
       "  </tbody>\n",
       "</table>\n",
       "</div>"
      ],
      "text/plain": [
       "                 count      mean        std    min    25%    50%    75%    max\n",
       "Score_Credito  10000.0  650.5288  96.653299  350.0  584.0  652.0  718.0  850.0"
      ]
     },
     "metadata": {},
     "output_type": "display_data"
    },
    {
     "data": {
      "application/vnd.plotly.v1+json": {
       "config": {
        "plotlyServerURL": "https://plot.ly"
       },
       "data": [
        {
         "bingroup": "x",
         "hovertemplate": "Score_Credito=%{x}<br>count=%{y}<extra></extra>",
         "legendgroup": "",
         "marker": {
          "color": "#636efa",
          "pattern": {
           "shape": ""
          }
         },
         "name": "",
         "orientation": "v",
         "showlegend": false,
         "type": "histogram",
         "x": {
          "bdata": "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",
          "dtype": "i2"
         },
         "xaxis": "x",
         "yaxis": "y"
        },
        {
         "hovertemplate": "Score_Credito=%{x}<extra></extra>",
         "legendgroup": "",
         "marker": {
          "color": "#636efa"
         },
         "name": "",
         "notched": true,
         "showlegend": false,
         "type": "box",
         "x": {
          "bdata": "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",
          "dtype": "i2"
         },
         "xaxis": "x2",
         "yaxis": "y2"
        }
       ],
       "layout": {
        "barmode": "relative",
        "legend": {
         "tracegroupgap": 0
        },
        "template": {
         "data": {
          "bar": [
           {
            "error_x": {
             "color": "#2a3f5f"
            },
            "error_y": {
             "color": "#2a3f5f"
            },
            "marker": {
             "line": {
              "color": "#E5ECF6",
              "width": 0.5
             },
             "pattern": {
              "fillmode": "overlay",
              "size": 10,
              "solidity": 0.2
             }
            },
            "type": "bar"
           }
          ],
          "barpolar": [
           {
            "marker": {
             "line": {
              "color": "#E5ECF6",
              "width": 0.5
             },
             "pattern": {
              "fillmode": "overlay",
              "size": 10,
              "solidity": 0.2
             }
            },
            "type": "barpolar"
           }
          ],
          "carpet": [
           {
            "aaxis": {
             "endlinecolor": "#2a3f5f",
             "gridcolor": "white",
             "linecolor": "white",
             "minorgridcolor": "white",
             "startlinecolor": "#2a3f5f"
            },
            "baxis": {
             "endlinecolor": "#2a3f5f",
             "gridcolor": "white",
             "linecolor": "white",
             "minorgridcolor": "white",
             "startlinecolor": "#2a3f5f"
            },
            "type": "carpet"
           }
          ],
          "choropleth": [
           {
            "colorbar": {
             "outlinewidth": 0,
             "ticks": ""
            },
            "type": "choropleth"
           }
          ],
          "contour": [
           {
            "colorbar": {
             "outlinewidth": 0,
             "ticks": ""
            },
            "colorscale": [
             [
              0,
              "#0d0887"
             ],
             [
              0.1111111111111111,
              "#46039f"
             ],
             [
              0.2222222222222222,
              "#7201a8"
             ],
             [
              0.3333333333333333,
              "#9c179e"
             ],
             [
              0.4444444444444444,
              "#bd3786"
             ],
             [
              0.5555555555555556,
              "#d8576b"
             ],
             [
              0.6666666666666666,
              "#ed7953"
             ],
             [
              0.7777777777777778,
              "#fb9f3a"
             ],
             [
              0.8888888888888888,
              "#fdca26"
             ],
             [
              1,
              "#f0f921"
             ]
            ],
            "type": "contour"
           }
          ],
          "contourcarpet": [
           {
            "colorbar": {
             "outlinewidth": 0,
             "ticks": ""
            },
            "type": "contourcarpet"
           }
          ],
          "heatmap": [
           {
            "colorbar": {
             "outlinewidth": 0,
             "ticks": ""
            },
            "colorscale": [
             [
              0,
              "#0d0887"
             ],
             [
              0.1111111111111111,
              "#46039f"
             ],
             [
              0.2222222222222222,
              "#7201a8"
             ],
             [
              0.3333333333333333,
              "#9c179e"
             ],
             [
              0.4444444444444444,
              "#bd3786"
             ],
             [
              0.5555555555555556,
              "#d8576b"
             ],
             [
              0.6666666666666666,
              "#ed7953"
             ],
             [
              0.7777777777777778,
              "#fb9f3a"
             ],
             [
              0.8888888888888888,
              "#fdca26"
             ],
             [
              1,
              "#f0f921"
             ]
            ],
            "type": "heatmap"
           }
          ],
          "histogram": [
           {
            "marker": {
             "pattern": {
              "fillmode": "overlay",
              "size": 10,
              "solidity": 0.2
             }
            },
            "type": "histogram"
           }
          ],
          "histogram2d": [
           {
            "colorbar": {
             "outlinewidth": 0,
             "ticks": ""
            },
            "colorscale": [
             [
              0,
              "#0d0887"
             ],
             [
              0.1111111111111111,
              "#46039f"
             ],
             [
              0.2222222222222222,
              "#7201a8"
             ],
             [
              0.3333333333333333,
              "#9c179e"
             ],
             [
              0.4444444444444444,
              "#bd3786"
             ],
             [
              0.5555555555555556,
              "#d8576b"
             ],
             [
              0.6666666666666666,
              "#ed7953"
             ],
             [
              0.7777777777777778,
              "#fb9f3a"
             ],
             [
              0.8888888888888888,
              "#fdca26"
             ],
             [
              1,
              "#f0f921"
             ]
            ],
            "type": "histogram2d"
           }
          ],
          "histogram2dcontour": [
           {
            "colorbar": {
             "outlinewidth": 0,
             "ticks": ""
            },
            "colorscale": [
             [
              0,
              "#0d0887"
             ],
             [
              0.1111111111111111,
              "#46039f"
             ],
             [
              0.2222222222222222,
              "#7201a8"
             ],
             [
              0.3333333333333333,
              "#9c179e"
             ],
             [
              0.4444444444444444,
              "#bd3786"
             ],
             [
              0.5555555555555556,
              "#d8576b"
             ],
             [
              0.6666666666666666,
              "#ed7953"
             ],
             [
              0.7777777777777778,
              "#fb9f3a"
             ],
             [
              0.8888888888888888,
              "#fdca26"
             ],
             [
              1,
              "#f0f921"
             ]
            ],
            "type": "histogram2dcontour"
           }
          ],
          "mesh3d": [
           {
            "colorbar": {
             "outlinewidth": 0,
             "ticks": ""
            },
            "type": "mesh3d"
           }
          ],
          "parcoords": [
           {
            "line": {
             "colorbar": {
              "outlinewidth": 0,
              "ticks": ""
             }
            },
            "type": "parcoords"
           }
          ],
          "pie": [
           {
            "automargin": true,
            "type": "pie"
           }
          ],
          "scatter": [
           {
            "fillpattern": {
             "fillmode": "overlay",
             "size": 10,
             "solidity": 0.2
            },
            "type": "scatter"
           }
          ],
          "scatter3d": [
           {
            "line": {
             "colorbar": {
              "outlinewidth": 0,
              "ticks": ""
             }
            },
            "marker": {
             "colorbar": {
              "outlinewidth": 0,
              "ticks": ""
             }
            },
            "type": "scatter3d"
           }
          ],
          "scattercarpet": [
           {
            "marker": {
             "colorbar": {
              "outlinewidth": 0,
              "ticks": ""
             }
            },
            "type": "scattercarpet"
           }
          ],
          "scattergeo": [
           {
            "marker": {
             "colorbar": {
              "outlinewidth": 0,
              "ticks": ""
             }
            },
            "type": "scattergeo"
           }
          ],
          "scattergl": [
           {
            "marker": {
             "colorbar": {
              "outlinewidth": 0,
              "ticks": ""
             }
            },
            "type": "scattergl"
           }
          ],
          "scattermap": [
           {
            "marker": {
             "colorbar": {
              "outlinewidth": 0,
              "ticks": ""
             }
            },
            "type": "scattermap"
           }
          ],
          "scattermapbox": [
           {
            "marker": {
             "colorbar": {
              "outlinewidth": 0,
              "ticks": ""
             }
            },
            "type": "scattermapbox"
           }
          ],
          "scatterpolar": [
           {
            "marker": {
             "colorbar": {
              "outlinewidth": 0,
              "ticks": ""
             }
            },
            "type": "scatterpolar"
           }
          ],
          "scatterpolargl": [
           {
            "marker": {
             "colorbar": {
              "outlinewidth": 0,
              "ticks": ""
             }
            },
            "type": "scatterpolargl"
           }
          ],
          "scatterternary": [
           {
            "marker": {
             "colorbar": {
              "outlinewidth": 0,
              "ticks": ""
             }
            },
            "type": "scatterternary"
           }
          ],
          "surface": [
           {
            "colorbar": {
             "outlinewidth": 0,
             "ticks": ""
            },
            "colorscale": [
             [
              0,
              "#0d0887"
             ],
             [
              0.1111111111111111,
              "#46039f"
             ],
             [
              0.2222222222222222,
              "#7201a8"
             ],
             [
              0.3333333333333333,
              "#9c179e"
             ],
             [
              0.4444444444444444,
              "#bd3786"
             ],
             [
              0.5555555555555556,
              "#d8576b"
             ],
             [
              0.6666666666666666,
              "#ed7953"
             ],
             [
              0.7777777777777778,
              "#fb9f3a"
             ],
             [
              0.8888888888888888,
              "#fdca26"
             ],
             [
              1,
              "#f0f921"
             ]
            ],
            "type": "surface"
           }
          ],
          "table": [
           {
            "cells": {
             "fill": {
              "color": "#EBF0F8"
             },
             "line": {
              "color": "white"
             }
            },
            "header": {
             "fill": {
              "color": "#C8D4E3"
             },
             "line": {
              "color": "white"
             }
            },
            "type": "table"
           }
          ]
         },
         "layout": {
          "annotationdefaults": {
           "arrowcolor": "#2a3f5f",
           "arrowhead": 0,
           "arrowwidth": 1
          },
          "autotypenumbers": "strict",
          "coloraxis": {
           "colorbar": {
            "outlinewidth": 0,
            "ticks": ""
           }
          },
          "colorscale": {
           "diverging": [
            [
             0,
             "#8e0152"
            ],
            [
             0.1,
             "#c51b7d"
            ],
            [
             0.2,
             "#de77ae"
            ],
            [
             0.3,
             "#f1b6da"
            ],
            [
             0.4,
             "#fde0ef"
            ],
            [
             0.5,
             "#f7f7f7"
            ],
            [
             0.6,
             "#e6f5d0"
            ],
            [
             0.7,
             "#b8e186"
            ],
            [
             0.8,
             "#7fbc41"
            ],
            [
             0.9,
             "#4d9221"
            ],
            [
             1,
             "#276419"
            ]
           ],
           "sequential": [
            [
             0,
             "#0d0887"
            ],
            [
             0.1111111111111111,
             "#46039f"
            ],
            [
             0.2222222222222222,
             "#7201a8"
            ],
            [
             0.3333333333333333,
             "#9c179e"
            ],
            [
             0.4444444444444444,
             "#bd3786"
            ],
            [
             0.5555555555555556,
             "#d8576b"
            ],
            [
             0.6666666666666666,
             "#ed7953"
            ],
            [
             0.7777777777777778,
             "#fb9f3a"
            ],
            [
             0.8888888888888888,
             "#fdca26"
            ],
            [
             1,
             "#f0f921"
            ]
           ],
           "sequentialminus": [
            [
             0,
             "#0d0887"
            ],
            [
             0.1111111111111111,
             "#46039f"
            ],
            [
             0.2222222222222222,
             "#7201a8"
            ],
            [
             0.3333333333333333,
             "#9c179e"
            ],
            [
             0.4444444444444444,
             "#bd3786"
            ],
            [
             0.5555555555555556,
             "#d8576b"
            ],
            [
             0.6666666666666666,
             "#ed7953"
            ],
            [
             0.7777777777777778,
             "#fb9f3a"
            ],
            [
             0.8888888888888888,
             "#fdca26"
            ],
            [
             1,
             "#f0f921"
            ]
           ]
          },
          "colorway": [
           "#636efa",
           "#EF553B",
           "#00cc96",
           "#ab63fa",
           "#FFA15A",
           "#19d3f3",
           "#FF6692",
           "#B6E880",
           "#FF97FF",
           "#FECB52"
          ],
          "font": {
           "color": "#2a3f5f"
          },
          "geo": {
           "bgcolor": "white",
           "lakecolor": "white",
           "landcolor": "#E5ECF6",
           "showlakes": true,
           "showland": true,
           "subunitcolor": "white"
          },
          "hoverlabel": {
           "align": "left"
          },
          "hovermode": "closest",
          "mapbox": {
           "style": "light"
          },
          "paper_bgcolor": "white",
          "plot_bgcolor": "#E5ECF6",
          "polar": {
           "angularaxis": {
            "gridcolor": "white",
            "linecolor": "white",
            "ticks": ""
           },
           "bgcolor": "#E5ECF6",
           "radialaxis": {
            "gridcolor": "white",
            "linecolor": "white",
            "ticks": ""
           }
          },
          "scene": {
           "xaxis": {
            "backgroundcolor": "#E5ECF6",
            "gridcolor": "white",
            "gridwidth": 2,
            "linecolor": "white",
            "showbackground": true,
            "ticks": "",
            "zerolinecolor": "white"
           },
           "yaxis": {
            "backgroundcolor": "#E5ECF6",
            "gridcolor": "white",
            "gridwidth": 2,
            "linecolor": "white",
            "showbackground": true,
            "ticks": "",
            "zerolinecolor": "white"
           },
           "zaxis": {
            "backgroundcolor": "#E5ECF6",
            "gridcolor": "white",
            "gridwidth": 2,
            "linecolor": "white",
            "showbackground": true,
            "ticks": "",
            "zerolinecolor": "white"
           }
          },
          "shapedefaults": {
           "line": {
            "color": "#2a3f5f"
           }
          },
          "ternary": {
           "aaxis": {
            "gridcolor": "white",
            "linecolor": "white",
            "ticks": ""
           },
           "baxis": {
            "gridcolor": "white",
            "linecolor": "white",
            "ticks": ""
           },
           "bgcolor": "#E5ECF6",
           "caxis": {
            "gridcolor": "white",
            "linecolor": "white",
            "ticks": ""
           }
          },
          "title": {
           "x": 0.05
          },
          "xaxis": {
           "automargin": true,
           "gridcolor": "white",
           "linecolor": "white",
           "ticks": "",
           "title": {
            "standoff": 15
           },
           "zerolinecolor": "white",
           "zerolinewidth": 2
          },
          "yaxis": {
           "automargin": true,
           "gridcolor": "white",
           "linecolor": "white",
           "ticks": "",
           "title": {
            "standoff": 15
           },
           "zerolinecolor": "white",
           "zerolinewidth": 2
          }
         }
        },
        "title": {
         "text": "Distribuição da Variável \"Score_Credito\""
        },
        "xaxis": {
         "anchor": "y",
         "domain": [
          0,
          1
         ],
         "title": {
          "text": "Score_Credito"
         }
        },
        "xaxis2": {
         "anchor": "y2",
         "domain": [
          0,
          1
         ],
         "matches": "x",
         "showgrid": true,
         "showticklabels": false
        },
        "yaxis": {
         "anchor": "x",
         "domain": [
          0,
          0.8316
         ],
         "title": {
          "text": "count"
         }
        },
        "yaxis2": {
         "anchor": "x2",
         "domain": [
          0.8416,
          1
         ],
         "matches": "y2",
         "showgrid": false,
         "showline": false,
         "showticklabels": false,
         "ticks": ""
        }
       }
      }
     },
     "metadata": {},
     "output_type": "display_data"
    },
    {
     "name": "stdout",
     "output_type": "stream",
     "text": [
      "\n",
      "---------- Análise da Variável: 'Idade' ----------\n",
      "Estatísticas Descritivas:\n"
     ]
    },
    {
     "data": {
      "text/html": [
       "<div>\n",
       "<style scoped>\n",
       "    .dataframe tbody tr th:only-of-type {\n",
       "        vertical-align: middle;\n",
       "    }\n",
       "\n",
       "    .dataframe tbody tr th {\n",
       "        vertical-align: top;\n",
       "    }\n",
       "\n",
       "    .dataframe thead th {\n",
       "        text-align: right;\n",
       "    }\n",
       "</style>\n",
       "<table border=\"1\" class=\"dataframe\">\n",
       "  <thead>\n",
       "    <tr style=\"text-align: right;\">\n",
       "      <th></th>\n",
       "      <th>count</th>\n",
       "      <th>mean</th>\n",
       "      <th>std</th>\n",
       "      <th>min</th>\n",
       "      <th>25%</th>\n",
       "      <th>50%</th>\n",
       "      <th>75%</th>\n",
       "      <th>max</th>\n",
       "    </tr>\n",
       "  </thead>\n",
       "  <tbody>\n",
       "    <tr>\n",
       "      <th>Idade</th>\n",
       "      <td>10000.0</td>\n",
       "      <td>38.9218</td>\n",
       "      <td>10.487806</td>\n",
       "      <td>18.0</td>\n",
       "      <td>32.0</td>\n",
       "      <td>37.0</td>\n",
       "      <td>44.0</td>\n",
       "      <td>92.0</td>\n",
       "    </tr>\n",
       "  </tbody>\n",
       "</table>\n",
       "</div>"
      ],
      "text/plain": [
       "         count     mean        std   min   25%   50%   75%   max\n",
       "Idade  10000.0  38.9218  10.487806  18.0  32.0  37.0  44.0  92.0"
      ]
     },
     "metadata": {},
     "output_type": "display_data"
    },
    {
     "data": {
      "application/vnd.plotly.v1+json": {
       "config": {
        "plotlyServerURL": "https://plot.ly"
       },
       "data": [
        {
         "bingroup": "x",
         "hovertemplate": "Idade=%{x}<br>count=%{y}<extra></extra>",
         "legendgroup": "",
         "marker": {
          "color": "#636efa",
          "pattern": {
           "shape": ""
          }
         },
         "name": "",
         "orientation": "v",
         "showlegend": false,
         "type": "histogram",
         "x": {
          "bdata": "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",
          "dtype": "i1"
         },
         "xaxis": "x",
         "yaxis": "y"
        },
        {
         "hovertemplate": "Idade=%{x}<extra></extra>",
         "legendgroup": "",
         "marker": {
          "color": "#636efa"
         },
         "name": "",
         "notched": true,
         "showlegend": false,
         "type": "box",
         "x": {
          "bdata": "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",
          "dtype": "i1"
         },
         "xaxis": "x2",
         "yaxis": "y2"
        }
       ],
       "layout": {
        "barmode": "relative",
        "legend": {
         "tracegroupgap": 0
        },
        "template": {
         "data": {
          "bar": [
           {
            "error_x": {
             "color": "#2a3f5f"
            },
            "error_y": {
             "color": "#2a3f5f"
            },
            "marker": {
             "line": {
              "color": "#E5ECF6",
              "width": 0.5
             },
             "pattern": {
              "fillmode": "overlay",
              "size": 10,
              "solidity": 0.2
             }
            },
            "type": "bar"
           }
          ],
          "barpolar": [
           {
            "marker": {
             "line": {
              "color": "#E5ECF6",
              "width": 0.5
             },
             "pattern": {
              "fillmode": "overlay",
              "size": 10,
              "solidity": 0.2
             }
            },
            "type": "barpolar"
           }
          ],
          "carpet": [
           {
            "aaxis": {
             "endlinecolor": "#2a3f5f",
             "gridcolor": "white",
             "linecolor": "white",
             "minorgridcolor": "white",
             "startlinecolor": "#2a3f5f"
            },
            "baxis": {
             "endlinecolor": "#2a3f5f",
             "gridcolor": "white",
             "linecolor": "white",
             "minorgridcolor": "white",
             "startlinecolor": "#2a3f5f"
            },
            "type": "carpet"
           }
          ],
          "choropleth": [
           {
            "colorbar": {
             "outlinewidth": 0,
             "ticks": ""
            },
            "type": "choropleth"
           }
          ],
          "contour": [
           {
            "colorbar": {
             "outlinewidth": 0,
             "ticks": ""
            },
            "colorscale": [
             [
              0,
              "#0d0887"
             ],
             [
              0.1111111111111111,
              "#46039f"
             ],
             [
              0.2222222222222222,
              "#7201a8"
             ],
             [
              0.3333333333333333,
              "#9c179e"
             ],
             [
              0.4444444444444444,
              "#bd3786"
             ],
             [
              0.5555555555555556,
              "#d8576b"
             ],
             [
              0.6666666666666666,
              "#ed7953"
             ],
             [
              0.7777777777777778,
              "#fb9f3a"
             ],
             [
              0.8888888888888888,
              "#fdca26"
             ],
             [
              1,
              "#f0f921"
             ]
            ],
            "type": "contour"
           }
          ],
          "contourcarpet": [
           {
            "colorbar": {
             "outlinewidth": 0,
             "ticks": ""
            },
            "type": "contourcarpet"
           }
          ],
          "heatmap": [
           {
            "colorbar": {
             "outlinewidth": 0,
             "ticks": ""
            },
            "colorscale": [
             [
              0,
              "#0d0887"
             ],
             [
              0.1111111111111111,
              "#46039f"
             ],
             [
              0.2222222222222222,
              "#7201a8"
             ],
             [
              0.3333333333333333,
              "#9c179e"
             ],
             [
              0.4444444444444444,
              "#bd3786"
             ],
             [
              0.5555555555555556,
              "#d8576b"
             ],
             [
              0.6666666666666666,
              "#ed7953"
             ],
             [
              0.7777777777777778,
              "#fb9f3a"
             ],
             [
              0.8888888888888888,
              "#fdca26"
             ],
             [
              1,
              "#f0f921"
             ]
            ],
            "type": "heatmap"
           }
          ],
          "histogram": [
           {
            "marker": {
             "pattern": {
              "fillmode": "overlay",
              "size": 10,
              "solidity": 0.2
             }
            },
            "type": "histogram"
           }
          ],
          "histogram2d": [
           {
            "colorbar": {
             "outlinewidth": 0,
             "ticks": ""
            },
            "colorscale": [
             [
              0,
              "#0d0887"
             ],
             [
              0.1111111111111111,
              "#46039f"
             ],
             [
              0.2222222222222222,
              "#7201a8"
             ],
             [
              0.3333333333333333,
              "#9c179e"
             ],
             [
              0.4444444444444444,
              "#bd3786"
             ],
             [
              0.5555555555555556,
              "#d8576b"
             ],
             [
              0.6666666666666666,
              "#ed7953"
             ],
             [
              0.7777777777777778,
              "#fb9f3a"
             ],
             [
              0.8888888888888888,
              "#fdca26"
             ],
             [
              1,
              "#f0f921"
             ]
            ],
            "type": "histogram2d"
           }
          ],
          "histogram2dcontour": [
           {
            "colorbar": {
             "outlinewidth": 0,
             "ticks": ""
            },
            "colorscale": [
             [
              0,
              "#0d0887"
             ],
             [
              0.1111111111111111,
              "#46039f"
             ],
             [
              0.2222222222222222,
              "#7201a8"
             ],
             [
              0.3333333333333333,
              "#9c179e"
             ],
             [
              0.4444444444444444,
              "#bd3786"
             ],
             [
              0.5555555555555556,
              "#d8576b"
             ],
             [
              0.6666666666666666,
              "#ed7953"
             ],
             [
              0.7777777777777778,
              "#fb9f3a"
             ],
             [
              0.8888888888888888,
              "#fdca26"
             ],
             [
              1,
              "#f0f921"
             ]
            ],
            "type": "histogram2dcontour"
           }
          ],
          "mesh3d": [
           {
            "colorbar": {
             "outlinewidth": 0,
             "ticks": ""
            },
            "type": "mesh3d"
           }
          ],
          "parcoords": [
           {
            "line": {
             "colorbar": {
              "outlinewidth": 0,
              "ticks": ""
             }
            },
            "type": "parcoords"
           }
          ],
          "pie": [
           {
            "automargin": true,
            "type": "pie"
           }
          ],
          "scatter": [
           {
            "fillpattern": {
             "fillmode": "overlay",
             "size": 10,
             "solidity": 0.2
            },
            "type": "scatter"
           }
          ],
          "scatter3d": [
           {
            "line": {
             "colorbar": {
              "outlinewidth": 0,
              "ticks": ""
             }
            },
            "marker": {
             "colorbar": {
              "outlinewidth": 0,
              "ticks": ""
             }
            },
            "type": "scatter3d"
           }
          ],
          "scattercarpet": [
           {
            "marker": {
             "colorbar": {
              "outlinewidth": 0,
              "ticks": ""
             }
            },
            "type": "scattercarpet"
           }
          ],
          "scattergeo": [
           {
            "marker": {
             "colorbar": {
              "outlinewidth": 0,
              "ticks": ""
             }
            },
            "type": "scattergeo"
           }
          ],
          "scattergl": [
           {
            "marker": {
             "colorbar": {
              "outlinewidth": 0,
              "ticks": ""
             }
            },
            "type": "scattergl"
           }
          ],
          "scattermap": [
           {
            "marker": {
             "colorbar": {
              "outlinewidth": 0,
              "ticks": ""
             }
            },
            "type": "scattermap"
           }
          ],
          "scattermapbox": [
           {
            "marker": {
             "colorbar": {
              "outlinewidth": 0,
              "ticks": ""
             }
            },
            "type": "scattermapbox"
           }
          ],
          "scatterpolar": [
           {
            "marker": {
             "colorbar": {
              "outlinewidth": 0,
              "ticks": ""
             }
            },
            "type": "scatterpolar"
           }
          ],
          "scatterpolargl": [
           {
            "marker": {
             "colorbar": {
              "outlinewidth": 0,
              "ticks": ""
             }
            },
            "type": "scatterpolargl"
           }
          ],
          "scatterternary": [
           {
            "marker": {
             "colorbar": {
              "outlinewidth": 0,
              "ticks": ""
             }
            },
            "type": "scatterternary"
           }
          ],
          "surface": [
           {
            "colorbar": {
             "outlinewidth": 0,
             "ticks": ""
            },
            "colorscale": [
             [
              0,
              "#0d0887"
             ],
             [
              0.1111111111111111,
              "#46039f"
             ],
             [
              0.2222222222222222,
              "#7201a8"
             ],
             [
              0.3333333333333333,
              "#9c179e"
             ],
             [
              0.4444444444444444,
              "#bd3786"
             ],
             [
              0.5555555555555556,
              "#d8576b"
             ],
             [
              0.6666666666666666,
              "#ed7953"
             ],
             [
              0.7777777777777778,
              "#fb9f3a"
             ],
             [
              0.8888888888888888,
              "#fdca26"
             ],
             [
              1,
              "#f0f921"
             ]
            ],
            "type": "surface"
           }
          ],
          "table": [
           {
            "cells": {
             "fill": {
              "color": "#EBF0F8"
             },
             "line": {
              "color": "white"
             }
            },
            "header": {
             "fill": {
              "color": "#C8D4E3"
             },
             "line": {
              "color": "white"
             }
            },
            "type": "table"
           }
          ]
         },
         "layout": {
          "annotationdefaults": {
           "arrowcolor": "#2a3f5f",
           "arrowhead": 0,
           "arrowwidth": 1
          },
          "autotypenumbers": "strict",
          "coloraxis": {
           "colorbar": {
            "outlinewidth": 0,
            "ticks": ""
           }
          },
          "colorscale": {
           "diverging": [
            [
             0,
             "#8e0152"
            ],
            [
             0.1,
             "#c51b7d"
            ],
            [
             0.2,
             "#de77ae"
            ],
            [
             0.3,
             "#f1b6da"
            ],
            [
             0.4,
             "#fde0ef"
            ],
            [
             0.5,
             "#f7f7f7"
            ],
            [
             0.6,
             "#e6f5d0"
            ],
            [
             0.7,
             "#b8e186"
            ],
            [
             0.8,
             "#7fbc41"
            ],
            [
             0.9,
             "#4d9221"
            ],
            [
             1,
             "#276419"
            ]
           ],
           "sequential": [
            [
             0,
             "#0d0887"
            ],
            [
             0.1111111111111111,
             "#46039f"
            ],
            [
             0.2222222222222222,
             "#7201a8"
            ],
            [
             0.3333333333333333,
             "#9c179e"
            ],
            [
             0.4444444444444444,
             "#bd3786"
            ],
            [
             0.5555555555555556,
             "#d8576b"
            ],
            [
             0.6666666666666666,
             "#ed7953"
            ],
            [
             0.7777777777777778,
             "#fb9f3a"
            ],
            [
             0.8888888888888888,
             "#fdca26"
            ],
            [
             1,
             "#f0f921"
            ]
           ],
           "sequentialminus": [
            [
             0,
             "#0d0887"
            ],
            [
             0.1111111111111111,
             "#46039f"
            ],
            [
             0.2222222222222222,
             "#7201a8"
            ],
            [
             0.3333333333333333,
             "#9c179e"
            ],
            [
             0.4444444444444444,
             "#bd3786"
            ],
            [
             0.5555555555555556,
             "#d8576b"
            ],
            [
             0.6666666666666666,
             "#ed7953"
            ],
            [
             0.7777777777777778,
             "#fb9f3a"
            ],
            [
             0.8888888888888888,
             "#fdca26"
            ],
            [
             1,
             "#f0f921"
            ]
           ]
          },
          "colorway": [
           "#636efa",
           "#EF553B",
           "#00cc96",
           "#ab63fa",
           "#FFA15A",
           "#19d3f3",
           "#FF6692",
           "#B6E880",
           "#FF97FF",
           "#FECB52"
          ],
          "font": {
           "color": "#2a3f5f"
          },
          "geo": {
           "bgcolor": "white",
           "lakecolor": "white",
           "landcolor": "#E5ECF6",
           "showlakes": true,
           "showland": true,
           "subunitcolor": "white"
          },
          "hoverlabel": {
           "align": "left"
          },
          "hovermode": "closest",
          "mapbox": {
           "style": "light"
          },
          "paper_bgcolor": "white",
          "plot_bgcolor": "#E5ECF6",
          "polar": {
           "angularaxis": {
            "gridcolor": "white",
            "linecolor": "white",
            "ticks": ""
           },
           "bgcolor": "#E5ECF6",
           "radialaxis": {
            "gridcolor": "white",
            "linecolor": "white",
            "ticks": ""
           }
          },
          "scene": {
           "xaxis": {
            "backgroundcolor": "#E5ECF6",
            "gridcolor": "white",
            "gridwidth": 2,
            "linecolor": "white",
            "showbackground": true,
            "ticks": "",
            "zerolinecolor": "white"
           },
           "yaxis": {
            "backgroundcolor": "#E5ECF6",
            "gridcolor": "white",
            "gridwidth": 2,
            "linecolor": "white",
            "showbackground": true,
            "ticks": "",
            "zerolinecolor": "white"
           },
           "zaxis": {
            "backgroundcolor": "#E5ECF6",
            "gridcolor": "white",
            "gridwidth": 2,
            "linecolor": "white",
            "showbackground": true,
            "ticks": "",
            "zerolinecolor": "white"
           }
          },
          "shapedefaults": {
           "line": {
            "color": "#2a3f5f"
           }
          },
          "ternary": {
           "aaxis": {
            "gridcolor": "white",
            "linecolor": "white",
            "ticks": ""
           },
           "baxis": {
            "gridcolor": "white",
            "linecolor": "white",
            "ticks": ""
           },
           "bgcolor": "#E5ECF6",
           "caxis": {
            "gridcolor": "white",
            "linecolor": "white",
            "ticks": ""
           }
          },
          "title": {
           "x": 0.05
          },
          "xaxis": {
           "automargin": true,
           "gridcolor": "white",
           "linecolor": "white",
           "ticks": "",
           "title": {
            "standoff": 15
           },
           "zerolinecolor": "white",
           "zerolinewidth": 2
          },
          "yaxis": {
           "automargin": true,
           "gridcolor": "white",
           "linecolor": "white",
           "ticks": "",
           "title": {
            "standoff": 15
           },
           "zerolinecolor": "white",
           "zerolinewidth": 2
          }
         }
        },
        "title": {
         "text": "Distribuição da Variável \"Idade\""
        },
        "xaxis": {
         "anchor": "y",
         "domain": [
          0,
          1
         ],
         "title": {
          "text": "Idade"
         }
        },
        "xaxis2": {
         "anchor": "y2",
         "domain": [
          0,
          1
         ],
         "matches": "x",
         "showgrid": true,
         "showticklabels": false
        },
        "yaxis": {
         "anchor": "x",
         "domain": [
          0,
          0.8316
         ],
         "title": {
          "text": "count"
         }
        },
        "yaxis2": {
         "anchor": "x2",
         "domain": [
          0.8416,
          1
         ],
         "matches": "y2",
         "showgrid": false,
         "showline": false,
         "showticklabels": false,
         "ticks": ""
        }
       }
      }
     },
     "metadata": {},
     "output_type": "display_data"
    },
    {
     "name": "stdout",
     "output_type": "stream",
     "text": [
      "\n",
      "---------- Análise da Variável: 'Tempo_Cliente' ----------\n",
      "Estatísticas Descritivas:\n"
     ]
    },
    {
     "data": {
      "text/html": [
       "<div>\n",
       "<style scoped>\n",
       "    .dataframe tbody tr th:only-of-type {\n",
       "        vertical-align: middle;\n",
       "    }\n",
       "\n",
       "    .dataframe tbody tr th {\n",
       "        vertical-align: top;\n",
       "    }\n",
       "\n",
       "    .dataframe thead th {\n",
       "        text-align: right;\n",
       "    }\n",
       "</style>\n",
       "<table border=\"1\" class=\"dataframe\">\n",
       "  <thead>\n",
       "    <tr style=\"text-align: right;\">\n",
       "      <th></th>\n",
       "      <th>count</th>\n",
       "      <th>mean</th>\n",
       "      <th>std</th>\n",
       "      <th>min</th>\n",
       "      <th>25%</th>\n",
       "      <th>50%</th>\n",
       "      <th>75%</th>\n",
       "      <th>max</th>\n",
       "    </tr>\n",
       "  </thead>\n",
       "  <tbody>\n",
       "    <tr>\n",
       "      <th>Tempo_Cliente</th>\n",
       "      <td>10000.0</td>\n",
       "      <td>5.0128</td>\n",
       "      <td>2.892174</td>\n",
       "      <td>0.0</td>\n",
       "      <td>3.0</td>\n",
       "      <td>5.0</td>\n",
       "      <td>7.0</td>\n",
       "      <td>10.0</td>\n",
       "    </tr>\n",
       "  </tbody>\n",
       "</table>\n",
       "</div>"
      ],
      "text/plain": [
       "                 count    mean       std  min  25%  50%  75%   max\n",
       "Tempo_Cliente  10000.0  5.0128  2.892174  0.0  3.0  5.0  7.0  10.0"
      ]
     },
     "metadata": {},
     "output_type": "display_data"
    },
    {
     "data": {
      "application/vnd.plotly.v1+json": {
       "config": {
        "plotlyServerURL": "https://plot.ly"
       },
       "data": [
        {
         "bingroup": "x",
         "hovertemplate": "Tempo_Cliente=%{x}<br>count=%{y}<extra></extra>",
         "legendgroup": "",
         "marker": {
          "color": "#636efa",
          "pattern": {
           "shape": ""
          }
         },
         "name": "",
         "orientation": "v",
         "showlegend": false,
         "type": "histogram",
         "x": {
          "bdata": "AgEIAQIIBwQEAgYDCgUHAwEJBgYICAQDBQMCCQMAAwcJBgkAAwcHBgQIAgIFBAkJAgIKBQUIAQEFAAQEBQkBCAQGAQoFCAIGAAUJAQgJBQoBAgMEBAoDCQQDBQcKCAQKCQgICQYGCQcBBAECBQkDBwIJCQkGAQgECAYGCgMJAQAHCQMJCQEHBQUCAgEKBwUCBQUIBQkABwkIAgYHBwIGBAYCBwIACQcJAgkEBQoEBQcABQgDAgIBAgQIAQAFBwgDAQgJAwYDCgYCBAUCAwMDBQUCAggJAQQHBwkBCAkHAgoGBAkGAgMBAAEDBQYCAwICBAUIBgcKBwEICAUBAAIIAAoGBgMJBgYACQkCBwcHCQMBCAQHAwoGAQgKBAcIBwUIBQoJBQcJAwIEBwAFCgYIBgQBAgcECAQGAwACAwIJAwQCCAEEAwQCCQEHBwECCAYHAwIFCgYEBQgHBwkDAQUDAgcGAQAICQEDAwIJCQkDCQgCAgQBAAEHCAoEAgIJBwoIAwkGAgIKBwMJCAACAwgJAQEECAYICQkECgMKAQMJCAgFCQYGAwIHBAkJCgAJAQMCAAgIAwQKAgMDCQcCAwECBAYGBwkHAwYFAwMBCAEDAwQECQkFCAMKAQIIAQYBCAcEBgUICQkABwMCCQECBAYCCAYFCAgEBQUJBAUHBgUCCgYFBgMJCgcEBgEHBQgDAgIIAwECBAYKBwEKCQUBCAkEAAcCAAcHAQMGCgcDAwUDAwUHAQgBBgQCAQUHAQEJCgMIAwQGAggCAwkBAgkFAQYHCAkEBAIJCQUECAcJBQoJBAoFAgoGAgEIAAYIBwgJCgUDAgcBAgEDAQYKAwYFAQEKBAUFAQUJCAMHBAYEBwMECAgGAQkGAwgCBAEJAwMDBQMJAAYFBQQHAQMFBQQICQICBQcFAQEIBgIGAQECAAUHAgECBQQECAMABgEDAwkEBQoFAgYBAgMKCQcFAQYKAwkHBgYCBggHCAcCCAUCBQIEAAkHAgUJAgIJBQUFBgECAgIJAgECBAIDBgcHCQgICAECCAcFAQIACAIDBgEBCAkDBgkHAAcJBAkABQoGCgcDCAIFCAIJBgQFCAkECAUBAgoGBQEDBgIDBQMEBgEIBQMHBgUBAAEBCAYIBAUHCQEIAgcGBAoBAQYECAcCBwUJAQQDCQYEBgQHBwACAwgIAgkDCAUIBgICAQcHBQQJBgEKBwYGBAEKBgYDAwkFAQUBCQEDBQgHBgkIAQkDCAUECgEIBggIBQQFBAMICAkAAgQACAgGAQQHBAQFBgkDCQoDBQcFCAgECAcAAAcGAQkBAAcDBQIDBwkJAwcEAQgKAQMHBQYHBgAKAwQEAwUHBwUBBgYBAwQEBgAJCgEDBAEDAAIBAQMDBQcBBAYBBAUDBAIDBgcDAwEIBwgECQUEBAoEBgcFCAYGBwYIAwgKBwgABQgFAgoCAwQHBAQABAMGBAcCCQcCBwMCAQcEAAEDCAgFCAEHAgQEAQEHAQgDAgcBCQAEAgYFBAkBBQUJCQQIAwUDBAYEAgcCAwMBCQoIBgkFAAUBCgIIBgADAwUFCQEEAQYHBQEHAwMJAgUBAwQGBwIEBgkHBgIFAgcKBQQGBwcFBgQGCAUDBQUHAgEBCAYGBwMGAgQJBAcGAAUDBwkBBAYACgcGAwQFCgQEAQMJAwMBBQYBBwkIAwIGBAcCBwUGCQUHBwYECAgHBwUFCQcKCQIHAgADAgUKCAEDAgkACgMCCggCBwgDAgUEAwUCBwYCBwIIAwMDBggHAwgBCQUKBQcCBwQDBgYFAgcDAwkFBwcGBAMJAAMECgQDCAcHBAgHCAgJAwYIBgQKAwUDCggIBwQAAgkECAIJBwAEAwUJAggGBAYCAgkFBwQECgUHCAIJAgUFCQEIAgQJBQgDAgQBCQgBCQkHCgYIBgoHAgUEBgMKAwcHAggEAgoKBAEFBgMHAAMBAQQBCAYIBQIFCAUICAEBCgQEBggIBwkDBgcICQcIAQcFBQgECgMGBgIACgIIBgcGCAMFBgEIBgQICAUIAgYBAwQJCAgECAEFBAYHBgECCAQCBwEIBAcKAgEACgQGBQgBCQYIAQEFAwYKAgkIBwgGBwEIAwYEBwcHBQYDBwYEBwUIAQIIBAgBCQIEAggACQMDCQYEBAgKAQUEAgoDAAUJBQgBAwcFBwYACQgFAgMEBwMFBwgEBgkFAQgJBgYCCQcABwQEAQUICgcDAgYBBwoICAQBBgMABQcABQQBCAMIBwgJBwgIBwgICQUBBAQABQICCAUBCQYJCQMIAQMHBQYFAgUEBQAHBAUHAwgACQgHBwQBBgcCAQkCCQcHAgoFBwIBBQkFBAEHAQYDBwECBAEEAQcIBQQFAggABgEIAwIBCAYDCAcBAQUJBAQKAwcIAQUHBwIFBgAABwkCCQMDBQgJAQQIBAQJBwkIBQcACAUGBgcACQUDCAECCQcACAgFBAoEBAkCAQQJCAIJCAcHCQMIBwYCCgEFBQkJBwkJAgIHBgYHCAcJBAEIAwcHAwAFBggFCgIBCQQDBgMACQQGAgcBAwMHBwUJAggDAQgDAwYEBQcFAwkDAwcHAwYGCQUDAQkCCggJCgUDBAYGCAEFCAgFCQgFCQUKBAAEBAUGAQUICQEGBAEJAgQIAAECBggHBQIBBQMBAwIACAMHCgYFCAkJBAMCBAQDAwYDBAEGCQkHCQQCAwUIBAgGBwAGBQEDBQIJCAIFAQgBBAgFCQYJAwQGBgMBBggJCQIIBAUEAgEJBgYCBgMJBwEFBQAHCQEJBQMEAQcJAQIGBAgGAwUHAQMFBQoHBAYIBAcCBwUEAgkCBwYJCQgEBgIGBgEJBAEDAggHBgkBBAUCBwQKBwkICgYFAwcDBQYCBggHCQECCAQJAgAECQIEAQMHBQkJAQEJCAgCBQYICQIJAgIIBggECQkDAgEBAgkBAAgEBAkFAgkGBQYCCAkDAgYIBQgCCAAKBgMCAgMGAwIGBgoGAgEJCAgHBwYBAgQFBAkBAgIABQQECQQIBQQHCQYCBgUJBwUBCQcDBQQHCAIIAgAJBwkJAgIKCAQABwACBgQJBgkFCQMGBQICCQUGAQYCCgcFAgMFAAYIAQYHCQMFAAcFBQQJBAcDBQMHAgcCAQQEAQMFBQQJAgUJCQoHAgkBAwQGCQkECQQHAQkKBAQEBAEHAwQECQgDCggHBAMDBAgJCAAHAgEJAggJBgkIBgAHAgQKAgQDBQIIBAQDBgIIBAgBBgcKAQAEBQgCCgUKBQAJAQUEAQoJAQgJAgQKAwQJBgMJBgQICgkIBQgCAQQDBgYHAwEGBAQDCgUCBAMICAoFAAYABAgBAgoCBwEKBAQGAgIABwQBAQQKBgYICgMEAgUFAQMABgYIAwkBBQABAAQIAAMHCAIJBAQIAgYBCQUGBAYBBgIFBwkCCQUECAEABgAFBwAJBggFCAcCBgcGCgQCAQcKCQAHBQUDAQECBAMDBwMJCQYBCAYFAAkDBQIGAgMDAQIBCQQCAAkDCAYFBAUFBQkEBgUEAAMDAgUJAgQCAggCAwkHAwIFCQcCAgcFAQoKBAUFAwkHBgADBAgCAQgCAwgABwUIBAIEBwIECQMBBAEJCQkIAQMGAwkIAwkICAQDAgoBAwcBBQcCCAQDBwQIAgQHCQgKCAYJCAgGAAcBBAYHAgYDBgcJAQoEAQUHBgEBAwcICgkICQgGBQcJBgEABAMCBQgHBgIGCAkIBAcCBQADBwIKCQIHAgEECAQFAQoDBQkBBAcJBgEABAgJBggGAgEEBQIGAgoEBwUJBQUGBAEFAwMDBAcGCAkIBgkBCAkBAAMBCQcHBQEGCAIDCAMFBgECCQUFAwkDBwIJBgcIAgEHAwcGAAkGAggBBgcBAgYECQQIBgQGCQgGAAQHBwkIBwgKBgUCBQkJCQcEAQcBBAAHCgYFAQgKAgkHBwkDAQUFBQcHBwIJCQkGBAkBAQMCAwgJCAABAQECCAUIAwIHBwUBBQQCBgUEAQUKAQIICQQDCAoCCAcGAwcCBQYHAwIKAQQDCgIJAQEJCAQHCgECAQMHAQQFAQIFAQQBAQgIBwMJBwYIBQoHBwIHCAAGCgIGBgEDAgUECAMIAgUIAwICBQMHCAMDCAMJAwoFBAYCAQoIAQcHCgQHAwYFBwMECAYEBwgGCQUDBAEFCgAKAgMEAgcIAQIIBgYICQMJBgcHCAUDBAUJBwgFBgQHAAUCAwEDBgcBBwQFCgkBBgkJCggEAgYFCAEDAAQEAQEEBgQDAwgJAggHAQEKAQkIBgQKCgcCAQICAAEJCgUGBgUGAQkABwYGAAgKBwIDBgcFAwgACgUEBAcDBwICAwYCBQIBAwUHBwkEBAYDAQIHBwMCAgQJCQEBBggJCAEDAAkKAgoJAAUEAwgIAwcKAgMDBwYDBgUDBgECCQgBCAcEBQIDBAUDBQUGCgQDBAUDBgMIBwQBBgUCCQIHAgUKBQUEBwcJAgEFAgAFCAYGBAICBAQDBQcDBgUJCQcGCAcEBwMIBgYFBAIJBgMEBQcCCQcDCQcBCAYDAgYJCgIKAQABCAUECgkECQEDBQYEBAgDAwcCAggEBQEJCAUKAwADCQEIBggJCgUEAQgHAgQBAQMCAwkABgQBBwMHAAkDBgIDCgcDCgYGBwMHBAEBBwoFCgIFAwEKCQMBAgUDCgIIBwEFBQoECQYHBAkHBQUFCAAFBAUHBwIGBQQECAEIBgYFBQQGAwQBAQYBBAcICgkIBQUDAgMIAgYDBAQJCAIBCQUFBAgIBwQCAwQDAgUKCQUAAQgHBgYCBwQKAQUHBgEIAwYACQYECAAECQgGAQQGBwgICQUDCAcFBAAFCAADBgMDAwkCCAQDCggACAYGBwMJAgcFBQAJCQQCAgQGBgcJAQICCgcDAggJAgUCAgEFBgUEBAQKBwoDCgYCCAUHAwYDBwoBCAEAAwACAAgBCAkEAgkBBwcFAgMHBgkCCggIAgEHCQYGAwEFCQoIAgICBggBBQYECQcKAgMICAQEAgUBCAcDAQUCAgMABQICCAkDCQQCBAADBwUECAcDAAUCBgkEAQAKAwABBgkHBQcACQYKAwkFAAgCCAQDBwEKBQEGBgcFBgQCAQIIAQYIBwYEAQMBCQkJAwAHCQUGAwMDBQYGAgQHCAcGBAUJAgQGCQgDBgEGBggFAAIJBQYFAgMJBQICCQIBCQgECAQBBgMEAgUCAgYGAQcDAwMHAAUGAQUGCQgFBQEDBAEBCQUJBQUICgUKCQUFCQcDCQIABQUHAAoCCAQIBAoEAgYHBQMIAwcJBgcAAQQCCAYIBwgHCgcAAwgHBQoFAQUFCAEEAgYHAwEJBAQBAgEGCQMCBAYACAcICgUIBAYHCQYEAgIFBgIIAgUBCAUJAgcECQkKBQMGAwYICgQGCAUKAQEEAwMBBAkAAgUBAwEEAgUGBAQEBAMCBggCBAEKBQoHBQkJBAMABgYKAwkBBgEJBAMFAwUJBwEHCgEFCQoJBQcCCQYDBQMCAwgHBwAFAggCAgYGAQYGCAgDCAgFAAMHBAUHAQcFCAgKAwYCAwQACAcBAgoEBQIICAQFCQQDAQIACQIHAgEIBQcJBwIFCAcFCQIABAgHAQkFCQEBBQYIAggIBgkJCgMFAwcGBAkGAwIABQUBCAgFCAMFAgcBCAQJAQcDAggICggECAMIBAcFAwUABwQCBAMHBAoHAgUDAQQBBQoCAwMICQkHCAMBAgMHAgQJBwUFAQQKBQEHCQoHBwQIAwUBAwEGAwMDAgYDBQkFAgEIAwYFCgMHCAIDBgEHBAQEBwgBAggJAwoIAgYABQIEAgACAggFCQAHBwcJBAACAgEBBwMHAAYGBgQICAkGAgoCAgkHAQcGCQUCBQgAAwQKAwYBCAMBAQYHBQcEBgQGAwEHAAAHCQMBAAcBAwcBAwIECAgGCAgBAgoFAwgBBgICAQAFAQgGBAMIAQkEAgADAQgBCQMDBggBAwABBgcGAQIECQIFBwcFAwIBAQkCAggICAgHBwcKBwUECAkJAQYIBwYABgIJBwUBBwEHCQoIAwUJAQkDBAIBBwYBAwEHAAQBAwQCBAQIBwkIBwMJAQcDAQEGAgQICQgABgYHBgEIBwECBgQJAwUIAQEFCAoDCAEIAwcHAQEDCgEAAgIFAwEKAwcBCAIIBQgDAgIDBwgJAwMABQMIBAQBAgcDAwUJCAQIAgAABgAKAwUDBwMCBgECAQkDCggDAwIHAQEBAgIFAAYECQcHAQAEAgUACgAIAAoECAYBAwMDAAkBCggIAQMEAAgGBwcBBQQBAwEBBAIABgEGBgIICAEBCQYHBAUICAICAgEIBwMBAwEAAwEJCQMBBQMGAQcFBwECAQgHCAUHAwIBCQIIAgQGBQkBAQYBBgUDBQIBAQIAAwQHBgMIBggHAQQDAwIGBQUKBAkFBAcHCgIECgMJBQIFBwICAgcFAQYJAAMGAgUIAAoEBAkBCgkEAwMGBAEDAwcICQgHCAMEBgoIAgUFAAkIBAUKBQgHBQIHCQcAAgMHAwMCAgYJAQABCgEGBwIKAggFAgUDBgkHAQYGAAECBgEDCgUACQEHBQIIBgQBBgcJAQkDAgMGBQoAAgADAQkIAwECAgIEAgYHCAcECgYHBAQEBAcDCQgICQYJBAkBBwMJBAcHAwUABwQEBwgFAwUGCAYIBAEJAgoAAwoIBAUIBwMIAgUDBwIFBwgDAgMDAwgCCgEIAAIEAQIDCQQEAQoHCQoCCAUJBgUICQAIBwoGBQoGBAkBCAIJBAkJBQACAAUHCAkJBQIJAwcDAQkJBggBBAEIAQQKAwMFAAIIBwgFCAMCCQcJBgoECgYGBAQJBQIDAQIJAwEAAwoJBAMFAAkJBgkHCgQHBgcIBwQCAgkHCQYFBwYIBQIBBAkJAgQFBQEICQQCBwgBAwkBBgEICAMKBwIHBAUEAwMDBQQHCQQHBwMHAQMKCAUGBQQBCQIIAwMBAQAKBQcCBQMJCQUHCQgBAQEBAgMJCAEFBQcEAQYJBgYJCAgEAQAHAwMIBAMBAQECBQkCBgoJBgYIBgEGAgkJBgEJBwEFCQAIBQoFBQEAAQMABwUFAAYIAgMJAgMBAggEBQkEAAQBBwUGAQEDAwkCAQYEAQIFBwEKCQEFAgIFBQMIBgMFBgoHAQECBwAJBgQBBgkKAQQBCAIIAAUJBwMIBQoEBwQCBgEABwQHAgYBAQgBAwQFBwEGCQgBAwIHBwgAAgUEAgYHBAIBCgEFAggJBQcGBAEEBQkJCgIHBQIFBgIBAwEFBAEKBAMJBQECCQMIAQIBAgQFCQcIAgYHCQgKAQgDCAkIAwoCBwADAwkBAAIIBgIDCAYBBgEGBAAKBAIECAYDCQQICAMKCQMAAwIDBgYJBwIDBgoDAwAGBgUDBQQCCQUCBQMBBwACAwYICQIEBQUIAgUDCAkCAgEGCQoFBgcGBAkGBwUHCQEBAAUIBwEEBQYBBwMIAgQKBwYECgYBBwcEAwQJBQUCAgEDCAcIAgIEBggFCQUHBgoACQIDAQkACQIEBQcCBAkHCAcHCAYFBQgDBgkJBAYCCQEDAwYGBgQEBQYEBgcHBQkGAwQHCAYFCQkDCQUCCQoKCQEFBwEGBQMGBQEICAoKBAcIBwgEAwIIAQgJAgABAwcICAgJBgMGCQkHAwQIBwMFBgADBQICAAgBCAgBCQgIAAIKBggHAgQFBAoBBwYFCAUIBAoAAwkBCgIFAQEJAgQHBgMFAQQBCQYFBAcCBwEIAAkICQQIBgkCBQoGAwAEAQkEBQkBBAACBgMDBQUBBgcKBwQDBAMJBAgDBQICAgcJAgYCBgoGAAAJAgoDBQADAgQBAwoBBwECAgIEAQkEBgUEBwkGBgQGAgcKAgECCAYKAwkBCAcDCAMFBwIECQIJCAcEBgAABwQDCQcHCAgHCgcACQQGAwcGBQAHBgkJAgEHAQUJBQgGCgYDAAcHCQYEBwgHAgoJAwIHCgUEBAAGCgUCBwoJBQMFBQEBAwQJBAcCBwkCBAcABgMBAwUJCAIEBQgBBAUHBQQIAQYAAQIJBgAGBAEEAAkGBAkDBwUIBwIHAAYEAgQICQUFAwMCBAkCCAgBCQcDCQcCBwIDBwoIBAkFCQIGBgoJAAMFAwMJCQECBQcAAgUBBwgDBgcHBQIBBAIJCQQICAYDCQQIAQEKAwcDAgkGCAoCBQMECAMABQEIBQcHCAIHCgkCAwUBAQQIAwQEBAoJAwQGBQMFAwQDBwIABwUCAAgDBQgCAQQHCQoJAwcCBgkGAQIKAQoAAgAICQYDBQcEAQECBgIDAQMGAQEIAQQIBAEDAAoIAwUBBAEJAgkKCAEDCQYHCQUBCQYBAgMJBgMDCQQEBQIIBwkCCAQIBwEJBwEAAQIHAwYEBAIHCQQFCQQICQMKCQYHCQMFAAIIAAUIAwcCBggECAYBBAEICAgBCgYDBAEICAcBAwkIBQQJAwIJAQAIBAYFCQkAAgIFAgIBBQUJAgcBAwUGBwEHCQMJBwUDBAIAAgkJCQUKAwACBwQIBAkBAQUEAgkGBggGAAgJCAUDBwIFBgMBAwUIBAIEAwEKAQUDBgEJAwYCBgYFBQAJCgYBBQQEAQECBgQHBgQFBQoIAgUEBAkFBggEAwIFBQIJAwIGBQkHBQQJBQkFCQIGAQIBBgYBCAQHCQcCBwkEBAoEAQQBBAcDCQoJCAQICQYHAwQBAwUHAQMCAAQHBgMFBQEEBQEFAAQBBwMEAAIAAQgBBAoIAwkGBQQJBwYGBwgJBQcCBQcABwYBAwcFBQIGAggBCgYFBgkGAgMFAwcBCAgBAwUFAAEDBwYHBgYFAwMFBwEFAgMEBgUHBgEDBAIIAQcKCgUICAcBBAUEBQQBBAcIAwgFCQoDAAgCBQgIAQQIBwUFAwgDBwYHCAgFCQkCAwEGAwoHBwgDBQAIBwACAwQAAwoEBQIEBwMFAggICAkKCgkECQQABAECCQgCCQEJBAMDAwoJAgIHBwMDCQIBAQUEBQcGBwUHBgcCBwYECQUIBwYCAgMKBAkFAQoGAAYHAwcJBggCBgYICAkHBwEBBgkFCQUDAwYABQoDBQMHAAoJAQEKCQkJCAIKCAYGCQYGBwMBAQgFBQMBAQEJBAEFAgEBBAMGBQkGAwAIAQQCAAMHCQMHCgkABwIDAQkIAQIIBAYBBwgFCAYHBgICBAAHAwYBAwUFBQEDCgcHAggEAAcDBwIFAQkBBQABAwEJBwIBAgQECQEGCAQHBgcHAwIGCAEFBwgEBwQDBwEDCAYFBgkHBgcJCQgIAgkFBwcKBAQFCAkBBQEEAwkHAQQBAgUFBAkFCgIIAQYFBQYIAQgIAgYBBQkCBwQDCQUDAgQHBAgABAQBBwMIAAECAgECAwYCAgYGBgEFBgYJCAgEBAEJBAIDCAEEAwIDBQkBBQcEBwEJCggFCgYGAwgEAgEHAwQDAQMHBAUICgIIBAUFAQIICQYCAwEEBgUIBwMGCgMEBAQDAQMCCAgBBQIACAYBBgECBwAEBQEIBAQECAMJBwYKCAYDBgkDBQoIBwcFAAYIAQkFCAMFBwgHBgcAAwgJBAkICQkCCAYFCgYHAQUIAQoJAQQEBgkEBQgBAggBBwQJBgQJCAcAAgIGAgoEAQUFBwcHCAcFBwUHAgUDAgcGCQcAAgACBQgHBwEEAgMHCgkGBwEHAAYGCQIABAEHCQcDBAMEAwQHBAQDAgIHCAQJBgEBBgAIBwIIBgcGAQAEAgYCBQEFAQkBCAoCBwQBBQgEBgIGBAcICAAEBwQHAgUGBwIGBwUEBAEFCAcGBAYEBgQFCggKAwQECgkHAQYGAAgBBwgGBwcEAggJBQMFBgcIBwUEAQcBCQcGAQgEBAIJBQYHBAIGCAUEAwkBBwIBAwQICQYAAwICAQUGCQQGBgUFAgQEAwgHAgUICAEABAgCBQQGBAkACQMECgIIBAgGBAQBAgAECAYHBQUJBQgEBAYCBAoKAQIIBwgGBAgKBwIEBAkECQEABgIJAAgHAgcIAQYCCAkBAAUBCAYBAAEKAQYGAgEEBAEDBwoECQoHAgkIBgMDCQACBgQGBwEKBAUECAcICAgBBQQDAQoDCQoICQEKBwEACAEDBwgGCgQHBwEJCQQGBgMFBQAFBwUHBwYEBwcCCQUGBQEDAwMIAwgHBAAJAggGAwYCCQEECQkKAAUDCAUCBQQECAcDCgUCCgkIAAYBBgcFCgECCAUHBAcJBwIIBAEDCQUEBgEDBQUECggDCQkEAwgCCQkFBQgBAwkDCAkBCQIFAQIBCQYDBQYHCAIKCAIBAwYDBAYFCAEDBwAFCAYJAQAGAwoGCAcGAwEGAwIBAgcCAQkHAwEEBwUKCgACAAoHCAYCCQoJAgMDBggEAgcDBQMFAQcJCAkDBAMHAgICCAMDCAIJCAAFAgIHCAQCCgkICQIDBgkIBAIIAwQHBwUBAAMACgcABgMHBwgHBgMDCQEFCAIJBgMECAgDCgUFAQACCgYJCQEGBgAIAgAJBwIFCAEKAQYEBwEDCQoACgMCBAUGAQIGCQEGCQUIBQcGBQIHBQEEBAcBCAcGBgIDAgoGAgEBAQgGBQMBCgACAwcFBQMGCAQCAwYABAQJCAIGCgUHAgMECgIHBwkBCQYCAwUICAUJBwQBAQUGAwUICQEGBQEIBAoBCgIKAgIBAgUDCAIGAwEKCQgECAgDBgUGCQgBCgUECgEGBAkDAwUGAwIBCQMBCAcCAgYGCQYGCQMFBQQJAQEEBQcICQQIBgMGAwcEAAYBCQIBAgEFAgYGAAICBgUCAQYCCgMGAAoDAgYCBgkGBwUFAgIBCgkGCAQFBQMEAwYHAQYEAQYBBAEBCQcIBwgFAQIDBgIJBwIGBQQEAwIICAcCAwEACAEABgMIBwkBCAUCAwYDBQMIAgoIBQQHAwYDCQUKBAUDBAYCAwUGAgcABAcEAgkCBgQHAQMDAwMKBwQACQQJCQMDBwcICQIDAAUHBQYGCQEJBwMBAQUBAwUHBAoGAAEIAgcACAUBAQUJAwgCBwgEAQMKBwEJBAQBBQQCBgcCBAUHAwIIAQMEAwcJBgYGAwQBBwQGBwMBBQYDCQAJBQICAQQECgQACQEABwMDCQMDCQcCAQIGBwYBBAMDCAYJCQcBCgECBwcBAwUCBAcHAwQGBggCAwUDBAAIBAYACgMJCgAEBgcICAEGBAUDBQIECQkHCQcGAwIFAgYJBgUEAgkBAAICBwgGBQcDBwkHAggFBAUDBwYFAQkFCAEJBgYJCAQHBQcBAgQCCQMFBQAKAwYEAgkAAAIFCgIJAwcGAAUHBQIJCQIEAwEHAgIGCAIDBQkFAgIICQUEBwAECAMHAQMIAQYIAQMECQIBAggGAggGBQEHBQgEBwcCAgQIAQcBBAMBCgcFAAUKBwEKCQQJAAkHAgoIBAAJAQoEBgIBAgYGCQIHBwoGCQcJBQIDAQMJCAgCBwgFAgMBCAEDAgEEBgYGBggHCQgEAQcEAwQCAgQCBQMCAwQGCQQGAggKCAMCAwEBAQUGCQEJAgUGBAQBAgEBBAUCCAkBAQgHAQoJBQQCAQcGBggKCQoFBAgFCQkAAwcCCAIJAwICBwkDBgIJBQYGAAUCBwYIBAcKCAMIBwQIBQoGCQoKAgMIBQcIBAkFCAgKBgECCAUCBAcDAgoICgoDAAgBBgoFBwgEBgkGCgkBCQMJBwYJCQEIAQECCAkCCAECAggFBAkGBwYCCAYDBwUJBwMIBAEHBAMKCQYEAQYJBQcDAQYCBAcDCQcCAAECAQkEBwECCgMEBQcIAwYKBQYBCgQHAggFAgMHCAAIAwIABgkDAQkCBAECBQIEAQgDCQoFBQoCCAEIBgMCAgUJBAMAAwoJBQkHBQYBBgcECAMBCQgCAggAAQQFBQQKBgEJAQgJBwQJCAECBwIDCgUHCgMIBAgGCAEICQABCQgIBwAHAgMEAgEAAgICAwMGCAMABwYFBQoCAQgEBAgFAgoJCQYHBgMHCAkHCQgGAwMHBQYICQIFAgIEBgIHCQIBAgcFAgACAwEIAQMFBQUBBQQJBQYJBgUDBQIIAAYJAQEDAwIHBQkBBAEDBgUFCQEIBwEGBwUIBgUCAwgEBQYCBAACCQcFAgYGAgMGBQoJCgoJBQkCBQIDBgYFBAABBwUCBAoBBgUEBQEDBwQACgUHCAkICgYECQgHBAEECQUCAgcKBwQKBwYHAgIBCAYCCQgIAQcJAwYKAgEABwQGAwQECQgGAQgHBAkDBAYGAQkEBQAABQIBAAYKBAoKCgUCBAQEAwAABAUFAgUICgkEBAQGBAQHCggJAAMAAQcGBwAGBwoGAwcIAAMHBgYDAwEFBQIEAwgCAQkBAwcGBQYDAQMDBQcFCQEIBQEFCAkJCAUHCQQKAQkFAgIABgICCgAHCAAGCQEGAQkJCQoCAgcFCQgJBQoECQUCAQoHAwMCAgkABwQEBwgACAgHCQkJAgIDAwkJBgkIAgQJAQEFBAIAAQIBAgcCBAgKAQUCBQAACQgBAgcCBQMEAwYFBwYCCgoFBAYKCQIGBgIBBwUJCAEEAQAJCAUFAgcHBAQFAwMKAQkBAgUEAQgIAgMFBwQEBgIICQcEBgcJAgIBCQQKCAAECAIHBQEBAAgBAwEEBgUGAwMEBAAICgEBBgUIAgMGBQoGAAgBAgQFBQkJAwgHAgIIBwAFBgUJCQUGBQcGAggKBgIGAwgJBgcBBwMHAQkEBQcDBQcGBAgFBgUJAQkGBAEKCAgHBwMJAQMCAAkJBggCBwYKAQMHCAEBBQUHCgEHBwcDBwMJCgUJAQECAQEEAwkCAwMEBAgIAAABAwkCCAUGBgoCBQIBBAMJBgIIBQoFBwAFAQcDBQQEBQoDBAYDCQcGBQIDAwQEBwkIAQEEAgkBCAQGAwQECgUJCgQHCgUGCAYJAgQDBQcJAQYHCggDCAMJAgcFAwMJBgUDBwIDBwEHCgIHAwMDCAIIBwMIBwQJCAQABQUICAQIBwEIBwYEAgIBCAEKAgQDBAoFBQEEAQMHAwkKCQMHBAQFBAcFAQIGCAAFAgoKAgADAwEBCQcJCAkBCgEJCgEHCAUHAQUIAwIJCgQFAQEGAQIBBgIKBQEFCAEJAAUJBwkKBgQIBgoGAgEBAwQKCAgFAQMEBAAGAQMCCQQHBwMICQMBAwIECAIICgIECgUJBgMCCAQDBgMHCgoCBAoJAgcDBgEBBQcIAQADAQgGBQUBBgQECQYICAoFAQgFCQcIBQIHCgkBAQkKCAYCBgQKAQYECQkJAgUEBAUIBgcDBAcHAQcJCQEGAwcEBwYBCAQEAwQCBwIFCgcDBA==",
          "dtype": "i1"
         },
         "xaxis": "x",
         "yaxis": "y"
        },
        {
         "hovertemplate": "Tempo_Cliente=%{x}<extra></extra>",
         "legendgroup": "",
         "marker": {
          "color": "#636efa"
         },
         "name": "",
         "notched": true,
         "showlegend": false,
         "type": "box",
         "x": {
          "bdata": "AgEIAQIIBwQEAgYDCgUHAwEJBgYICAQDBQMCCQMAAwcJBgkAAwcHBgQIAgIFBAkJAgIKBQUIAQEFAAQEBQkBCAQGAQoFCAIGAAUJAQgJBQoBAgMEBAoDCQQDBQcKCAQKCQgICQYGCQcBBAECBQkDBwIJCQkGAQgECAYGCgMJAQAHCQMJCQEHBQUCAgEKBwUCBQUIBQkABwkIAgYHBwIGBAYCBwIACQcJAgkEBQoEBQcABQgDAgIBAgQIAQAFBwgDAQgJAwYDCgYCBAUCAwMDBQUCAggJAQQHBwkBCAkHAgoGBAkGAgMBAAEDBQYCAwICBAUIBgcKBwEICAUBAAIIAAoGBgMJBgYACQkCBwcHCQMBCAQHAwoGAQgKBAcIBwUIBQoJBQcJAwIEBwAFCgYIBgQBAgcECAQGAwACAwIJAwQCCAEEAwQCCQEHBwECCAYHAwIFCgYEBQgHBwkDAQUDAgcGAQAICQEDAwIJCQkDCQgCAgQBAAEHCAoEAgIJBwoIAwkGAgIKBwMJCAACAwgJAQEECAYICQkECgMKAQMJCAgFCQYGAwIHBAkJCgAJAQMCAAgIAwQKAgMDCQcCAwECBAYGBwkHAwYFAwMBCAEDAwQECQkFCAMKAQIIAQYBCAcEBgUICQkABwMCCQECBAYCCAYFCAgEBQUJBAUHBgUCCgYFBgMJCgcEBgEHBQgDAgIIAwECBAYKBwEKCQUBCAkEAAcCAAcHAQMGCgcDAwUDAwUHAQgBBgQCAQUHAQEJCgMIAwQGAggCAwkBAgkFAQYHCAkEBAIJCQUECAcJBQoJBAoFAgoGAgEIAAYIBwgJCgUDAgcBAgEDAQYKAwYFAQEKBAUFAQUJCAMHBAYEBwMECAgGAQkGAwgCBAEJAwMDBQMJAAYFBQQHAQMFBQQICQICBQcFAQEIBgIGAQECAAUHAgECBQQECAMABgEDAwkEBQoFAgYBAgMKCQcFAQYKAwkHBgYCBggHCAcCCAUCBQIEAAkHAgUJAgIJBQUFBgECAgIJAgECBAIDBgcHCQgICAECCAcFAQIACAIDBgEBCAkDBgkHAAcJBAkABQoGCgcDCAIFCAIJBgQFCAkECAUBAgoGBQEDBgIDBQMEBgEIBQMHBgUBAAEBCAYIBAUHCQEIAgcGBAoBAQYECAcCBwUJAQQDCQYEBgQHBwACAwgIAgkDCAUIBgICAQcHBQQJBgEKBwYGBAEKBgYDAwkFAQUBCQEDBQgHBgkIAQkDCAUECgEIBggIBQQFBAMICAkAAgQACAgGAQQHBAQFBgkDCQoDBQcFCAgECAcAAAcGAQkBAAcDBQIDBwkJAwcEAQgKAQMHBQYHBgAKAwQEAwUHBwUBBgYBAwQEBgAJCgEDBAEDAAIBAQMDBQcBBAYBBAUDBAIDBgcDAwEIBwgECQUEBAoEBgcFCAYGBwYIAwgKBwgABQgFAgoCAwQHBAQABAMGBAcCCQcCBwMCAQcEAAEDCAgFCAEHAgQEAQEHAQgDAgcBCQAEAgYFBAkBBQUJCQQIAwUDBAYEAgcCAwMBCQoIBgkFAAUBCgIIBgADAwUFCQEEAQYHBQEHAwMJAgUBAwQGBwIEBgkHBgIFAgcKBQQGBwcFBgQGCAUDBQUHAgEBCAYGBwMGAgQJBAcGAAUDBwkBBAYACgcGAwQFCgQEAQMJAwMBBQYBBwkIAwIGBAcCBwUGCQUHBwYECAgHBwUFCQcKCQIHAgADAgUKCAEDAgkACgMCCggCBwgDAgUEAwUCBwYCBwIIAwMDBggHAwgBCQUKBQcCBwQDBgYFAgcDAwkFBwcGBAMJAAMECgQDCAcHBAgHCAgJAwYIBgQKAwUDCggIBwQAAgkECAIJBwAEAwUJAggGBAYCAgkFBwQECgUHCAIJAgUFCQEIAgQJBQgDAgQBCQgBCQkHCgYIBgoHAgUEBgMKAwcHAggEAgoKBAEFBgMHAAMBAQQBCAYIBQIFCAUICAEBCgQEBggIBwkDBgcICQcIAQcFBQgECgMGBgIACgIIBgcGCAMFBgEIBgQICAUIAgYBAwQJCAgECAEFBAYHBgECCAQCBwEIBAcKAgEACgQGBQgBCQYIAQEFAwYKAgkIBwgGBwEIAwYEBwcHBQYDBwYEBwUIAQIIBAgBCQIEAggACQMDCQYEBAgKAQUEAgoDAAUJBQgBAwcFBwYACQgFAgMEBwMFBwgEBgkFAQgJBgYCCQcABwQEAQUICgcDAgYBBwoICAQBBgMABQcABQQBCAMIBwgJBwgIBwgICQUBBAQABQICCAUBCQYJCQMIAQMHBQYFAgUEBQAHBAUHAwgACQgHBwQBBgcCAQkCCQcHAgoFBwIBBQkFBAEHAQYDBwECBAEEAQcIBQQFAggABgEIAwIBCAYDCAcBAQUJBAQKAwcIAQUHBwIFBgAABwkCCQMDBQgJAQQIBAQJBwkIBQcACAUGBgcACQUDCAECCQcACAgFBAoEBAkCAQQJCAIJCAcHCQMIBwYCCgEFBQkJBwkJAgIHBgYHCAcJBAEIAwcHAwAFBggFCgIBCQQDBgMACQQGAgcBAwMHBwUJAggDAQgDAwYEBQcFAwkDAwcHAwYGCQUDAQkCCggJCgUDBAYGCAEFCAgFCQgFCQUKBAAEBAUGAQUICQEGBAEJAgQIAAECBggHBQIBBQMBAwIACAMHCgYFCAkJBAMCBAQDAwYDBAEGCQkHCQQCAwUIBAgGBwAGBQEDBQIJCAIFAQgBBAgFCQYJAwQGBgMBBggJCQIIBAUEAgEJBgYCBgMJBwEFBQAHCQEJBQMEAQcJAQIGBAgGAwUHAQMFBQoHBAYIBAcCBwUEAgkCBwYJCQgEBgIGBgEJBAEDAggHBgkBBAUCBwQKBwkICgYFAwcDBQYCBggHCQECCAQJAgAECQIEAQMHBQkJAQEJCAgCBQYICQIJAgIIBggECQkDAgEBAgkBAAgEBAkFAgkGBQYCCAkDAgYIBQgCCAAKBgMCAgMGAwIGBgoGAgEJCAgHBwYBAgQFBAkBAgIABQQECQQIBQQHCQYCBgUJBwUBCQcDBQQHCAIIAgAJBwkJAgIKCAQABwACBgQJBgkFCQMGBQICCQUGAQYCCgcFAgMFAAYIAQYHCQMFAAcFBQQJBAcDBQMHAgcCAQQEAQMFBQQJAgUJCQoHAgkBAwQGCQkECQQHAQkKBAQEBAEHAwQECQgDCggHBAMDBAgJCAAHAgEJAggJBgkIBgAHAgQKAgQDBQIIBAQDBgIIBAgBBgcKAQAEBQgCCgUKBQAJAQUEAQoJAQgJAgQKAwQJBgMJBgQICgkIBQgCAQQDBgYHAwEGBAQDCgUCBAMICAoFAAYABAgBAgoCBwEKBAQGAgIABwQBAQQKBgYICgMEAgUFAQMABgYIAwkBBQABAAQIAAMHCAIJBAQIAgYBCQUGBAYBBgIFBwkCCQUECAEABgAFBwAJBggFCAcCBgcGCgQCAQcKCQAHBQUDAQECBAMDBwMJCQYBCAYFAAkDBQIGAgMDAQIBCQQCAAkDCAYFBAUFBQkEBgUEAAMDAgUJAgQCAggCAwkHAwIFCQcCAgcFAQoKBAUFAwkHBgADBAgCAQgCAwgABwUIBAIEBwIECQMBBAEJCQkIAQMGAwkIAwkICAQDAgoBAwcBBQcCCAQDBwQIAgQHCQgKCAYJCAgGAAcBBAYHAgYDBgcJAQoEAQUHBgEBAwcICgkICQgGBQcJBgEABAMCBQgHBgIGCAkIBAcCBQADBwIKCQIHAgEECAQFAQoDBQkBBAcJBgEABAgJBggGAgEEBQIGAgoEBwUJBQUGBAEFAwMDBAcGCAkIBgkBCAkBAAMBCQcHBQEGCAIDCAMFBgECCQUFAwkDBwIJBgcIAgEHAwcGAAkGAggBBgcBAgYECQQIBgQGCQgGAAQHBwkIBwgKBgUCBQkJCQcEAQcBBAAHCgYFAQgKAgkHBwkDAQUFBQcHBwIJCQkGBAkBAQMCAwgJCAABAQECCAUIAwIHBwUBBQQCBgUEAQUKAQIICQQDCAoCCAcGAwcCBQYHAwIKAQQDCgIJAQEJCAQHCgECAQMHAQQFAQIFAQQBAQgIBwMJBwYIBQoHBwIHCAAGCgIGBgEDAgUECAMIAgUIAwICBQMHCAMDCAMJAwoFBAYCAQoIAQcHCgQHAwYFBwMECAYEBwgGCQUDBAEFCgAKAgMEAgcIAQIIBgYICQMJBgcHCAUDBAUJBwgFBgQHAAUCAwEDBgcBBwQFCgkBBgkJCggEAgYFCAEDAAQEAQEEBgQDAwgJAggHAQEKAQkIBgQKCgcCAQICAAEJCgUGBgUGAQkABwYGAAgKBwIDBgcFAwgACgUEBAcDBwICAwYCBQIBAwUHBwkEBAYDAQIHBwMCAgQJCQEBBggJCAEDAAkKAgoJAAUEAwgIAwcKAgMDBwYDBgUDBgECCQgBCAcEBQIDBAUDBQUGCgQDBAUDBgMIBwQBBgUCCQIHAgUKBQUEBwcJAgEFAgAFCAYGBAICBAQDBQcDBgUJCQcGCAcEBwMIBgYFBAIJBgMEBQcCCQcDCQcBCAYDAgYJCgIKAQABCAUECgkECQEDBQYEBAgDAwcCAggEBQEJCAUKAwADCQEIBggJCgUEAQgHAgQBAQMCAwkABgQBBwMHAAkDBgIDCgcDCgYGBwMHBAEBBwoFCgIFAwEKCQMBAgUDCgIIBwEFBQoECQYHBAkHBQUFCAAFBAUHBwIGBQQECAEIBgYFBQQGAwQBAQYBBAcICgkIBQUDAgMIAgYDBAQJCAIBCQUFBAgIBwQCAwQDAgUKCQUAAQgHBgYCBwQKAQUHBgEIAwYACQYECAAECQgGAQQGBwgICQUDCAcFBAAFCAADBgMDAwkCCAQDCggACAYGBwMJAgcFBQAJCQQCAgQGBgcJAQICCgcDAggJAgUCAgEFBgUEBAQKBwoDCgYCCAUHAwYDBwoBCAEAAwACAAgBCAkEAgkBBwcFAgMHBgkCCggIAgEHCQYGAwEFCQoIAgICBggBBQYECQcKAgMICAQEAgUBCAcDAQUCAgMABQICCAkDCQQCBAADBwUECAcDAAUCBgkEAQAKAwABBgkHBQcACQYKAwkFAAgCCAQDBwEKBQEGBgcFBgQCAQIIAQYIBwYEAQMBCQkJAwAHCQUGAwMDBQYGAgQHCAcGBAUJAgQGCQgDBgEGBggFAAIJBQYFAgMJBQICCQIBCQgECAQBBgMEAgUCAgYGAQcDAwMHAAUGAQUGCQgFBQEDBAEBCQUJBQUICgUKCQUFCQcDCQIABQUHAAoCCAQIBAoEAgYHBQMIAwcJBgcAAQQCCAYIBwgHCgcAAwgHBQoFAQUFCAEEAgYHAwEJBAQBAgEGCQMCBAYACAcICgUIBAYHCQYEAgIFBgIIAgUBCAUJAgcECQkKBQMGAwYICgQGCAUKAQEEAwMBBAkAAgUBAwEEAgUGBAQEBAMCBggCBAEKBQoHBQkJBAMABgYKAwkBBgEJBAMFAwUJBwEHCgEFCQoJBQcCCQYDBQMCAwgHBwAFAggCAgYGAQYGCAgDCAgFAAMHBAUHAQcFCAgKAwYCAwQACAcBAgoEBQIICAQFCQQDAQIACQIHAgEIBQcJBwIFCAcFCQIABAgHAQkFCQEBBQYIAggIBgkJCgMFAwcGBAkGAwIABQUBCAgFCAMFAgcBCAQJAQcDAggICggECAMIBAcFAwUABwQCBAMHBAoHAgUDAQQBBQoCAwMICQkHCAMBAgMHAgQJBwUFAQQKBQEHCQoHBwQIAwUBAwEGAwMDAgYDBQkFAgEIAwYFCgMHCAIDBgEHBAQEBwgBAggJAwoIAgYABQIEAgACAggFCQAHBwcJBAACAgEBBwMHAAYGBgQICAkGAgoCAgkHAQcGCQUCBQgAAwQKAwYBCAMBAQYHBQcEBgQGAwEHAAAHCQMBAAcBAwcBAwIECAgGCAgBAgoFAwgBBgICAQAFAQgGBAMIAQkEAgADAQgBCQMDBggBAwABBgcGAQIECQIFBwcFAwIBAQkCAggICAgHBwcKBwUECAkJAQYIBwYABgIJBwUBBwEHCQoIAwUJAQkDBAIBBwYBAwEHAAQBAwQCBAQIBwkIBwMJAQcDAQEGAgQICQgABgYHBgEIBwECBgQJAwUIAQEFCAoDCAEIAwcHAQEDCgEAAgIFAwEKAwcBCAIIBQgDAgIDBwgJAwMABQMIBAQBAgcDAwUJCAQIAgAABgAKAwUDBwMCBgECAQkDCggDAwIHAQEBAgIFAAYECQcHAQAEAgUACgAIAAoECAYBAwMDAAkBCggIAQMEAAgGBwcBBQQBAwEBBAIABgEGBgIICAEBCQYHBAUICAICAgEIBwMBAwEAAwEJCQMBBQMGAQcFBwECAQgHCAUHAwIBCQIIAgQGBQkBAQYBBgUDBQIBAQIAAwQHBgMIBggHAQQDAwIGBQUKBAkFBAcHCgIECgMJBQIFBwICAgcFAQYJAAMGAgUIAAoEBAkBCgkEAwMGBAEDAwcICQgHCAMEBgoIAgUFAAkIBAUKBQgHBQIHCQcAAgMHAwMCAgYJAQABCgEGBwIKAggFAgUDBgkHAQYGAAECBgEDCgUACQEHBQIIBgQBBgcJAQkDAgMGBQoAAgADAQkIAwECAgIEAgYHCAcECgYHBAQEBAcDCQgICQYJBAkBBwMJBAcHAwUABwQEBwgFAwUGCAYIBAEJAgoAAwoIBAUIBwMIAgUDBwIFBwgDAgMDAwgCCgEIAAIEAQIDCQQEAQoHCQoCCAUJBgUICQAIBwoGBQoGBAkBCAIJBAkJBQACAAUHCAkJBQIJAwcDAQkJBggBBAEIAQQKAwMFAAIIBwgFCAMCCQcJBgoECgYGBAQJBQIDAQIJAwEAAwoJBAMFAAkJBgkHCgQHBgcIBwQCAgkHCQYFBwYIBQIBBAkJAgQFBQEICQQCBwgBAwkBBgEICAMKBwIHBAUEAwMDBQQHCQQHBwMHAQMKCAUGBQQBCQIIAwMBAQAKBQcCBQMJCQUHCQgBAQEBAgMJCAEFBQcEAQYJBgYJCAgEAQAHAwMIBAMBAQECBQkCBgoJBgYIBgEGAgkJBgEJBwEFCQAIBQoFBQEAAQMABwUFAAYIAgMJAgMBAggEBQkEAAQBBwUGAQEDAwkCAQYEAQIFBwEKCQEFAgIFBQMIBgMFBgoHAQECBwAJBgQBBgkKAQQBCAIIAAUJBwMIBQoEBwQCBgEABwQHAgYBAQgBAwQFBwEGCQgBAwIHBwgAAgUEAgYHBAIBCgEFAggJBQcGBAEEBQkJCgIHBQIFBgIBAwEFBAEKBAMJBQECCQMIAQIBAgQFCQcIAgYHCQgKAQgDCAkIAwoCBwADAwkBAAIIBgIDCAYBBgEGBAAKBAIECAYDCQQICAMKCQMAAwIDBgYJBwIDBgoDAwAGBgUDBQQCCQUCBQMBBwACAwYICQIEBQUIAgUDCAkCAgEGCQoFBgcGBAkGBwUHCQEBAAUIBwEEBQYBBwMIAgQKBwYECgYBBwcEAwQJBQUCAgEDCAcIAgIEBggFCQUHBgoACQIDAQkACQIEBQcCBAkHCAcHCAYFBQgDBgkJBAYCCQEDAwYGBgQEBQYEBgcHBQkGAwQHCAYFCQkDCQUCCQoKCQEFBwEGBQMGBQEICAoKBAcIBwgEAwIIAQgJAgABAwcICAgJBgMGCQkHAwQIBwMFBgADBQICAAgBCAgBCQgIAAIKBggHAgQFBAoBBwYFCAUIBAoAAwkBCgIFAQEJAgQHBgMFAQQBCQYFBAcCBwEIAAkICQQIBgkCBQoGAwAEAQkEBQkBBAACBgMDBQUBBgcKBwQDBAMJBAgDBQICAgcJAgYCBgoGAAAJAgoDBQADAgQBAwoBBwECAgIEAQkEBgUEBwkGBgQGAgcKAgECCAYKAwkBCAcDCAMFBwIECQIJCAcEBgAABwQDCQcHCAgHCgcACQQGAwcGBQAHBgkJAgEHAQUJBQgGCgYDAAcHCQYEBwgHAgoJAwIHCgUEBAAGCgUCBwoJBQMFBQEBAwQJBAcCBwkCBAcABgMBAwUJCAIEBQgBBAUHBQQIAQYAAQIJBgAGBAEEAAkGBAkDBwUIBwIHAAYEAgQICQUFAwMCBAkCCAgBCQcDCQcCBwIDBwoIBAkFCQIGBgoJAAMFAwMJCQECBQcAAgUBBwgDBgcHBQIBBAIJCQQICAYDCQQIAQEKAwcDAgkGCAoCBQMECAMABQEIBQcHCAIHCgkCAwUBAQQIAwQEBAoJAwQGBQMFAwQDBwIABwUCAAgDBQgCAQQHCQoJAwcCBgkGAQIKAQoAAgAICQYDBQcEAQECBgIDAQMGAQEIAQQIBAEDAAoIAwUBBAEJAgkKCAEDCQYHCQUBCQYBAgMJBgMDCQQEBQIIBwkCCAQIBwEJBwEAAQIHAwYEBAIHCQQFCQQICQMKCQYHCQMFAAIIAAUIAwcCBggECAYBBAEICAgBCgYDBAEICAcBAwkIBQQJAwIJAQAIBAYFCQkAAgIFAgIBBQUJAgcBAwUGBwEHCQMJBwUDBAIAAgkJCQUKAwACBwQIBAkBAQUEAgkGBggGAAgJCAUDBwIFBgMBAwUIBAIEAwEKAQUDBgEJAwYCBgYFBQAJCgYBBQQEAQECBgQHBgQFBQoIAgUEBAkFBggEAwIFBQIJAwIGBQkHBQQJBQkFCQIGAQIBBgYBCAQHCQcCBwkEBAoEAQQBBAcDCQoJCAQICQYHAwQBAwUHAQMCAAQHBgMFBQEEBQEFAAQBBwMEAAIAAQgBBAoIAwkGBQQJBwYGBwgJBQcCBQcABwYBAwcFBQIGAggBCgYFBgkGAgMFAwcBCAgBAwUFAAEDBwYHBgYFAwMFBwEFAgMEBgUHBgEDBAIIAQcKCgUICAcBBAUEBQQBBAcIAwgFCQoDAAgCBQgIAQQIBwUFAwgDBwYHCAgFCQkCAwEGAwoHBwgDBQAIBwACAwQAAwoEBQIEBwMFAggICAkKCgkECQQABAECCQgCCQEJBAMDAwoJAgIHBwMDCQIBAQUEBQcGBwUHBgcCBwYECQUIBwYCAgMKBAkFAQoGAAYHAwcJBggCBgYICAkHBwEBBgkFCQUDAwYABQoDBQMHAAoJAQEKCQkJCAIKCAYGCQYGBwMBAQgFBQMBAQEJBAEFAgEBBAMGBQkGAwAIAQQCAAMHCQMHCgkABwIDAQkIAQIIBAYBBwgFCAYHBgICBAAHAwYBAwUFBQEDCgcHAggEAAcDBwIFAQkBBQABAwEJBwIBAgQECQEGCAQHBgcHAwIGCAEFBwgEBwQDBwEDCAYFBgkHBgcJCQgIAgkFBwcKBAQFCAkBBQEEAwkHAQQBAgUFBAkFCgIIAQYFBQYIAQgIAgYBBQkCBwQDCQUDAgQHBAgABAQBBwMIAAECAgECAwYCAgYGBgEFBgYJCAgEBAEJBAIDCAEEAwIDBQkBBQcEBwEJCggFCgYGAwgEAgEHAwQDAQMHBAUICgIIBAUFAQIICQYCAwEEBgUIBwMGCgMEBAQDAQMCCAgBBQIACAYBBgECBwAEBQEIBAQECAMJBwYKCAYDBgkDBQoIBwcFAAYIAQkFCAMFBwgHBgcAAwgJBAkICQkCCAYFCgYHAQUIAQoJAQQEBgkEBQgBAggBBwQJBgQJCAcAAgIGAgoEAQUFBwcHCAcFBwUHAgUDAgcGCQcAAgACBQgHBwEEAgMHCgkGBwEHAAYGCQIABAEHCQcDBAMEAwQHBAQDAgIHCAQJBgEBBgAIBwIIBgcGAQAEAgYCBQEFAQkBCAoCBwQBBQgEBgIGBAcICAAEBwQHAgUGBwIGBwUEBAEFCAcGBAYEBgQFCggKAwQECgkHAQYGAAgBBwgGBwcEAggJBQMFBgcIBwUEAQcBCQcGAQgEBAIJBQYHBAIGCAUEAwkBBwIBAwQICQYAAwICAQUGCQQGBgUFAgQEAwgHAgUICAEABAgCBQQGBAkACQMECgIIBAgGBAQBAgAECAYHBQUJBQgEBAYCBAoKAQIIBwgGBAgKBwIEBAkECQEABgIJAAgHAgcIAQYCCAkBAAUBCAYBAAEKAQYGAgEEBAEDBwoECQoHAgkIBgMDCQACBgQGBwEKBAUECAcICAgBBQQDAQoDCQoICQEKBwEACAEDBwgGCgQHBwEJCQQGBgMFBQAFBwUHBwYEBwcCCQUGBQEDAwMIAwgHBAAJAggGAwYCCQEECQkKAAUDCAUCBQQECAcDCgUCCgkIAAYBBgcFCgECCAUHBAcJBwIIBAEDCQUEBgEDBQUECggDCQkEAwgCCQkFBQgBAwkDCAkBCQIFAQIBCQYDBQYHCAIKCAIBAwYDBAYFCAEDBwAFCAYJAQAGAwoGCAcGAwEGAwIBAgcCAQkHAwEEBwUKCgACAAoHCAYCCQoJAgMDBggEAgcDBQMFAQcJCAkDBAMHAgICCAMDCAIJCAAFAgIHCAQCCgkICQIDBgkIBAIIAwQHBwUBAAMACgcABgMHBwgHBgMDCQEFCAIJBgMECAgDCgUFAQACCgYJCQEGBgAIAgAJBwIFCAEKAQYEBwEDCQoACgMCBAUGAQIGCQEGCQUIBQcGBQIHBQEEBAcBCAcGBgIDAgoGAgEBAQgGBQMBCgACAwcFBQMGCAQCAwYABAQJCAIGCgUHAgMECgIHBwkBCQYCAwUICAUJBwQBAQUGAwUICQEGBQEIBAoBCgIKAgIBAgUDCAIGAwEKCQgECAgDBgUGCQgBCgUECgEGBAkDAwUGAwIBCQMBCAcCAgYGCQYGCQMFBQQJAQEEBQcICQQIBgMGAwcEAAYBCQIBAgEFAgYGAAICBgUCAQYCCgMGAAoDAgYCBgkGBwUFAgIBCgkGCAQFBQMEAwYHAQYEAQYBBAEBCQcIBwgFAQIDBgIJBwIGBQQEAwIICAcCAwEACAEABgMIBwkBCAUCAwYDBQMIAgoIBQQHAwYDCQUKBAUDBAYCAwUGAgcABAcEAgkCBgQHAQMDAwMKBwQACQQJCQMDBwcICQIDAAUHBQYGCQEJBwMBAQUBAwUHBAoGAAEIAgcACAUBAQUJAwgCBwgEAQMKBwEJBAQBBQQCBgcCBAUHAwIIAQMEAwcJBgYGAwQBBwQGBwMBBQYDCQAJBQICAQQECgQACQEABwMDCQMDCQcCAQIGBwYBBAMDCAYJCQcBCgECBwcBAwUCBAcHAwQGBggCAwUDBAAIBAYACgMJCgAEBgcICAEGBAUDBQIECQkHCQcGAwIFAgYJBgUEAgkBAAICBwgGBQcDBwkHAggFBAUDBwYFAQkFCAEJBgYJCAQHBQcBAgQCCQMFBQAKAwYEAgkAAAIFCgIJAwcGAAUHBQIJCQIEAwEHAgIGCAIDBQkFAgIICQUEBwAECAMHAQMIAQYIAQMECQIBAggGAggGBQEHBQgEBwcCAgQIAQcBBAMBCgcFAAUKBwEKCQQJAAkHAgoIBAAJAQoEBgIBAgYGCQIHBwoGCQcJBQIDAQMJCAgCBwgFAgMBCAEDAgEEBgYGBggHCQgEAQcEAwQCAgQCBQMCAwQGCQQGAggKCAMCAwEBAQUGCQEJAgUGBAQBAgEBBAUCCAkBAQgHAQoJBQQCAQcGBggKCQoFBAgFCQkAAwcCCAIJAwICBwkDBgIJBQYGAAUCBwYIBAcKCAMIBwQIBQoGCQoKAgMIBQcIBAkFCAgKBgECCAUCBAcDAgoICgoDAAgBBgoFBwgEBgkGCgkBCQMJBwYJCQEIAQECCAkCCAECAggFBAkGBwYCCAYDBwUJBwMIBAEHBAMKCQYEAQYJBQcDAQYCBAcDCQcCAAECAQkEBwECCgMEBQcIAwYKBQYBCgQHAggFAgMHCAAIAwIABgkDAQkCBAECBQIEAQgDCQoFBQoCCAEIBgMCAgUJBAMAAwoJBQkHBQYBBgcECAMBCQgCAggAAQQFBQQKBgEJAQgJBwQJCAECBwIDCgUHCgMIBAgGCAEICQABCQgIBwAHAgMEAgEAAgICAwMGCAMABwYFBQoCAQgEBAgFAgoJCQYHBgMHCAkHCQgGAwMHBQYICQIFAgIEBgIHCQIBAgcFAgACAwEIAQMFBQUBBQQJBQYJBgUDBQIIAAYJAQEDAwIHBQkBBAEDBgUFCQEIBwEGBwUIBgUCAwgEBQYCBAACCQcFAgYGAgMGBQoJCgoJBQkCBQIDBgYFBAABBwUCBAoBBgUEBQEDBwQACgUHCAkICgYECQgHBAEECQUCAgcKBwQKBwYHAgIBCAYCCQgIAQcJAwYKAgEABwQGAwQECQgGAQgHBAkDBAYGAQkEBQAABQIBAAYKBAoKCgUCBAQEAwAABAUFAgUICgkEBAQGBAQHCggJAAMAAQcGBwAGBwoGAwcIAAMHBgYDAwEFBQIEAwgCAQkBAwcGBQYDAQMDBQcFCQEIBQEFCAkJCAUHCQQKAQkFAgIABgICCgAHCAAGCQEGAQkJCQoCAgcFCQgJBQoECQUCAQoHAwMCAgkABwQEBwgACAgHCQkJAgIDAwkJBgkIAgQJAQEFBAIAAQIBAgcCBAgKAQUCBQAACQgBAgcCBQMEAwYFBwYCCgoFBAYKCQIGBgIBBwUJCAEEAQAJCAUFAgcHBAQFAwMKAQkBAgUEAQgIAgMFBwQEBgIICQcEBgcJAgIBCQQKCAAECAIHBQEBAAgBAwEEBgUGAwMEBAAICgEBBgUIAgMGBQoGAAgBAgQFBQkJAwgHAgIIBwAFBgUJCQUGBQcGAggKBgIGAwgJBgcBBwMHAQkEBQcDBQcGBAgFBgUJAQkGBAEKCAgHBwMJAQMCAAkJBggCBwYKAQMHCAEBBQUHCgEHBwcDBwMJCgUJAQECAQEEAwkCAwMEBAgIAAABAwkCCAUGBgoCBQIBBAMJBgIIBQoFBwAFAQcDBQQEBQoDBAYDCQcGBQIDAwQEBwkIAQEEAgkBCAQGAwQECgUJCgQHCgUGCAYJAgQDBQcJAQYHCggDCAMJAgcFAwMJBgUDBwIDBwEHCgIHAwMDCAIIBwMIBwQJCAQABQUICAQIBwEIBwYEAgIBCAEKAgQDBAoFBQEEAQMHAwkKCQMHBAQFBAcFAQIGCAAFAgoKAgADAwEBCQcJCAkBCgEJCgEHCAUHAQUIAwIJCgQFAQEGAQIBBgIKBQEFCAEJAAUJBwkKBgQIBgoGAgEBAwQKCAgFAQMEBAAGAQMCCQQHBwMICQMBAwIECAIICgIECgUJBgMCCAQDBgMHCgoCBAoJAgcDBgEBBQcIAQADAQgGBQUBBgQECQYICAoFAQgFCQcIBQIHCgkBAQkKCAYCBgQKAQYECQkJAgUEBAUIBgcDBAcHAQcJCQEGAwcEBwYBCAQEAwQCBwIFCgcDBA==",
          "dtype": "i1"
         },
         "xaxis": "x2",
         "yaxis": "y2"
        }
       ],
       "layout": {
        "barmode": "relative",
        "legend": {
         "tracegroupgap": 0
        },
        "template": {
         "data": {
          "bar": [
           {
            "error_x": {
             "color": "#2a3f5f"
            },
            "error_y": {
             "color": "#2a3f5f"
            },
            "marker": {
             "line": {
              "color": "#E5ECF6",
              "width": 0.5
             },
             "pattern": {
              "fillmode": "overlay",
              "size": 10,
              "solidity": 0.2
             }
            },
            "type": "bar"
           }
          ],
          "barpolar": [
           {
            "marker": {
             "line": {
              "color": "#E5ECF6",
              "width": 0.5
             },
             "pattern": {
              "fillmode": "overlay",
              "size": 10,
              "solidity": 0.2
             }
            },
            "type": "barpolar"
           }
          ],
          "carpet": [
           {
            "aaxis": {
             "endlinecolor": "#2a3f5f",
             "gridcolor": "white",
             "linecolor": "white",
             "minorgridcolor": "white",
             "startlinecolor": "#2a3f5f"
            },
            "baxis": {
             "endlinecolor": "#2a3f5f",
             "gridcolor": "white",
             "linecolor": "white",
             "minorgridcolor": "white",
             "startlinecolor": "#2a3f5f"
            },
            "type": "carpet"
           }
          ],
          "choropleth": [
           {
            "colorbar": {
             "outlinewidth": 0,
             "ticks": ""
            },
            "type": "choropleth"
           }
          ],
          "contour": [
           {
            "colorbar": {
             "outlinewidth": 0,
             "ticks": ""
            },
            "colorscale": [
             [
              0,
              "#0d0887"
             ],
             [
              0.1111111111111111,
              "#46039f"
             ],
             [
              0.2222222222222222,
              "#7201a8"
             ],
             [
              0.3333333333333333,
              "#9c179e"
             ],
             [
              0.4444444444444444,
              "#bd3786"
             ],
             [
              0.5555555555555556,
              "#d8576b"
             ],
             [
              0.6666666666666666,
              "#ed7953"
             ],
             [
              0.7777777777777778,
              "#fb9f3a"
             ],
             [
              0.8888888888888888,
              "#fdca26"
             ],
             [
              1,
              "#f0f921"
             ]
            ],
            "type": "contour"
           }
          ],
          "contourcarpet": [
           {
            "colorbar": {
             "outlinewidth": 0,
             "ticks": ""
            },
            "type": "contourcarpet"
           }
          ],
          "heatmap": [
           {
            "colorbar": {
             "outlinewidth": 0,
             "ticks": ""
            },
            "colorscale": [
             [
              0,
              "#0d0887"
             ],
             [
              0.1111111111111111,
              "#46039f"
             ],
             [
              0.2222222222222222,
              "#7201a8"
             ],
             [
              0.3333333333333333,
              "#9c179e"
             ],
             [
              0.4444444444444444,
              "#bd3786"
             ],
             [
              0.5555555555555556,
              "#d8576b"
             ],
             [
              0.6666666666666666,
              "#ed7953"
             ],
             [
              0.7777777777777778,
              "#fb9f3a"
             ],
             [
              0.8888888888888888,
              "#fdca26"
             ],
             [
              1,
              "#f0f921"
             ]
            ],
            "type": "heatmap"
           }
          ],
          "histogram": [
           {
            "marker": {
             "pattern": {
              "fillmode": "overlay",
              "size": 10,
              "solidity": 0.2
             }
            },
            "type": "histogram"
           }
          ],
          "histogram2d": [
           {
            "colorbar": {
             "outlinewidth": 0,
             "ticks": ""
            },
            "colorscale": [
             [
              0,
              "#0d0887"
             ],
             [
              0.1111111111111111,
              "#46039f"
             ],
             [
              0.2222222222222222,
              "#7201a8"
             ],
             [
              0.3333333333333333,
              "#9c179e"
             ],
             [
              0.4444444444444444,
              "#bd3786"
             ],
             [
              0.5555555555555556,
              "#d8576b"
             ],
             [
              0.6666666666666666,
              "#ed7953"
             ],
             [
              0.7777777777777778,
              "#fb9f3a"
             ],
             [
              0.8888888888888888,
              "#fdca26"
             ],
             [
              1,
              "#f0f921"
             ]
            ],
            "type": "histogram2d"
           }
          ],
          "histogram2dcontour": [
           {
            "colorbar": {
             "outlinewidth": 0,
             "ticks": ""
            },
            "colorscale": [
             [
              0,
              "#0d0887"
             ],
             [
              0.1111111111111111,
              "#46039f"
             ],
             [
              0.2222222222222222,
              "#7201a8"
             ],
             [
              0.3333333333333333,
              "#9c179e"
             ],
             [
              0.4444444444444444,
              "#bd3786"
             ],
             [
              0.5555555555555556,
              "#d8576b"
             ],
             [
              0.6666666666666666,
              "#ed7953"
             ],
             [
              0.7777777777777778,
              "#fb9f3a"
             ],
             [
              0.8888888888888888,
              "#fdca26"
             ],
             [
              1,
              "#f0f921"
             ]
            ],
            "type": "histogram2dcontour"
           }
          ],
          "mesh3d": [
           {
            "colorbar": {
             "outlinewidth": 0,
             "ticks": ""
            },
            "type": "mesh3d"
           }
          ],
          "parcoords": [
           {
            "line": {
             "colorbar": {
              "outlinewidth": 0,
              "ticks": ""
             }
            },
            "type": "parcoords"
           }
          ],
          "pie": [
           {
            "automargin": true,
            "type": "pie"
           }
          ],
          "scatter": [
           {
            "fillpattern": {
             "fillmode": "overlay",
             "size": 10,
             "solidity": 0.2
            },
            "type": "scatter"
           }
          ],
          "scatter3d": [
           {
            "line": {
             "colorbar": {
              "outlinewidth": 0,
              "ticks": ""
             }
            },
            "marker": {
             "colorbar": {
              "outlinewidth": 0,
              "ticks": ""
             }
            },
            "type": "scatter3d"
           }
          ],
          "scattercarpet": [
           {
            "marker": {
             "colorbar": {
              "outlinewidth": 0,
              "ticks": ""
             }
            },
            "type": "scattercarpet"
           }
          ],
          "scattergeo": [
           {
            "marker": {
             "colorbar": {
              "outlinewidth": 0,
              "ticks": ""
             }
            },
            "type": "scattergeo"
           }
          ],
          "scattergl": [
           {
            "marker": {
             "colorbar": {
              "outlinewidth": 0,
              "ticks": ""
             }
            },
            "type": "scattergl"
           }
          ],
          "scattermap": [
           {
            "marker": {
             "colorbar": {
              "outlinewidth": 0,
              "ticks": ""
             }
            },
            "type": "scattermap"
           }
          ],
          "scattermapbox": [
           {
            "marker": {
             "colorbar": {
              "outlinewidth": 0,
              "ticks": ""
             }
            },
            "type": "scattermapbox"
           }
          ],
          "scatterpolar": [
           {
            "marker": {
             "colorbar": {
              "outlinewidth": 0,
              "ticks": ""
             }
            },
            "type": "scatterpolar"
           }
          ],
          "scatterpolargl": [
           {
            "marker": {
             "colorbar": {
              "outlinewidth": 0,
              "ticks": ""
             }
            },
            "type": "scatterpolargl"
           }
          ],
          "scatterternary": [
           {
            "marker": {
             "colorbar": {
              "outlinewidth": 0,
              "ticks": ""
             }
            },
            "type": "scatterternary"
           }
          ],
          "surface": [
           {
            "colorbar": {
             "outlinewidth": 0,
             "ticks": ""
            },
            "colorscale": [
             [
              0,
              "#0d0887"
             ],
             [
              0.1111111111111111,
              "#46039f"
             ],
             [
              0.2222222222222222,
              "#7201a8"
             ],
             [
              0.3333333333333333,
              "#9c179e"
             ],
             [
              0.4444444444444444,
              "#bd3786"
             ],
             [
              0.5555555555555556,
              "#d8576b"
             ],
             [
              0.6666666666666666,
              "#ed7953"
             ],
             [
              0.7777777777777778,
              "#fb9f3a"
             ],
             [
              0.8888888888888888,
              "#fdca26"
             ],
             [
              1,
              "#f0f921"
             ]
            ],
            "type": "surface"
           }
          ],
          "table": [
           {
            "cells": {
             "fill": {
              "color": "#EBF0F8"
             },
             "line": {
              "color": "white"
             }
            },
            "header": {
             "fill": {
              "color": "#C8D4E3"
             },
             "line": {
              "color": "white"
             }
            },
            "type": "table"
           }
          ]
         },
         "layout": {
          "annotationdefaults": {
           "arrowcolor": "#2a3f5f",
           "arrowhead": 0,
           "arrowwidth": 1
          },
          "autotypenumbers": "strict",
          "coloraxis": {
           "colorbar": {
            "outlinewidth": 0,
            "ticks": ""
           }
          },
          "colorscale": {
           "diverging": [
            [
             0,
             "#8e0152"
            ],
            [
             0.1,
             "#c51b7d"
            ],
            [
             0.2,
             "#de77ae"
            ],
            [
             0.3,
             "#f1b6da"
            ],
            [
             0.4,
             "#fde0ef"
            ],
            [
             0.5,
             "#f7f7f7"
            ],
            [
             0.6,
             "#e6f5d0"
            ],
            [
             0.7,
             "#b8e186"
            ],
            [
             0.8,
             "#7fbc41"
            ],
            [
             0.9,
             "#4d9221"
            ],
            [
             1,
             "#276419"
            ]
           ],
           "sequential": [
            [
             0,
             "#0d0887"
            ],
            [
             0.1111111111111111,
             "#46039f"
            ],
            [
             0.2222222222222222,
             "#7201a8"
            ],
            [
             0.3333333333333333,
             "#9c179e"
            ],
            [
             0.4444444444444444,
             "#bd3786"
            ],
            [
             0.5555555555555556,
             "#d8576b"
            ],
            [
             0.6666666666666666,
             "#ed7953"
            ],
            [
             0.7777777777777778,
             "#fb9f3a"
            ],
            [
             0.8888888888888888,
             "#fdca26"
            ],
            [
             1,
             "#f0f921"
            ]
           ],
           "sequentialminus": [
            [
             0,
             "#0d0887"
            ],
            [
             0.1111111111111111,
             "#46039f"
            ],
            [
             0.2222222222222222,
             "#7201a8"
            ],
            [
             0.3333333333333333,
             "#9c179e"
            ],
            [
             0.4444444444444444,
             "#bd3786"
            ],
            [
             0.5555555555555556,
             "#d8576b"
            ],
            [
             0.6666666666666666,
             "#ed7953"
            ],
            [
             0.7777777777777778,
             "#fb9f3a"
            ],
            [
             0.8888888888888888,
             "#fdca26"
            ],
            [
             1,
             "#f0f921"
            ]
           ]
          },
          "colorway": [
           "#636efa",
           "#EF553B",
           "#00cc96",
           "#ab63fa",
           "#FFA15A",
           "#19d3f3",
           "#FF6692",
           "#B6E880",
           "#FF97FF",
           "#FECB52"
          ],
          "font": {
           "color": "#2a3f5f"
          },
          "geo": {
           "bgcolor": "white",
           "lakecolor": "white",
           "landcolor": "#E5ECF6",
           "showlakes": true,
           "showland": true,
           "subunitcolor": "white"
          },
          "hoverlabel": {
           "align": "left"
          },
          "hovermode": "closest",
          "mapbox": {
           "style": "light"
          },
          "paper_bgcolor": "white",
          "plot_bgcolor": "#E5ECF6",
          "polar": {
           "angularaxis": {
            "gridcolor": "white",
            "linecolor": "white",
            "ticks": ""
           },
           "bgcolor": "#E5ECF6",
           "radialaxis": {
            "gridcolor": "white",
            "linecolor": "white",
            "ticks": ""
           }
          },
          "scene": {
           "xaxis": {
            "backgroundcolor": "#E5ECF6",
            "gridcolor": "white",
            "gridwidth": 2,
            "linecolor": "white",
            "showbackground": true,
            "ticks": "",
            "zerolinecolor": "white"
           },
           "yaxis": {
            "backgroundcolor": "#E5ECF6",
            "gridcolor": "white",
            "gridwidth": 2,
            "linecolor": "white",
            "showbackground": true,
            "ticks": "",
            "zerolinecolor": "white"
           },
           "zaxis": {
            "backgroundcolor": "#E5ECF6",
            "gridcolor": "white",
            "gridwidth": 2,
            "linecolor": "white",
            "showbackground": true,
            "ticks": "",
            "zerolinecolor": "white"
           }
          },
          "shapedefaults": {
           "line": {
            "color": "#2a3f5f"
           }
          },
          "ternary": {
           "aaxis": {
            "gridcolor": "white",
            "linecolor": "white",
            "ticks": ""
           },
           "baxis": {
            "gridcolor": "white",
            "linecolor": "white",
            "ticks": ""
           },
           "bgcolor": "#E5ECF6",
           "caxis": {
            "gridcolor": "white",
            "linecolor": "white",
            "ticks": ""
           }
          },
          "title": {
           "x": 0.05
          },
          "xaxis": {
           "automargin": true,
           "gridcolor": "white",
           "linecolor": "white",
           "ticks": "",
           "title": {
            "standoff": 15
           },
           "zerolinecolor": "white",
           "zerolinewidth": 2
          },
          "yaxis": {
           "automargin": true,
           "gridcolor": "white",
           "linecolor": "white",
           "ticks": "",
           "title": {
            "standoff": 15
           },
           "zerolinecolor": "white",
           "zerolinewidth": 2
          }
         }
        },
        "title": {
         "text": "Distribuição da Variável \"Tempo_Cliente\""
        },
        "xaxis": {
         "anchor": "y",
         "domain": [
          0,
          1
         ],
         "title": {
          "text": "Tempo_Cliente"
         }
        },
        "xaxis2": {
         "anchor": "y2",
         "domain": [
          0,
          1
         ],
         "matches": "x",
         "showgrid": true,
         "showticklabels": false
        },
        "yaxis": {
         "anchor": "x",
         "domain": [
          0,
          0.8316
         ],
         "title": {
          "text": "count"
         }
        },
        "yaxis2": {
         "anchor": "x2",
         "domain": [
          0.8416,
          1
         ],
         "matches": "y2",
         "showgrid": false,
         "showline": false,
         "showticklabels": false,
         "ticks": ""
        }
       }
      }
     },
     "metadata": {},
     "output_type": "display_data"
    },
    {
     "name": "stdout",
     "output_type": "stream",
     "text": [
      "\n",
      "---------- Análise da Variável: 'Limite_Credito_Mercado' ----------\n",
      "Estatísticas Descritivas:\n"
     ]
    },
    {
     "data": {
      "text/html": [
       "<div>\n",
       "<style scoped>\n",
       "    .dataframe tbody tr th:only-of-type {\n",
       "        vertical-align: middle;\n",
       "    }\n",
       "\n",
       "    .dataframe tbody tr th {\n",
       "        vertical-align: top;\n",
       "    }\n",
       "\n",
       "    .dataframe thead th {\n",
       "        text-align: right;\n",
       "    }\n",
       "</style>\n",
       "<table border=\"1\" class=\"dataframe\">\n",
       "  <thead>\n",
       "    <tr style=\"text-align: right;\">\n",
       "      <th></th>\n",
       "      <th>count</th>\n",
       "      <th>mean</th>\n",
       "      <th>std</th>\n",
       "      <th>min</th>\n",
       "      <th>25%</th>\n",
       "      <th>50%</th>\n",
       "      <th>75%</th>\n",
       "      <th>max</th>\n",
       "    </tr>\n",
       "  </thead>\n",
       "  <tbody>\n",
       "    <tr>\n",
       "      <th>Limite_Credito_Mercado</th>\n",
       "      <td>10000.0</td>\n",
       "      <td>764.858893</td>\n",
       "      <td>623.974052</td>\n",
       "      <td>0.0</td>\n",
       "      <td>0.0</td>\n",
       "      <td>971.9854</td>\n",
       "      <td>1276.4424</td>\n",
       "      <td>2508.9809</td>\n",
       "    </tr>\n",
       "  </tbody>\n",
       "</table>\n",
       "</div>"
      ],
      "text/plain": [
       "                          count        mean         std  min  25%       50%  \\\n",
       "Limite_Credito_Mercado  10000.0  764.858893  623.974052  0.0  0.0  971.9854   \n",
       "\n",
       "                              75%        max  \n",
       "Limite_Credito_Mercado  1276.4424  2508.9809  "
      ]
     },
     "metadata": {},
     "output_type": "display_data"
    },
    {
     "data": {
      "application/vnd.plotly.v1+json": {
       "config": {
        "plotlyServerURL": "https://plot.ly"
       },
       "data": [
        {
         "bingroup": "x",
         "hovertemplate": "Limite_Credito_Mercado=%{x}<br>count=%{y}<extra></extra>",
         "legendgroup": "",
         "marker": {
          "color": "#636efa",
          "pattern": {
           "shape": ""
          }
         },
         "name": "",
         "orientation": "v",
         "showlegend": false,
         "type": "histogram",
         "x": {
          "bdata": "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",
          "dtype": "f8"
         },
         "xaxis": "x",
         "yaxis": "y"
        },
        {
         "hovertemplate": "Limite_Credito_Mercado=%{x}<extra></extra>",
         "legendgroup": "",
         "marker": {
          "color": "#636efa"
         },
         "name": "",
         "notched": true,
         "showlegend": false,
         "type": "box",
         "x": {
          "bdata": "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",
          "dtype": "f8"
         },
         "xaxis": "x2",
         "yaxis": "y2"
        }
       ],
       "layout": {
        "barmode": "relative",
        "legend": {
         "tracegroupgap": 0
        },
        "template": {
         "data": {
          "bar": [
           {
            "error_x": {
             "color": "#2a3f5f"
            },
            "error_y": {
             "color": "#2a3f5f"
            },
            "marker": {
             "line": {
              "color": "#E5ECF6",
              "width": 0.5
             },
             "pattern": {
              "fillmode": "overlay",
              "size": 10,
              "solidity": 0.2
             }
            },
            "type": "bar"
           }
          ],
          "barpolar": [
           {
            "marker": {
             "line": {
              "color": "#E5ECF6",
              "width": 0.5
             },
             "pattern": {
              "fillmode": "overlay",
              "size": 10,
              "solidity": 0.2
             }
            },
            "type": "barpolar"
           }
          ],
          "carpet": [
           {
            "aaxis": {
             "endlinecolor": "#2a3f5f",
             "gridcolor": "white",
             "linecolor": "white",
             "minorgridcolor": "white",
             "startlinecolor": "#2a3f5f"
            },
            "baxis": {
             "endlinecolor": "#2a3f5f",
             "gridcolor": "white",
             "linecolor": "white",
             "minorgridcolor": "white",
             "startlinecolor": "#2a3f5f"
            },
            "type": "carpet"
           }
          ],
          "choropleth": [
           {
            "colorbar": {
             "outlinewidth": 0,
             "ticks": ""
            },
            "type": "choropleth"
           }
          ],
          "contour": [
           {
            "colorbar": {
             "outlinewidth": 0,
             "ticks": ""
            },
            "colorscale": [
             [
              0,
              "#0d0887"
             ],
             [
              0.1111111111111111,
              "#46039f"
             ],
             [
              0.2222222222222222,
              "#7201a8"
             ],
             [
              0.3333333333333333,
              "#9c179e"
             ],
             [
              0.4444444444444444,
              "#bd3786"
             ],
             [
              0.5555555555555556,
              "#d8576b"
             ],
             [
              0.6666666666666666,
              "#ed7953"
             ],
             [
              0.7777777777777778,
              "#fb9f3a"
             ],
             [
              0.8888888888888888,
              "#fdca26"
             ],
             [
              1,
              "#f0f921"
             ]
            ],
            "type": "contour"
           }
          ],
          "contourcarpet": [
           {
            "colorbar": {
             "outlinewidth": 0,
             "ticks": ""
            },
            "type": "contourcarpet"
           }
          ],
          "heatmap": [
           {
            "colorbar": {
             "outlinewidth": 0,
             "ticks": ""
            },
            "colorscale": [
             [
              0,
              "#0d0887"
             ],
             [
              0.1111111111111111,
              "#46039f"
             ],
             [
              0.2222222222222222,
              "#7201a8"
             ],
             [
              0.3333333333333333,
              "#9c179e"
             ],
             [
              0.4444444444444444,
              "#bd3786"
             ],
             [
              0.5555555555555556,
              "#d8576b"
             ],
             [
              0.6666666666666666,
              "#ed7953"
             ],
             [
              0.7777777777777778,
              "#fb9f3a"
             ],
             [
              0.8888888888888888,
              "#fdca26"
             ],
             [
              1,
              "#f0f921"
             ]
            ],
            "type": "heatmap"
           }
          ],
          "histogram": [
           {
            "marker": {
             "pattern": {
              "fillmode": "overlay",
              "size": 10,
              "solidity": 0.2
             }
            },
            "type": "histogram"
           }
          ],
          "histogram2d": [
           {
            "colorbar": {
             "outlinewidth": 0,
             "ticks": ""
            },
            "colorscale": [
             [
              0,
              "#0d0887"
             ],
             [
              0.1111111111111111,
              "#46039f"
             ],
             [
              0.2222222222222222,
              "#7201a8"
             ],
             [
              0.3333333333333333,
              "#9c179e"
             ],
             [
              0.4444444444444444,
              "#bd3786"
             ],
             [
              0.5555555555555556,
              "#d8576b"
             ],
             [
              0.6666666666666666,
              "#ed7953"
             ],
             [
              0.7777777777777778,
              "#fb9f3a"
             ],
             [
              0.8888888888888888,
              "#fdca26"
             ],
             [
              1,
              "#f0f921"
             ]
            ],
            "type": "histogram2d"
           }
          ],
          "histogram2dcontour": [
           {
            "colorbar": {
             "outlinewidth": 0,
             "ticks": ""
            },
            "colorscale": [
             [
              0,
              "#0d0887"
             ],
             [
              0.1111111111111111,
              "#46039f"
             ],
             [
              0.2222222222222222,
              "#7201a8"
             ],
             [
              0.3333333333333333,
              "#9c179e"
             ],
             [
              0.4444444444444444,
              "#bd3786"
             ],
             [
              0.5555555555555556,
              "#d8576b"
             ],
             [
              0.6666666666666666,
              "#ed7953"
             ],
             [
              0.7777777777777778,
              "#fb9f3a"
             ],
             [
              0.8888888888888888,
              "#fdca26"
             ],
             [
              1,
              "#f0f921"
             ]
            ],
            "type": "histogram2dcontour"
           }
          ],
          "mesh3d": [
           {
            "colorbar": {
             "outlinewidth": 0,
             "ticks": ""
            },
            "type": "mesh3d"
           }
          ],
          "parcoords": [
           {
            "line": {
             "colorbar": {
              "outlinewidth": 0,
              "ticks": ""
             }
            },
            "type": "parcoords"
           }
          ],
          "pie": [
           {
            "automargin": true,
            "type": "pie"
           }
          ],
          "scatter": [
           {
            "fillpattern": {
             "fillmode": "overlay",
             "size": 10,
             "solidity": 0.2
            },
            "type": "scatter"
           }
          ],
          "scatter3d": [
           {
            "line": {
             "colorbar": {
              "outlinewidth": 0,
              "ticks": ""
             }
            },
            "marker": {
             "colorbar": {
              "outlinewidth": 0,
              "ticks": ""
             }
            },
            "type": "scatter3d"
           }
          ],
          "scattercarpet": [
           {
            "marker": {
             "colorbar": {
              "outlinewidth": 0,
              "ticks": ""
             }
            },
            "type": "scattercarpet"
           }
          ],
          "scattergeo": [
           {
            "marker": {
             "colorbar": {
              "outlinewidth": 0,
              "ticks": ""
             }
            },
            "type": "scattergeo"
           }
          ],
          "scattergl": [
           {
            "marker": {
             "colorbar": {
              "outlinewidth": 0,
              "ticks": ""
             }
            },
            "type": "scattergl"
           }
          ],
          "scattermap": [
           {
            "marker": {
             "colorbar": {
              "outlinewidth": 0,
              "ticks": ""
             }
            },
            "type": "scattermap"
           }
          ],
          "scattermapbox": [
           {
            "marker": {
             "colorbar": {
              "outlinewidth": 0,
              "ticks": ""
             }
            },
            "type": "scattermapbox"
           }
          ],
          "scatterpolar": [
           {
            "marker": {
             "colorbar": {
              "outlinewidth": 0,
              "ticks": ""
             }
            },
            "type": "scatterpolar"
           }
          ],
          "scatterpolargl": [
           {
            "marker": {
             "colorbar": {
              "outlinewidth": 0,
              "ticks": ""
             }
            },
            "type": "scatterpolargl"
           }
          ],
          "scatterternary": [
           {
            "marker": {
             "colorbar": {
              "outlinewidth": 0,
              "ticks": ""
             }
            },
            "type": "scatterternary"
           }
          ],
          "surface": [
           {
            "colorbar": {
             "outlinewidth": 0,
             "ticks": ""
            },
            "colorscale": [
             [
              0,
              "#0d0887"
             ],
             [
              0.1111111111111111,
              "#46039f"
             ],
             [
              0.2222222222222222,
              "#7201a8"
             ],
             [
              0.3333333333333333,
              "#9c179e"
             ],
             [
              0.4444444444444444,
              "#bd3786"
             ],
             [
              0.5555555555555556,
              "#d8576b"
             ],
             [
              0.6666666666666666,
              "#ed7953"
             ],
             [
              0.7777777777777778,
              "#fb9f3a"
             ],
             [
              0.8888888888888888,
              "#fdca26"
             ],
             [
              1,
              "#f0f921"
             ]
            ],
            "type": "surface"
           }
          ],
          "table": [
           {
            "cells": {
             "fill": {
              "color": "#EBF0F8"
             },
             "line": {
              "color": "white"
             }
            },
            "header": {
             "fill": {
              "color": "#C8D4E3"
             },
             "line": {
              "color": "white"
             }
            },
            "type": "table"
           }
          ]
         },
         "layout": {
          "annotationdefaults": {
           "arrowcolor": "#2a3f5f",
           "arrowhead": 0,
           "arrowwidth": 1
          },
          "autotypenumbers": "strict",
          "coloraxis": {
           "colorbar": {
            "outlinewidth": 0,
            "ticks": ""
           }
          },
          "colorscale": {
           "diverging": [
            [
             0,
             "#8e0152"
            ],
            [
             0.1,
             "#c51b7d"
            ],
            [
             0.2,
             "#de77ae"
            ],
            [
             0.3,
             "#f1b6da"
            ],
            [
             0.4,
             "#fde0ef"
            ],
            [
             0.5,
             "#f7f7f7"
            ],
            [
             0.6,
             "#e6f5d0"
            ],
            [
             0.7,
             "#b8e186"
            ],
            [
             0.8,
             "#7fbc41"
            ],
            [
             0.9,
             "#4d9221"
            ],
            [
             1,
             "#276419"
            ]
           ],
           "sequential": [
            [
             0,
             "#0d0887"
            ],
            [
             0.1111111111111111,
             "#46039f"
            ],
            [
             0.2222222222222222,
             "#7201a8"
            ],
            [
             0.3333333333333333,
             "#9c179e"
            ],
            [
             0.4444444444444444,
             "#bd3786"
            ],
            [
             0.5555555555555556,
             "#d8576b"
            ],
            [
             0.6666666666666666,
             "#ed7953"
            ],
            [
             0.7777777777777778,
             "#fb9f3a"
            ],
            [
             0.8888888888888888,
             "#fdca26"
            ],
            [
             1,
             "#f0f921"
            ]
           ],
           "sequentialminus": [
            [
             0,
             "#0d0887"
            ],
            [
             0.1111111111111111,
             "#46039f"
            ],
            [
             0.2222222222222222,
             "#7201a8"
            ],
            [
             0.3333333333333333,
             "#9c179e"
            ],
            [
             0.4444444444444444,
             "#bd3786"
            ],
            [
             0.5555555555555556,
             "#d8576b"
            ],
            [
             0.6666666666666666,
             "#ed7953"
            ],
            [
             0.7777777777777778,
             "#fb9f3a"
            ],
            [
             0.8888888888888888,
             "#fdca26"
            ],
            [
             1,
             "#f0f921"
            ]
           ]
          },
          "colorway": [
           "#636efa",
           "#EF553B",
           "#00cc96",
           "#ab63fa",
           "#FFA15A",
           "#19d3f3",
           "#FF6692",
           "#B6E880",
           "#FF97FF",
           "#FECB52"
          ],
          "font": {
           "color": "#2a3f5f"
          },
          "geo": {
           "bgcolor": "white",
           "lakecolor": "white",
           "landcolor": "#E5ECF6",
           "showlakes": true,
           "showland": true,
           "subunitcolor": "white"
          },
          "hoverlabel": {
           "align": "left"
          },
          "hovermode": "closest",
          "mapbox": {
           "style": "light"
          },
          "paper_bgcolor": "white",
          "plot_bgcolor": "#E5ECF6",
          "polar": {
           "angularaxis": {
            "gridcolor": "white",
            "linecolor": "white",
            "ticks": ""
           },
           "bgcolor": "#E5ECF6",
           "radialaxis": {
            "gridcolor": "white",
            "linecolor": "white",
            "ticks": ""
           }
          },
          "scene": {
           "xaxis": {
            "backgroundcolor": "#E5ECF6",
            "gridcolor": "white",
            "gridwidth": 2,
            "linecolor": "white",
            "showbackground": true,
            "ticks": "",
            "zerolinecolor": "white"
           },
           "yaxis": {
            "backgroundcolor": "#E5ECF6",
            "gridcolor": "white",
            "gridwidth": 2,
            "linecolor": "white",
            "showbackground": true,
            "ticks": "",
            "zerolinecolor": "white"
           },
           "zaxis": {
            "backgroundcolor": "#E5ECF6",
            "gridcolor": "white",
            "gridwidth": 2,
            "linecolor": "white",
            "showbackground": true,
            "ticks": "",
            "zerolinecolor": "white"
           }
          },
          "shapedefaults": {
           "line": {
            "color": "#2a3f5f"
           }
          },
          "ternary": {
           "aaxis": {
            "gridcolor": "white",
            "linecolor": "white",
            "ticks": ""
           },
           "baxis": {
            "gridcolor": "white",
            "linecolor": "white",
            "ticks": ""
           },
           "bgcolor": "#E5ECF6",
           "caxis": {
            "gridcolor": "white",
            "linecolor": "white",
            "ticks": ""
           }
          },
          "title": {
           "x": 0.05
          },
          "xaxis": {
           "automargin": true,
           "gridcolor": "white",
           "linecolor": "white",
           "ticks": "",
           "title": {
            "standoff": 15
           },
           "zerolinecolor": "white",
           "zerolinewidth": 2
          },
          "yaxis": {
           "automargin": true,
           "gridcolor": "white",
           "linecolor": "white",
           "ticks": "",
           "title": {
            "standoff": 15
           },
           "zerolinecolor": "white",
           "zerolinewidth": 2
          }
         }
        },
        "title": {
         "text": "Distribuição da Variável \"Limite_Credito_Mercado\""
        },
        "xaxis": {
         "anchor": "y",
         "domain": [
          0,
          1
         ],
         "title": {
          "text": "Limite_Credito_Mercado"
         }
        },
        "xaxis2": {
         "anchor": "y2",
         "domain": [
          0,
          1
         ],
         "matches": "x",
         "showgrid": true,
         "showticklabels": false
        },
        "yaxis": {
         "anchor": "x",
         "domain": [
          0,
          0.8316
         ],
         "title": {
          "text": "count"
         }
        },
        "yaxis2": {
         "anchor": "x2",
         "domain": [
          0.8416,
          1
         ],
         "matches": "y2",
         "showgrid": false,
         "showline": false,
         "showticklabels": false,
         "ticks": ""
        }
       }
      }
     },
     "metadata": {},
     "output_type": "display_data"
    },
    {
     "name": "stdout",
     "output_type": "stream",
     "text": [
      "\n",
      "---------- Análise da Variável: 'Qte_Categorias' ----------\n",
      "Estatísticas Descritivas:\n"
     ]
    },
    {
     "data": {
      "text/html": [
       "<div>\n",
       "<style scoped>\n",
       "    .dataframe tbody tr th:only-of-type {\n",
       "        vertical-align: middle;\n",
       "    }\n",
       "\n",
       "    .dataframe tbody tr th {\n",
       "        vertical-align: top;\n",
       "    }\n",
       "\n",
       "    .dataframe thead th {\n",
       "        text-align: right;\n",
       "    }\n",
       "</style>\n",
       "<table border=\"1\" class=\"dataframe\">\n",
       "  <thead>\n",
       "    <tr style=\"text-align: right;\">\n",
       "      <th></th>\n",
       "      <th>count</th>\n",
       "      <th>mean</th>\n",
       "      <th>std</th>\n",
       "      <th>min</th>\n",
       "      <th>25%</th>\n",
       "      <th>50%</th>\n",
       "      <th>75%</th>\n",
       "      <th>max</th>\n",
       "    </tr>\n",
       "  </thead>\n",
       "  <tbody>\n",
       "    <tr>\n",
       "      <th>Qte_Categorias</th>\n",
       "      <td>10000.0</td>\n",
       "      <td>1.5302</td>\n",
       "      <td>0.581654</td>\n",
       "      <td>1.0</td>\n",
       "      <td>1.0</td>\n",
       "      <td>1.0</td>\n",
       "      <td>2.0</td>\n",
       "      <td>4.0</td>\n",
       "    </tr>\n",
       "  </tbody>\n",
       "</table>\n",
       "</div>"
      ],
      "text/plain": [
       "                  count    mean       std  min  25%  50%  75%  max\n",
       "Qte_Categorias  10000.0  1.5302  0.581654  1.0  1.0  1.0  2.0  4.0"
      ]
     },
     "metadata": {},
     "output_type": "display_data"
    },
    {
     "data": {
      "application/vnd.plotly.v1+json": {
       "config": {
        "plotlyServerURL": "https://plot.ly"
       },
       "data": [
        {
         "bingroup": "x",
         "hovertemplate": "Qte_Categorias=%{x}<br>count=%{y}<extra></extra>",
         "legendgroup": "",
         "marker": {
          "color": "#636efa",
          "pattern": {
           "shape": ""
          }
         },
         "name": "",
         "orientation": "v",
         "showlegend": false,
         "type": "histogram",
         "x": {
          "bdata": "AQEDAgECAgQCAQICAgICAgECAQICAgECAQIBAgECAwECAgIBAQEBAgEBAQEBAgEBAQICAgIBAQEBAQEBAQICAQECAQICAQQBAQICAgIBAQICAQIBAgIBAgMCAwICAgIBAQICAgECAQIBAgEBAQEBAgEBAgIBAgECAgECAQEBAQECAQIBAQICAgEBAQIBAgEBAQECAQECAgECAQIBAgIBAQECAQIBAgEBAgIBAgEBAgECAgEBAQICAgECAQECAgICAgECAQIBAgEBAQECAQEBAQEBAgICAQIBAQICAQIBAgEBAgIDAQECAgICAgEBAwMCAgECAQIBAgIBAQECAgEBAgICAQECAQIBAQECAgEBAgMCAgECAQIBAQICAQECAgEBAQIBAgIBAgEBAwECAgECAgEBAQIBAQIBAgEBAgECAQEBAQECAgECAQECAgECAQEBAgIBAQIBAgICAgIBAQICAQECAgICAQECAgEBAgIBAgICAQECAgECAQMBAQMCAgICAQECAgICAQECAgECAQECAQEBAgICAQECAgECAgEDAgIBAQICAQIBAQEBAgEBAQECAQEBAQICAgEBAgIBAQEBAQECAQIBAQECAQIBAQICAgECAQIDAgIBAQECAgEBAgEBAQIDAgIBAgECAQEBAgECAgIBAgECAgECAQIBAQICAgICAQECAwICAQEBAgEBAgICAQECAQEBAQECAgMBAgIBAQMCAgICAwIBAQIBAwIBAgEBAQEBAQIBAQIDAgECAgECAQIBAgICAgECAQEBAQIBAQEBAgECAQEBAwIBAQEBAgICAQECAQEBAQIBAQIBAQICAQEBAQIBAQEBAgICAgEBAQEBAQEBAQIBAgICAQEBAgEBAgECAQECAgICAQIBAQICAQICAgIBAgIBAQECAQECAQEBAgIBAgECAQICAQIBAgICAwECAgIBAQEBAwIBAgIBAgICAQECAgMBAQECAQIBAQEBAgIBAQEDAgIBAQECAgEBAgICAgIBAQEBAQEDAQICAgECAQIBAgEBAQIBAgICAgEBAgECAQICAQEBAgEBAgECAgICAgEBAgEBAgICAwICAgEBAgIBAQECAgICAgICAQECAgICAQEBAQEBAQEBAgIBAQICAQICAgECAQIBAQECAgICAQIBAQMCAgIBAQIBAgEDAQEBAgECAQEBAgEDAgECAQEBAgIBAgEBAQEBAgIBAQEBAQEBAgICAQMBAQIBAQIBAQICAQMCAQEBAQECAQEBAgEBAQECAQEBAgECAgEBAQEBAwEBAQIBAgECAgICAQECAQIBAgIBAgIBAQIBAgICAQIDAgECAQICAgICAwIBAQEBAQICAgECAQEBAQICAgECAgECAQECAgICAQECAQEBAgECAgIBAQEBAQEBAQECAgECAQECAQECAgECAQEBAQICAgICAQIBAQEBAgIBAwICAgEBAQICAQMCAgIBAgICAgECAQICAQECAQEBAgMBAgICAgEBAQECAQEBAQICAQICAgIBAQICAgEBAgMBAgEBAQECAQIBAgIBAQECAQICAQIBAQECAgECAgIBAgIBAQIBAQIBAgECAQIDAgEBAgEBAgEBAQIBAgEBAgMCAgIBAQECAQICAgECAQECAgICAgEBAgEBAQICAgECAQECAQICAgIBAQECBAIBAgICAQIBAQEDAQEBAgEBAgIBAQECAgICAQIBAQECAQEBAQECAgEBAQIBAgEBAgICAQECAgIBAQECAQECAQMCAgIBAgEBAgEBAQICAgECAQECAQEBAwEBAgIBAgEBAQEBAgEBAgICAQICAgICAQIBAgECAQIBAQIDAQIBAQMCAQEBAgEBAQICAgEBAgECAgICAgEBAQEBAQIBAgIBAgECAgIBAQEBAQIBAQEBAQEBAQECAQICAQEBAQEBAwIBAQEBAgECAQEBAgICAgEBAgEBAgEBAgEEAgEBAgIBAgEBAgECAQICAgEBBAECAQEBAgECAgIBAQICAQIBAgECAQECAgICAQECAgEBAgECAgECAQECAgIBAQEBAgEBAQIBAQECAQECAgECAgECAgECAQICAQICAQICAgEBAQIBAQEBAgICAQEBAgICAgECAgEBAgIBAQICAQEBAgECAwEBAgICAgECAQECAwECAgIBAgECAQICAgECAQEBAQECAQICAQIBAgEBAQEBAgECAgEBAQIBAQMBAgICAQEBAgECAQIBAgIBAQIDAgEBAQIBAQEBAgECAQIBAgEBAgICAgICBAIBAQEBAgECAQIBAQECAQEBAgICAQICAgECAgICAgECAgEBAQECAQIBAQEBAQEBAgIBAQICAQIBAQIBAgEBAgICAgICAQECAQIBAgEBAgIBAgIBAgIBAQICAgECAgEBAQMCAgEBAQECAgECAgICAQICAQEBAgIBAgEBAQECAgIBAgIBAQIBAgICAQEBAgICAQEBAQICAQEBAQEBAQICAQIBAQECAQECAQIBAgEBAQQCAgECAgIBAgIBAQIBAgIBAgECAgIBAQECAQIBAQICAgIBAgECAQEBAgIBAgEDAQECAgIBAQIBAgECAgICAQEBAQEBAgECAgICAQECAgIDAgEBAQECAwIBAQECAQIBAgECAgICAwICAgEBAgIBAgEBAQICAgMBAgICAQEBAgIBAQICAQIBAQIBAgEBAQECAQEBAgEBAgIBAgICAQMCAgIBAQEBAQECAgICAgICAgECAQECAQECAgICAgEBAgIBAQEBAQICAgEBAQECAQEBAgEBAQICAgICAQMBAgICAgEBAgICAQMCAQECAgECAgEBAQICAgIBAQECBAICAgIBAQECAQEBAQICAQECAQICAgEBAgEBAQEBAwECAgEBAgEBAgECAQIBAgECAQIBAgICAQECAQECAgECAQEBAQEBAQICBAECAQECAQECAQEBAQIDAQICAgIBAQECAQECAgECAgECAgIBAgECAgEDAgEBAgIBAgECAQICAgEBAQECAQIBAgIBAQIBAgICAQICAgEBAwICAgECAgEBAQEEAgEBAgICAgEBAQEBAgEBAgIBAQEBAgEBAQEBAgICAQECAQECAgIBAgIBAgECAgECAgIBAgIBAQIBAgEBAQEBAwIDAQICAQECAQEBAgECAgECAQIBAQEBAgIBAgIBAgIBAQICAQICAgICAgEBAgECAQECAgIBAgIBAQECAgECAgEBAQEBAQEBAwECAgEBAQECAQMBAQECAgIBAQICAgICAQEBAQECAgEBAQEBAgIBAQEEAgEBAgIBAQECAQECAgEBAQICAgECAQECAQIBAQIBAQEDAgICBAIBAQECAQICAQQBAQECAgECAgMCAQICAgEBAgICAQEBAgIBAgEBAgIBBAMCAgEDAQICAgECAQEBAgICAgEBAQIBAgECAQEBAQICAgECAQEBAQICAgECAQIBAQEBAgIBAQIBAgEDAgIBAQICAQEBAQECAgQBAgQCAQIBAgIBAQICAQECAQIBAQICAgICAgEBAQECAgEBAgECAgEBAgIBAwEBAQEBAgECAQECAQICAQECAQECAQICAgECAgECAQECAgICAgMBAgMBAgIBAQICAQEBAQICAQEBAQICAQEDAwEBAQEBAgICAQIBAQIBAgIDAQECAQEBAQICAQEDAgECAQIBAgIBAQICAQICAQECAQIBAgIBAgIBAgICAgICAgEBAwEBAQECAQEBAQIBAQIBAQECAQECAQICAgMBAgICAgECAQIBAQIBAQIBAgICAQEBAgIBAgECAgECAQECAgIBAQECAQECAQICAgECAQIBAQEBAgICAgQBAQEBAgEBAgECAQICAgECAQECAgIBAQECAQIDAgECAQECAgECAQEDAgIBAQICAQIBAQIBAQIBAQEBAgEBAQIBAgIBAgIBAQIBAgECAQECAQICAQIBAgEBAgMCAgIBAwICAQEBAQECAQMBAQICAgECAQIBAwEBAQIBAQECAQIBAgICAQICAQEBAgEBAQIBAgECAQICAQIBAQICAQICAQEDAgEBAgICAgICAgEBAQECAQICAQICAQIBAQICAgIDAQIBAgEBAgICAQIBAgIBAgICAQEBAgECAgEBAgIBAQIBAQECAQIBAgIBAgIBAgECAgMCAQEBAQIBAgEBAgEBAQECAgECAQEBAQIBAQECAgICAQECAQIBAgEEAQICAQIBAQICAQECAQECAQIBAwECAgMCAgICAQEBAgEBAgEBAgECAgEBAQICAQEBAgECAwEBAQEBAQIBAQECAQECAgICAgEBAQIBAgECAQIBAQIBAgECAQEBAQIBAQEBAQIDAQEBAgIBAQIBAgECAgIBAQECAQEBAgECAQEBAgECAQIBAQICAQICAgICAQECAQICAgEBAQEBAgICAQIBAQICAgECAgEBAgECAQIBAgECAgEBAQICAgECAgEBAgECAQEBAQICAQICAgECAgEBAQICAQIEAQECAQEBAQIBAQIBAQICAQICAgECAQEBAQIBAgIBAgICAQEBAQIBAQECAgECAQECAgECAQICAgECAQICAgECAQIBAQEBAQEBAgEBAgECAgICAQEBAQIBAgECAQICAgIBAQEBAgECAgECAQIBAQIBAQEBAQICAgIBAQEBAgEBAQIBAQICAgIBAgEBAQECAQIBAgECAQECAgICAQIBAgECAgIBAQIDAQIBAgEBAgEBAQEBAQEBAQICAwEBAgECAQECAQEBAgECAQIBAgIBAQICAgEBAgIBAgECAQEBAgECAQEBAgEBAQEBAQECAgEBAgEBAgIBAQECAgICAwEBAQICAQIBAQIBAQECAgEBAgECAgECAQIBAgECAQEBAQECAQEBAgIBAgEBAgIBAQEBAgIBAgICAQECAQICAQIBAQICAQICAgECAQECAQEBAQECAgICAQMCAQICAQEBAQEBAQEBAQIBAgEBAgECAwECAgEBAQECAQIBAgECAQIBAQIBAgEBAgIBAgEBAgEBAQEBAgIBAQIBAQIBAgEDAQIBAQECAgEBAQECAgECAQEBAgEBAgEBAgECAQIBAgECAQEBAQIBAQIBAgEBAQECAQEBAQEBAQECAgICAgIDAgECAQQCAwEBAgIBAgEBAQICAgEBAQEBAgIBAgIBAgECAgEBAgEBAgECAgIBAgECAgICAgICAQECAQICAgEBAgIBAgICAgIBAQIBAgEBAQMCAgIBAgICAgIBAgECAQEBAgICAQIBAgEBAgIBAgEBAgECAQEBAQIBAQIDAQEBAgEBAgIBAQIBAQECAQICAgEBAgEBAgICAQEBAgICAQIBAgEBAQIBAgICAgEBAQECAQIEBAEBAQICAQECAQEBAwICAgECAgEBAgEBAQEBAgECAQECAQICAgECAgMBAgEBAQIBAQIDAgICAgECAQEBAQEBAgIBAQIBAgIBAQICAgICAgECAQECAQEBAgIBAQIBAQEBAgIBAgECAgICAgICAgEBAgIBAQEBAQECAQIDAQEBAgEBAQEBAgICAQIBAgECAQICAQEBAQICAQIEAQECAgECAQMCAQICAgIBAQICAgIBAgEBAQICAQEBAQEBAgECAQEBAwEBAQEBAQICAQEBAQEBAgECAQICAQICAwICAgIBAgECAQECAQEBAgEBAgIBAgEBAgIBAQIDBAECAQEBAQEDAQICAQEBAgIBAQEBAQEBAgEBAQEBAQECAQIBAQICAgICAQECAgIBAQEBAQEBAQEBAgICAgEBAQEBAwIBAgIBAQICAwICAQIBAgEBAgEBAgIDAgECAgEBAgICAQIBAQECAgIBAQICAQEBAgECAQICAQICAQIBAQICAQECAQICAQECAQEBAQEEAQIBAQEBAQECAgICAQEBAgICAQIBAQIBAgECAgIBAgEBAgIBAQICAgECAgECAgEBAgEBAgIBAgEBAQIDAgICAgEBAQICAQEBAgICAgIBAgECAgEBAQIBAQECAgEBAQEBAQEBAgECAQECAQIEAQICAQQBAgEDAQIBAgEBAQEBAgICAgIBAgICAgEBAgIBAQIBAQICAQICAgEBAgEBAgICAwIBAgIBAQICAQECAgIBAgMBAgICAQICAQECAQIBAgIBAgEBAgIBAQIBAgQBAQIBAgECAgIBAgECAQIBAQECAQECAQIBAgIBAgIBAgECAQEBAgICAgICAgECAgQCAQIBAgIBAgECAgEBAQECAwEBAgEBAwECAQIBAQIBAQICAQICAgEBAQEBAgECAgEBAgEBAgICAgEBAQECAgIBAQIBAQEBAgECAQEBAgECAgICAQECAQICAQEBAgIEAgECAQEBAgEBAgEBAgECAwICAgEBAgEBAgECAgICAwICAQIBAQIBAgEBAgEBAgEBAQIBAgEBAgIBAQIBAQICAQICAQICAQECAgQBAQEBAQIBAgIBAQECAQIBAQICAwECAQIBAgIBAQICAgIBAgEBAQEBAgECAQEBAwECAQICAgICAgEBAgEBAQIBAQIDAgIBAgICAQEBAQECAgICAgIBAQICAQEBAgIBAQIBAgICAgICAQECAQEBAQIBAQECAQICAQECAQIBAgICAQIBAQECAQECAQICAgECAgIDAQEBAQECAQIBAQEBAQICAQIBAQICAQEBAwEBAgIBAQICAgIBAQECAwECBAECAQICAgIBAQEBAgEBAgICAQICAQIBAgEBAQECAgICAgIDAQIBAQEBAQEBAgEDAgIBAgECAgECAQECAgIBAgEBAgIBAgIBAwEBAgIBAwECAgIDAQEBAgIBAgICAQEBAQEBAQECAQEBAwECAQIBAgEBAQECAgIBAgEBAQECAgQBAQICAgEBAQIBAgEBAQICAgIBAQEBAgECAgIBAQIBAgICAgECAgEBAgICAQECAgECAgMCAgECAQIBAQIBAgIBAQEBAQECAgECAgEBAgEBAQIBAwIBAQECAQIBAgIDAQEBBAIBAQEBAgEBAgICAQEBAgICAgECAQMBAQIBAQIDAgECAgECAQEBAgICAgEBAQIBAQEBAQICAQEBAgIBAQEDAgECAgECAgIBAQEBAQICAgMBAQEBAgEBAgECAQICAQIBAQEBAgEBAwEBAQEBAgICAQEBAgIBAgEBAQECAgECAgIDAgIDAQEBAgECAgEBAQICAQICAQIBAQQCAQIDAgICAQECAgEBAgICAQECAQICAQICAQICAQICAQECAgECAQIBAgICAgEBAQIBAgEBAgEBAQECAgIBAQECAgICAQECAQECAgIBAQEDAQECAgICAQECAQICAgECAQIBAQICAQEBAgIBAgECAgEBAgEBAQECAgIBAgICAQECAQIBAgIBAQECAQICAQECAgEBAgECAwIBAgEBAQEBAgECAQICAQICAgICAgIBAQEBAQECAQECAgIDAwEBAgIBAQICAgIBAgICAgICAQICAgEBAQMBAQECAQECAQEBAwEDAgEBAQIBAgEBAgICAQIBAQIBAgICAQECAgECAgIBAgIBAQEBAQEBAgEBAgECAQIBAQEBAgICAQIBAgECAgICAgIBAgECAgEBAgEBAQECAgECAQIBAQICAgIBBAECAQECAQICAQIBAQICAgIBAgEBAgICAQEBAQIBAgECAQECAgIBAQEBAQEBAgEBAQIDAQICAgECAgICAQIBAgECAQIBAQEBAQECAQEBAgEBAQICAgICAgIBAgMBAgICAgIBAQEBAgICAQECAQECAQECAgIBAQIBAQICAQMBAgIDAQIBAQECAQIBAQICAQECAgECAQIBAQIBAwIBAgEBAQIBAgECAQICAQEBAQIBAgIBAgECAgIBAQICAQEBAgECAQECAgEBAQIDAQIBBAIBAgECAQIBAQICAgEBAgIBAwECAQIBAQICAQEBAQIBAgECAgIBAgECAgEBAQMCAQEBAQEBAQIBAgEBAQEBAgECAQIBAQECAQEBAgICAQICAQEBAgECAQECAgECAgIBAwEBAQECAgECAgIBAgEBAQIBAgIBAQEBAgEBAgIBAQICAgICAQIBAgEBAQICAgICAQIBAgICAQECAQECAgECAQIBAQIBAgIBAgICAgEBAQEBAQEBAQECAQICAgECAgEBAQIBAQIBAgIBAgICAgECAQICAgIBAgECAQIBAgEBAgICAgIDAQICAgEBAQIBAgICAQICAgECBAIBAgECAgIBAQICAQICAwEBAQEBAQQBAQICAQIBAgICAQIBAQECAgECAgIBAgEBAQIBAwECAQEBAQIBAgECAgIBAQICAQIDAgECAgMBAQECAQEBAgIBAgEBAQIBAgICAQICAgEBAgEBAwEBAQICAQICAgIBAQECAQEBAgECAQICBAECAgIBAQIBAQEBAgECAQMCAQEBAQECAQICAgICAgICAQEBAQIBAQEBAQIBAgEBAgEBAQEBAQICAQEBAQIBAQECAgECAgIBAgIBAwECAQIDAgICAQICAQEBAgMCAgICAQEBAQEBAgIBAgICAgEBAgECAgICAgEBAQICAQEBAQEBAgICAQEBAQIBAgICAgEBAQIBAQIBAgEBAgECAQEBAgEBAQEBAQEBAQICAQICAgECAgEBAQIBAgIBAgEBAQIBAgECAgECAgEBAgICAgIBAgICAgICAgECAwIBAQEBAgEBAgEBAQMCAQECAgICAwICAQECAgIDAQEBAQIBAgMCAQIBAQICAQEBAgECAgECAgECAQEBAgECAQICAQEBAgICAQEBAgECAQEBAQECAgEBAgEBAQIBAgICAQICAQICAQEBAQECAgECAgEBAQECAQIBAgICAQECAgEBAQEBAQICAgIBAgICAgIBAgECAQICAQIBAQEBAQICAQECAQEBAgICAQICAQIBAQICAgEBAgIBAQEBAQIBAwIBAgEBAQEBAQECAQEBAgEBAgECAgEBAgECAgEDAQECAQECAgIBAgIBAQEBAQECAgEDAgECAgIBAQIBAgEBAQEBBAEBAQECAgIBAgECAQMBAgEBAgEBAQIBAgEBAgIBAgIDAgIBAgEBAgECAQEBAQIBAgEBAQICAgIBAgIBAgIBAQIBAQIBAgECAgECAgIBAgECAwIBAgICAgICAQIBAQEBAQICAQECAwECAQEBAQECAQEBAgEBAQIDAgECAgIEAgICAQECAgECAQIBAgIDAQECAQECAQEBAQECAQICAgECAgEDAwEBAgEBAgECAQIBAQECAQEBAQECAQICAgIBAgIBAgEBAQEBAQICAQEBAQEBAQEBAgIBAQMCAgEBAgICAQICAQIBAgECAQICAQIBAgICAgIBAgEBAQIBAQECAgEBAQICAQEBAgICAgEBAgEBAgECAgEDAgEBAQECAQIBAgEBAgECAgICAgICAgICAgICAwIBAgIDAgIBAgICAQIBAQEBAQEBAgECAQICAgICAQECAQEBAgIBAgEBAQECAQEBAQIBAQECAgIBAgIBAQICAwEBAQIBAQICAgICAgICAQEBAQEBAQICAQECAgEBAQICAgECAQIBAwEBAgEBAQECAgECAQICAQICAQIBAgECAQIDAgECAgIBAQICAQECAQICAgEBAQEBAgECAQICAQECAQMCAQMCAQECAgEBAgIBAQICAgEBAQEBAQIBAQECAwICAgIBAwICAQEBAQEBBAEBAQEBAgECAQEBAQECAQECAgECAgECAQIBAgICAQEBAgECAQIBAQEBAQEBAQICAQICAQEDAgIBAgIBAQICAgEBAgMCAQEBAQEBAgICAQIBAQECAgICAgECAgICAgICAgECAgIBAgEBAQIBAQMCAQICAgICAQIBAQIBAQECAgICAQEBAgEBAgEBAQIBAQEBAgIBAgECAgECAgECAQICAgECAgEBAQIBAQEBAgECAgIBAgMBAQICAQICAQIBAQIBAgICAgMCAQIEAQICAgEBAQEBAgIBAgECAQEBAgECAQECAgEBAgIBAQEBAgECAQIBAgIBAgEBAgECAQECAgIBAgEBAQEBAgIBAQMCAQECAgEBAQECAwIBAQECAQECAgIBAgIBAgEBAgEBAgIDAgICAQIBAgEBAQQCAQMDAgIBAQEBAgEBAgECAgEBAQICAwEBAQIBAgIBAQEBAQIBAgMCAgEBAgECAgECAgICAgICAgIBAgEBAQIBAQECAQIBAgIBAgECAQIBAQIBAgICAQEBAgEDAQIBAQIBAQIBAgIBAQIBAQEBAQIBAgICAQEBAgEBAQEBAQIBAgECBAICAQICAgECAgEBAQECAgIDAgICAgIBAQIEAgECAQQCAQEBAgEBAQIBAQEBAQICAgIBAQICAQECAgEBAgICAgIBAQICAQICAQEBAQICAgICAgEBAQEBAgICAgEBAQICAQECAgICAQEBAQECAQECAQEBAQECAQIBAQICAQICAQIBAgECAgIBAQEBAgEBAgIBAQECAQEBAQECAQEBAgICAgECAQIDAQICAQECAQIBAgIBAQECAgECAgECAQIBAgECAgICAQIBAgIBAgICAgIBAgECAgEBAgECAgMCAgEBAQICAQICAgEBAgIBAQEBAgIBAQIBAQEBAQIBAgEBAQICAgEBAgICAgICAQICAgIBAQEBAQEBAQIBAQICAQECAQECAgICAgECAgEDAgEBAwECAgICAgECAQEBAgICAQECAgEBAgEBAQIBAQECAgEBAgICAgICAgICAgQBAQECAgEBAwICAQEBAQECAgIBAgECAgECAgECAQMBAQEBAQECAgEBAQEBAgECAQECAgECAgEBAgECAQMCAwIBAgICAgEBAgECAgEBAQMCAgEBAgEBAQECAgICAgECAgEBAQEBAQECAQEBAQICAQIDAQIBAQICAQIBAQICAQECAQECAgMBAgEBAgEBAgECAQICAgECAgEBAQEBAQEBAgEBAgIBAQICAgICAgEBAgECAQICAQEBAQICAQIBAgIBAgEBAQIBAgIBAgECAQECAgECAgICAwEBAQIBAQECAgICAQICAgIBAgEDAQECAgIBAgECAgEBAQECAQEBAQECAgICAQMBAQIBAgMBAQICAQEBAQICAgIBAQECAgIBAgECAQIBAQEBAgEBAgECAgICAQMCAwMDAQECAgECAQICAQMCAgIBAQICAgECAQECAgMCAQICAQICAgICAgEBAQICAQEBAQEDAQICAgIBAgICAQECAQECAQICAQECAgEBAQEBAQECAgICAQEBAQEBAgIBAQECAgECAgIBAgECAQMBAgIBAgICAwEBAQIBAQICAgIDAgIBAgICAgIBAgIBAQICAgICAQICAwEBAgICAgECAgIBAQICAgEBAgEBAQICAgECAgECAQIBAQECAQEDAgICAQECAgECAgICAgECAgECAQIBAQEBAQEBAgEBAQEBAQEBAgIBAQIBAgICAQEBAQIBAQIBAgIBAgQBAgECAQICAgIBAQIBAgICAgICAgICAQEBAgICAgICAgEBAQECAgICAgICAQEBAgICAQECAQIBAgIBAgICAQICAgECAQECAQEBAgICAgICAgICAQIBAQIBAQECAQQBAgICAQEBAgICAgIBAgIBAgEBAgIBAQECAgEBAgIBAQIBAgICAQEBAgIBAQECAgICAQEBAgEBAQECAgICAgICAQIBAgEBAgEBAgEBAQIBAgICAQIBAQICAgICAgICAQEBAQIBAQICAQECAQICAgEDAgECAgEBAQECAgICAQICAQIBAgICAQIBAQECAQICAgICAgEBAgEBAQIBAQICAQIBAgECAgECBAEBAQIBAgICAgEBAQICAgEBAQIBAQIBAgIBAQECAQECAgMCAQEBAQIBAQIBAQIBAQICAQIBAQECAQECAQICAgEBAgIBAQICAgQCAgICAgEBAQICAQEBAQECAgICAQIBAQEBAgEBAQMBAQIBAgIBAQECAQEBAgECAgIBAQIBAgIBAQICAQIBAQEBAgECAQEBAgIBAgECAQEBAQICAQIBAgICAgEBAgEBAwICAgICAgEBAQEBAQICAgECAQEBAgEBAQIBAQEBAgICAgECAgECAgECAwICAQECAgICAgEBAgICAgECAQECAgICAQICAgEBAQEBAQECAQICAgICAQIBAQMBAQECAgEBAgICAgIBAQECAQIBAgEBAQIBAgEBAQEBAQICAgIBAQECAQICAQIBAwICAQIBAQIBAQECAQEBAQIDAQEBAgECAQECAgEBAQICAgECAgIBAgEBAQIBAQEBAgECAgEBAQIBAQICAQIEAgIBAQEBAQEBAgICAQECAQMBAQEBAgICAgICAQECAQICAQEBAQICBAECAQICAgICAgEBAgIBAQECAgEBAQEBAgEBAQIBAQECAgIBAgICAQECAQIBAQICAQICAgICAQIBAgEBAQMBAQICAQIEAgIBAQICAgEBAQICAQEBAgICAgIBAQEBAQIDAQIBAgEBAQIBAQIBAgIBAQECAQQBAQIBAgEBAgIBAQECAQICAQIBAgICAQECAgICAQEBAQECAQIBAQICBAECAQIBAgEBAgEBAQICAgICAQIBAgICAgMBAwEDAQIBAgEBAgICAQECAQICAQECAQICAgECAgEBAgECAQECAgIBAQECAQECAQEBAQECAQEBAQECAQICAQIBAQIBAQECAQICAgEBAQIBAQIBAgICAgEBAQIBAQICAQIBAgEBAgIBBAECAQIBAgICAgECAQIDAQEBAQEDAgICAgQCAQICAQEBAgICAQECAgECAQEBAgEBAQEBAQEBAgIBAgEBAQEBAgICAgECAgMBAgMCAgECAQEBAQEBAQIBAQIBAgEBAQIBAQECAgECAQICAQECAQICAQEBAgIBAQICAgICAgECAgECAQICAgICAQEBAgICAQICAQECAQECAgIBAQIBAQIBAgIBAQICAgIBAgECAQIBAQIDAQIBAQECAQICAQEBAgEBAgICAgEDAQICAgICAQIBAwICAQECAQECAQEBAgECAgECAQEBAgEBAQICAgECAQIBAQEBAgICAgEBAgIBAQEBAgICAQEDAQEBAQEBAgEBAQECAQICAgIBAQECAQEBAQICAgEBAgECAQICAQEBAgICAQECAgIBAgECAQEBAQICAQECAQICAQICAgECAQICAQICAQMBAgECAQEBAQIBAQEBAgEBAgMBAgEBAgECAgEBAQICAQEBAQECAgIBAQIBAQECAQECAQIBAgECAQECAQIBAgICAQECAgICAgEBAgECAQIBAQEBAQIBAQIBAQECAQIBAQIBAgECAgEBAQEBAgICAgICAQEBAQICAQECAQ==",
          "dtype": "i1"
         },
         "xaxis": "x",
         "yaxis": "y"
        },
        {
         "hovertemplate": "Qte_Categorias=%{x}<extra></extra>",
         "legendgroup": "",
         "marker": {
          "color": "#636efa"
         },
         "name": "",
         "notched": true,
         "showlegend": false,
         "type": "box",
         "x": {
          "bdata": "AQEDAgECAgQCAQICAgICAgECAQICAgECAQIBAgECAwECAgIBAQEBAgEBAQEBAgEBAQICAgIBAQEBAQEBAQICAQECAQICAQQBAQICAgIBAQICAQIBAgIBAgMCAwICAgIBAQICAgECAQIBAgEBAQEBAgEBAgIBAgECAgECAQEBAQECAQIBAQICAgEBAQIBAgEBAQECAQECAgECAQIBAgIBAQECAQIBAgEBAgIBAgEBAgECAgEBAQICAgECAQECAgICAgECAQIBAgEBAQECAQEBAQEBAgICAQIBAQICAQIBAgEBAgIDAQECAgICAgEBAwMCAgECAQIBAgIBAQECAgEBAgICAQECAQIBAQECAgEBAgMCAgECAQIBAQICAQECAgEBAQIBAgIBAgEBAwECAgECAgEBAQIBAQIBAgEBAgECAQEBAQECAgECAQECAgECAQEBAgIBAQIBAgICAgIBAQICAQECAgICAQECAgEBAgIBAgICAQECAgECAQMBAQMCAgICAQECAgICAQECAgECAQECAQEBAgICAQECAgECAgEDAgIBAQICAQIBAQEBAgEBAQECAQEBAQICAgEBAgIBAQEBAQECAQIBAQECAQIBAQICAgECAQIDAgIBAQECAgEBAgEBAQIDAgIBAgECAQEBAgECAgIBAgECAgECAQIBAQICAgICAQECAwICAQEBAgEBAgICAQECAQEBAQECAgMBAgIBAQMCAgICAwIBAQIBAwIBAgEBAQEBAQIBAQIDAgECAgECAQIBAgICAgECAQEBAQIBAQEBAgECAQEBAwIBAQEBAgICAQECAQEBAQIBAQIBAQICAQEBAQIBAQEBAgICAgEBAQEBAQEBAQIBAgICAQEBAgEBAgECAQECAgICAQIBAQICAQICAgIBAgIBAQECAQECAQEBAgIBAgECAQICAQIBAgICAwECAgIBAQEBAwIBAgIBAgICAQECAgMBAQECAQIBAQEBAgIBAQEDAgIBAQECAgEBAgICAgIBAQEBAQEDAQICAgECAQIBAgEBAQIBAgICAgEBAgECAQICAQEBAgEBAgECAgICAgEBAgEBAgICAwICAgEBAgIBAQECAgICAgICAQECAgICAQEBAQEBAQEBAgIBAQICAQICAgECAQIBAQECAgICAQIBAQMCAgIBAQIBAgEDAQEBAgECAQEBAgEDAgECAQEBAgIBAgEBAQEBAgIBAQEBAQEBAgICAQMBAQIBAQIBAQICAQMCAQEBAQECAQEBAgEBAQECAQEBAgECAgEBAQEBAwEBAQIBAgECAgICAQECAQIBAgIBAgIBAQIBAgICAQIDAgECAQICAgICAwIBAQEBAQICAgECAQEBAQICAgECAgECAQECAgICAQECAQEBAgECAgIBAQEBAQEBAQECAgECAQECAQECAgECAQEBAQICAgICAQIBAQEBAgIBAwICAgEBAQICAQMCAgIBAgICAgECAQICAQECAQEBAgMBAgICAgEBAQECAQEBAQICAQICAgIBAQICAgEBAgMBAgEBAQECAQIBAgIBAQECAQICAQIBAQECAgECAgIBAgIBAQIBAQIBAgECAQIDAgEBAgEBAgEBAQIBAgEBAgMCAgIBAQECAQICAgECAQECAgICAgEBAgEBAQICAgECAQECAQICAgIBAQECBAIBAgICAQIBAQEDAQEBAgEBAgIBAQECAgICAQIBAQECAQEBAQECAgEBAQIBAgEBAgICAQECAgIBAQECAQECAQMCAgIBAgEBAgEBAQICAgECAQECAQEBAwEBAgIBAgEBAQEBAgEBAgICAQICAgICAQIBAgECAQIBAQIDAQIBAQMCAQEBAgEBAQICAgEBAgECAgICAgEBAQEBAQIBAgIBAgECAgIBAQEBAQIBAQEBAQEBAQECAQICAQEBAQEBAwIBAQEBAgECAQEBAgICAgEBAgEBAgEBAgEEAgEBAgIBAgEBAgECAQICAgEBBAECAQEBAgECAgIBAQICAQIBAgECAQECAgICAQECAgEBAgECAgECAQECAgIBAQEBAgEBAQIBAQECAQECAgECAgECAgECAQICAQICAQICAgEBAQIBAQEBAgICAQEBAgICAgECAgEBAgIBAQICAQEBAgECAwEBAgICAgECAQECAwECAgIBAgECAQICAgECAQEBAQECAQICAQIBAgEBAQEBAgECAgEBAQIBAQMBAgICAQEBAgECAQIBAgIBAQIDAgEBAQIBAQEBAgECAQIBAgEBAgICAgICBAIBAQEBAgECAQIBAQECAQEBAgICAQICAgECAgICAgECAgEBAQECAQIBAQEBAQEBAgIBAQICAQIBAQIBAgEBAgICAgICAQECAQIBAgEBAgIBAgIBAgIBAQICAgECAgEBAQMCAgEBAQECAgECAgICAQICAQEBAgIBAgEBAQECAgIBAgIBAQIBAgICAQEBAgICAQEBAQICAQEBAQEBAQICAQIBAQECAQECAQIBAgEBAQQCAgECAgIBAgIBAQIBAgIBAgECAgIBAQECAQIBAQICAgIBAgECAQEBAgIBAgEDAQECAgIBAQIBAgECAgICAQEBAQEBAgECAgICAQECAgIDAgEBAQECAwIBAQECAQIBAgECAgICAwICAgEBAgIBAgEBAQICAgMBAgICAQEBAgIBAQICAQIBAQIBAgEBAQECAQEBAgEBAgIBAgICAQMCAgIBAQEBAQECAgICAgICAgECAQECAQECAgICAgEBAgIBAQEBAQICAgEBAQECAQEBAgEBAQICAgICAQMBAgICAgEBAgICAQMCAQECAgECAgEBAQICAgIBAQECBAICAgIBAQECAQEBAQICAQECAQICAgEBAgEBAQEBAwECAgEBAgEBAgECAQIBAgECAQIBAgICAQECAQECAgECAQEBAQEBAQICBAECAQECAQECAQEBAQIDAQICAgIBAQECAQECAgECAgECAgIBAgECAgEDAgEBAgIBAgECAQICAgEBAQECAQIBAgIBAQIBAgICAQICAgEBAwICAgECAgEBAQEEAgEBAgICAgEBAQEBAgEBAgIBAQEBAgEBAQEBAgICAQECAQECAgIBAgIBAgECAgECAgIBAgIBAQIBAgEBAQEBAwIDAQICAQECAQEBAgECAgECAQIBAQEBAgIBAgIBAgIBAQICAQICAgICAgEBAgECAQECAgIBAgIBAQECAgECAgEBAQEBAQEBAwECAgEBAQECAQMBAQECAgIBAQICAgICAQEBAQECAgEBAQEBAgIBAQEEAgEBAgIBAQECAQECAgEBAQICAgECAQECAQIBAQIBAQEDAgICBAIBAQECAQICAQQBAQECAgECAgMCAQICAgEBAgICAQEBAgIBAgEBAgIBBAMCAgEDAQICAgECAQEBAgICAgEBAQIBAgECAQEBAQICAgECAQEBAQICAgECAQIBAQEBAgIBAQIBAgEDAgIBAQICAQEBAQECAgQBAgQCAQIBAgIBAQICAQECAQIBAQICAgICAgEBAQECAgEBAgECAgEBAgIBAwEBAQEBAgECAQECAQICAQECAQECAQICAgECAgECAQECAgICAgMBAgMBAgIBAQICAQEBAQICAQEBAQICAQEDAwEBAQEBAgICAQIBAQIBAgIDAQECAQEBAQICAQEDAgECAQIBAgIBAQICAQICAQECAQIBAgIBAgIBAgICAgICAgEBAwEBAQECAQEBAQIBAQIBAQECAQECAQICAgMBAgICAgECAQIBAQIBAQIBAgICAQEBAgIBAgECAgECAQECAgIBAQECAQECAQICAgECAQIBAQEBAgICAgQBAQEBAgEBAgECAQICAgECAQECAgIBAQECAQIDAgECAQECAgECAQEDAgIBAQICAQIBAQIBAQIBAQEBAgEBAQIBAgIBAgIBAQIBAgECAQECAQICAQIBAgEBAgMCAgIBAwICAQEBAQECAQMBAQICAgECAQIBAwEBAQIBAQECAQIBAgICAQICAQEBAgEBAQIBAgECAQICAQIBAQICAQICAQEDAgEBAgICAgICAgEBAQECAQICAQICAQIBAQICAgIDAQIBAgEBAgICAQIBAgIBAgICAQEBAgECAgEBAgIBAQIBAQECAQIBAgIBAgIBAgECAgMCAQEBAQIBAgEBAgEBAQECAgECAQEBAQIBAQECAgICAQECAQIBAgEEAQICAQIBAQICAQECAQECAQIBAwECAgMCAgICAQEBAgEBAgEBAgECAgEBAQICAQEBAgECAwEBAQEBAQIBAQECAQECAgICAgEBAQIBAgECAQIBAQIBAgECAQEBAQIBAQEBAQIDAQEBAgIBAQIBAgECAgIBAQECAQEBAgECAQEBAgECAQIBAQICAQICAgICAQECAQICAgEBAQEBAgICAQIBAQICAgECAgEBAgECAQIBAgECAgEBAQICAgECAgEBAgECAQEBAQICAQICAgECAgEBAQICAQIEAQECAQEBAQIBAQIBAQICAQICAgECAQEBAQIBAgIBAgICAQEBAQIBAQECAgECAQECAgECAQICAgECAQICAgECAQIBAQEBAQEBAgEBAgECAgICAQEBAQIBAgECAQICAgIBAQEBAgECAgECAQIBAQIBAQEBAQICAgIBAQEBAgEBAQIBAQICAgIBAgEBAQECAQIBAgECAQECAgICAQIBAgECAgIBAQIDAQIBAgEBAgEBAQEBAQEBAQICAwEBAgECAQECAQEBAgECAQIBAgIBAQICAgEBAgIBAgECAQEBAgECAQEBAgEBAQEBAQECAgEBAgEBAgIBAQECAgICAwEBAQICAQIBAQIBAQECAgEBAgECAgECAQIBAgECAQEBAQECAQEBAgIBAgEBAgIBAQEBAgIBAgICAQECAQICAQIBAQICAQICAgECAQECAQEBAQECAgICAQMCAQICAQEBAQEBAQEBAQIBAgEBAgECAwECAgEBAQECAQIBAgECAQIBAQIBAgEBAgIBAgEBAgEBAQEBAgIBAQIBAQIBAgEDAQIBAQECAgEBAQECAgECAQEBAgEBAgEBAgECAQIBAgECAQEBAQIBAQIBAgEBAQECAQEBAQEBAQECAgICAgIDAgECAQQCAwEBAgIBAgEBAQICAgEBAQEBAgIBAgIBAgECAgEBAgEBAgECAgIBAgECAgICAgICAQECAQICAgEBAgIBAgICAgIBAQIBAgEBAQMCAgIBAgICAgIBAgECAQEBAgICAQIBAgEBAgIBAgEBAgECAQEBAQIBAQIDAQEBAgEBAgIBAQIBAQECAQICAgEBAgEBAgICAQEBAgICAQIBAgEBAQIBAgICAgEBAQECAQIEBAEBAQICAQECAQEBAwICAgECAgEBAgEBAQEBAgECAQECAQICAgECAgMBAgEBAQIBAQIDAgICAgECAQEBAQEBAgIBAQIBAgIBAQICAgICAgECAQECAQEBAgIBAQIBAQEBAgIBAgECAgICAgICAgEBAgIBAQEBAQECAQIDAQEBAgEBAQEBAgICAQIBAgECAQICAQEBAQICAQIEAQECAgECAQMCAQICAgIBAQICAgIBAgEBAQICAQEBAQEBAgECAQEBAwEBAQEBAQICAQEBAQEBAgECAQICAQICAwICAgIBAgECAQECAQEBAgEBAgIBAgEBAgIBAQIDBAECAQEBAQEDAQICAQEBAgIBAQEBAQEBAgEBAQEBAQECAQIBAQICAgICAQECAgIBAQEBAQEBAQEBAgICAgEBAQEBAwIBAgIBAQICAwICAQIBAgEBAgEBAgIDAgECAgEBAgICAQIBAQECAgIBAQICAQEBAgECAQICAQICAQIBAQICAQECAQICAQECAQEBAQEEAQIBAQEBAQECAgICAQEBAgICAQIBAQIBAgECAgIBAgEBAgIBAQICAgECAgECAgEBAgEBAgIBAgEBAQIDAgICAgEBAQICAQEBAgICAgIBAgECAgEBAQIBAQECAgEBAQEBAQEBAgECAQECAQIEAQICAQQBAgEDAQIBAgEBAQEBAgICAgIBAgICAgEBAgIBAQIBAQICAQICAgEBAgEBAgICAwIBAgIBAQICAQECAgIBAgMBAgICAQICAQECAQIBAgIBAgEBAgIBAQIBAgQBAQIBAgECAgIBAgECAQIBAQECAQECAQIBAgIBAgIBAgECAQEBAgICAgICAgECAgQCAQIBAgIBAgECAgEBAQECAwEBAgEBAwECAQIBAQIBAQICAQICAgEBAQEBAgECAgEBAgEBAgICAgEBAQECAgIBAQIBAQEBAgECAQEBAgECAgICAQECAQICAQEBAgIEAgECAQEBAgEBAgEBAgECAwICAgEBAgEBAgECAgICAwICAQIBAQIBAgEBAgEBAgEBAQIBAgEBAgIBAQIBAQICAQICAQICAQECAgQBAQEBAQIBAgIBAQECAQIBAQICAwECAQIBAgIBAQICAgIBAgEBAQEBAgECAQEBAwECAQICAgICAgEBAgEBAQIBAQIDAgIBAgICAQEBAQECAgICAgIBAQICAQEBAgIBAQIBAgICAgICAQECAQEBAQIBAQECAQICAQECAQIBAgICAQIBAQECAQECAQICAgECAgIDAQEBAQECAQIBAQEBAQICAQIBAQICAQEBAwEBAgIBAQICAgIBAQECAwECBAECAQICAgIBAQEBAgEBAgICAQICAQIBAgEBAQECAgICAgIDAQIBAQEBAQEBAgEDAgIBAgECAgECAQECAgIBAgEBAgIBAgIBAwEBAgIBAwECAgIDAQEBAgIBAgICAQEBAQEBAQECAQEBAwECAQIBAgEBAQECAgIBAgEBAQECAgQBAQICAgEBAQIBAgEBAQICAgIBAQEBAgECAgIBAQIBAgICAgECAgEBAgICAQECAgECAgMCAgECAQIBAQIBAgIBAQEBAQECAgECAgEBAgEBAQIBAwIBAQECAQIBAgIDAQEBBAIBAQEBAgEBAgICAQEBAgICAgECAQMBAQIBAQIDAgECAgECAQEBAgICAgEBAQIBAQEBAQICAQEBAgIBAQEDAgECAgECAgIBAQEBAQICAgMBAQEBAgEBAgECAQICAQIBAQEBAgEBAwEBAQEBAgICAQEBAgIBAgEBAQECAgECAgIDAgIDAQEBAgECAgEBAQICAQICAQIBAQQCAQIDAgICAQECAgEBAgICAQECAQICAQICAQICAQICAQECAgECAQIBAgICAgEBAQIBAgEBAgEBAQECAgIBAQECAgICAQECAQECAgIBAQEDAQECAgICAQECAQICAgECAQIBAQICAQEBAgIBAgECAgEBAgEBAQECAgIBAgICAQECAQIBAgIBAQECAQICAQECAgEBAgECAwIBAgEBAQEBAgECAQICAQICAgICAgIBAQEBAQECAQECAgIDAwEBAgIBAQICAgIBAgICAgICAQICAgEBAQMBAQECAQECAQEBAwEDAgEBAQIBAgEBAgICAQIBAQIBAgICAQECAgECAgIBAgIBAQEBAQEBAgEBAgECAQIBAQEBAgICAQIBAgECAgICAgIBAgECAgEBAgEBAQECAgECAQIBAQICAgIBBAECAQECAQICAQIBAQICAgIBAgEBAgICAQEBAQIBAgECAQECAgIBAQEBAQEBAgEBAQIDAQICAgECAgICAQIBAgECAQIBAQEBAQECAQEBAgEBAQICAgICAgIBAgMBAgICAgIBAQEBAgICAQECAQECAQECAgIBAQIBAQICAQMBAgIDAQIBAQECAQIBAQICAQECAgECAQIBAQIBAwIBAgEBAQIBAgECAQICAQEBAQIBAgIBAgECAgIBAQICAQEBAgECAQECAgEBAQIDAQIBBAIBAgECAQIBAQICAgEBAgIBAwECAQIBAQICAQEBAQIBAgECAgIBAgECAgEBAQMCAQEBAQEBAQIBAgEBAQEBAgECAQIBAQECAQEBAgICAQICAQEBAgECAQECAgECAgIBAwEBAQECAgECAgIBAgEBAQIBAgIBAQEBAgEBAgIBAQICAgICAQIBAgEBAQICAgICAQIBAgICAQECAQECAgECAQIBAQIBAgIBAgICAgEBAQEBAQEBAQECAQICAgECAgEBAQIBAQIBAgIBAgICAgECAQICAgIBAgECAQIBAgEBAgICAgIDAQICAgEBAQIBAgICAQICAgECBAIBAgECAgIBAQICAQICAwEBAQEBAQQBAQICAQIBAgICAQIBAQECAgECAgIBAgEBAQIBAwECAQEBAQIBAgECAgIBAQICAQIDAgECAgMBAQECAQEBAgIBAgEBAQIBAgICAQICAgEBAgEBAwEBAQICAQICAgIBAQECAQEBAgECAQICBAECAgIBAQIBAQEBAgECAQMCAQEBAQECAQICAgICAgICAQEBAQIBAQEBAQIBAgEBAgEBAQEBAQICAQEBAQIBAQECAgECAgIBAgIBAwECAQIDAgICAQICAQEBAgMCAgICAQEBAQEBAgIBAgICAgEBAgECAgICAgEBAQICAQEBAQEBAgICAQEBAQIBAgICAgEBAQIBAQIBAgEBAgECAQEBAgEBAQEBAQEBAQICAQICAgECAgEBAQIBAgIBAgEBAQIBAgECAgECAgEBAgICAgIBAgICAgICAgECAwIBAQEBAgEBAgEBAQMCAQECAgICAwICAQECAgIDAQEBAQIBAgMCAQIBAQICAQEBAgECAgECAgECAQEBAgECAQICAQEBAgICAQEBAgECAQEBAQECAgEBAgEBAQIBAgICAQICAQICAQEBAQECAgECAgEBAQECAQIBAgICAQECAgEBAQEBAQICAgIBAgICAgIBAgECAQICAQIBAQEBAQICAQECAQEBAgICAQICAQIBAQICAgEBAgIBAQEBAQIBAwIBAgEBAQEBAQECAQEBAgEBAgECAgEBAgECAgEDAQECAQECAgIBAgIBAQEBAQECAgEDAgECAgIBAQIBAgEBAQEBBAEBAQECAgIBAgECAQMBAgEBAgEBAQIBAgEBAgIBAgIDAgIBAgEBAgECAQEBAQIBAgEBAQICAgIBAgIBAgIBAQIBAQIBAgECAgECAgIBAgECAwIBAgICAgICAQIBAQEBAQICAQECAwECAQEBAQECAQEBAgEBAQIDAgECAgIEAgICAQECAgECAQIBAgIDAQECAQECAQEBAQECAQICAgECAgEDAwEBAgEBAgECAQIBAQECAQEBAQECAQICAgIBAgIBAgEBAQEBAQICAQEBAQEBAQEBAgIBAQMCAgEBAgICAQICAQIBAgECAQICAQIBAgICAgIBAgEBAQIBAQECAgEBAQICAQEBAgICAgEBAgEBAgECAgEDAgEBAQECAQIBAgEBAgECAgICAgICAgICAgICAwIBAgIDAgIBAgICAQIBAQEBAQEBAgECAQICAgICAQECAQEBAgIBAgEBAQECAQEBAQIBAQECAgIBAgIBAQICAwEBAQIBAQICAgICAgICAQEBAQEBAQICAQECAgEBAQICAgECAQIBAwEBAgEBAQECAgECAQICAQICAQIBAgECAQIDAgECAgIBAQICAQECAQICAgEBAQEBAgECAQICAQECAQMCAQMCAQECAgEBAgIBAQICAgEBAQEBAQIBAQECAwICAgIBAwICAQEBAQEBBAEBAQEBAgECAQEBAQECAQECAgECAgECAQIBAgICAQEBAgECAQIBAQEBAQEBAQICAQICAQEDAgIBAgIBAQICAgEBAgMCAQEBAQEBAgICAQIBAQECAgICAgECAgICAgICAgECAgIBAgEBAQIBAQMCAQICAgICAQIBAQIBAQECAgICAQEBAgEBAgEBAQIBAQEBAgIBAgECAgECAgECAQICAgECAgEBAQIBAQEBAgECAgIBAgMBAQICAQICAQIBAQIBAgICAgMCAQIEAQICAgEBAQEBAgIBAgECAQEBAgECAQECAgEBAgIBAQEBAgECAQIBAgIBAgEBAgECAQECAgIBAgEBAQEBAgIBAQMCAQECAgEBAQECAwIBAQECAQECAgIBAgIBAgEBAgEBAgIDAgICAQIBAgEBAQQCAQMDAgIBAQEBAgEBAgECAgEBAQICAwEBAQIBAgIBAQEBAQIBAgMCAgEBAgECAgECAgICAgICAgIBAgEBAQIBAQECAQIBAgIBAgECAQIBAQIBAgICAQEBAgEDAQIBAQIBAQIBAgIBAQIBAQEBAQIBAgICAQEBAgEBAQEBAQIBAgECBAICAQICAgECAgEBAQECAgIDAgICAgIBAQIEAgECAQQCAQEBAgEBAQIBAQEBAQICAgIBAQICAQECAgEBAgICAgIBAQICAQICAQEBAQICAgICAgEBAQEBAgICAgEBAQICAQECAgICAQEBAQECAQECAQEBAQECAQIBAQICAQICAQIBAgECAgIBAQEBAgEBAgIBAQECAQEBAQECAQEBAgICAgECAQIDAQICAQECAQIBAgIBAQECAgECAgECAQIBAgECAgICAQIBAgIBAgICAgIBAgECAgEBAgECAgMCAgEBAQICAQICAgEBAgIBAQEBAgIBAQIBAQEBAQIBAgEBAQICAgEBAgICAgICAQICAgIBAQEBAQEBAQIBAQICAQECAQECAgICAgECAgEDAgEBAwECAgICAgECAQEBAgICAQECAgEBAgEBAQIBAQECAgEBAgICAgICAgICAgQBAQECAgEBAwICAQEBAQECAgIBAgECAgECAgECAQMBAQEBAQECAgEBAQEBAgECAQECAgECAgEBAgECAQMCAwIBAgICAgEBAgECAgEBAQMCAgEBAgEBAQECAgICAgECAgEBAQEBAQECAQEBAQICAQIDAQIBAQICAQIBAQICAQECAQECAgMBAgEBAgEBAgECAQICAgECAgEBAQEBAQEBAgEBAgIBAQICAgICAgEBAgECAQICAQEBAQICAQIBAgIBAgEBAQIBAgIBAgECAQECAgECAgICAwEBAQIBAQECAgICAQICAgIBAgEDAQECAgIBAgECAgEBAQECAQEBAQECAgICAQMBAQIBAgMBAQICAQEBAQICAgIBAQECAgIBAgECAQIBAQEBAgEBAgECAgICAQMCAwMDAQECAgECAQICAQMCAgIBAQICAgECAQECAgMCAQICAQICAgICAgEBAQICAQEBAQEDAQICAgIBAgICAQECAQECAQICAQECAgEBAQEBAQECAgICAQEBAQEBAgIBAQECAgECAgIBAgECAQMBAgIBAgICAwEBAQIBAQICAgIDAgIBAgICAgIBAgIBAQICAgICAQICAwEBAgICAgECAgIBAQICAgEBAgEBAQICAgECAgECAQIBAQECAQEDAgICAQECAgECAgICAgECAgECAQIBAQEBAQEBAgEBAQEBAQEBAgIBAQIBAgICAQEBAQIBAQIBAgIBAgQBAgECAQICAgIBAQIBAgICAgICAgICAQEBAgICAgICAgEBAQECAgICAgICAQEBAgICAQECAQIBAgIBAgICAQICAgECAQECAQEBAgICAgICAgICAQIBAQIBAQECAQQBAgICAQEBAgICAgIBAgIBAgEBAgIBAQECAgEBAgIBAQIBAgICAQEBAgIBAQECAgICAQEBAgEBAQECAgICAgICAQIBAgEBAgEBAgEBAQIBAgICAQIBAQICAgICAgICAQEBAQIBAQICAQECAQICAgEDAgECAgEBAQECAgICAQICAQIBAgICAQIBAQECAQICAgICAgEBAgEBAQIBAQICAQIBAgECAgECBAEBAQIBAgICAgEBAQICAgEBAQIBAQIBAgIBAQECAQECAgMCAQEBAQIBAQIBAQIBAQICAQIBAQECAQECAQICAgEBAgIBAQICAgQCAgICAgEBAQICAQEBAQECAgICAQIBAQEBAgEBAQMBAQIBAgIBAQECAQEBAgECAgIBAQIBAgIBAQICAQIBAQEBAgECAQEBAgIBAgECAQEBAQICAQIBAgICAgEBAgEBAwICAgICAgEBAQEBAQICAgECAQEBAgEBAQIBAQEBAgICAgECAgECAgECAwICAQECAgICAgEBAgICAgECAQECAgICAQICAgEBAQEBAQECAQICAgICAQIBAQMBAQECAgEBAgICAgIBAQECAQIBAgEBAQIBAgEBAQEBAQICAgIBAQECAQICAQIBAwICAQIBAQIBAQECAQEBAQIDAQEBAgECAQECAgEBAQICAgECAgIBAgEBAQIBAQEBAgECAgEBAQIBAQICAQIEAgIBAQEBAQEBAgICAQECAQMBAQEBAgICAgICAQECAQICAQEBAQICBAECAQICAgICAgEBAgIBAQECAgEBAQEBAgEBAQIBAQECAgIBAgICAQECAQIBAQICAQICAgICAQIBAgEBAQMBAQICAQIEAgIBAQICAgEBAQICAQEBAgICAgIBAQEBAQIDAQIBAgEBAQIBAQIBAgIBAQECAQQBAQIBAgEBAgIBAQECAQICAQIBAgICAQECAgICAQEBAQECAQIBAQICBAECAQIBAgEBAgEBAQICAgICAQIBAgICAgMBAwEDAQIBAgEBAgICAQECAQICAQECAQICAgECAgEBAgECAQECAgIBAQECAQECAQEBAQECAQEBAQECAQICAQIBAQIBAQECAQICAgEBAQIBAQIBAgICAgEBAQIBAQICAQIBAgEBAgIBBAECAQIBAgICAgECAQIDAQEBAQEDAgICAgQCAQICAQEBAgICAQECAgECAQEBAgEBAQEBAQEBAgIBAgEBAQEBAgICAgECAgMBAgMCAgECAQEBAQEBAQIBAQIBAgEBAQIBAQECAgECAQICAQECAQICAQEBAgIBAQICAgICAgECAgECAQICAgICAQEBAgICAQICAQECAQECAgIBAQIBAQIBAgIBAQICAgIBAgECAQIBAQIDAQIBAQECAQICAQEBAgEBAgICAgEDAQICAgICAQIBAwICAQECAQECAQEBAgECAgECAQEBAgEBAQICAgECAQIBAQEBAgICAgEBAgIBAQEBAgICAQEDAQEBAQEBAgEBAQECAQICAgIBAQECAQEBAQICAgEBAgECAQICAQEBAgICAQECAgIBAgECAQEBAQICAQECAQICAQICAgECAQICAQICAQMBAgECAQEBAQIBAQEBAgEBAgMBAgEBAgECAgEBAQICAQEBAQECAgIBAQIBAQECAQECAQIBAgECAQECAQIBAgICAQECAgICAgEBAgECAQIBAQEBAQIBAQIBAQECAQIBAQIBAgECAgEBAQEBAgICAgICAQEBAQICAQECAQ==",
          "dtype": "i1"
         },
         "xaxis": "x2",
         "yaxis": "y2"
        }
       ],
       "layout": {
        "barmode": "relative",
        "legend": {
         "tracegroupgap": 0
        },
        "template": {
         "data": {
          "bar": [
           {
            "error_x": {
             "color": "#2a3f5f"
            },
            "error_y": {
             "color": "#2a3f5f"
            },
            "marker": {
             "line": {
              "color": "#E5ECF6",
              "width": 0.5
             },
             "pattern": {
              "fillmode": "overlay",
              "size": 10,
              "solidity": 0.2
             }
            },
            "type": "bar"
           }
          ],
          "barpolar": [
           {
            "marker": {
             "line": {
              "color": "#E5ECF6",
              "width": 0.5
             },
             "pattern": {
              "fillmode": "overlay",
              "size": 10,
              "solidity": 0.2
             }
            },
            "type": "barpolar"
           }
          ],
          "carpet": [
           {
            "aaxis": {
             "endlinecolor": "#2a3f5f",
             "gridcolor": "white",
             "linecolor": "white",
             "minorgridcolor": "white",
             "startlinecolor": "#2a3f5f"
            },
            "baxis": {
             "endlinecolor": "#2a3f5f",
             "gridcolor": "white",
             "linecolor": "white",
             "minorgridcolor": "white",
             "startlinecolor": "#2a3f5f"
            },
            "type": "carpet"
           }
          ],
          "choropleth": [
           {
            "colorbar": {
             "outlinewidth": 0,
             "ticks": ""
            },
            "type": "choropleth"
           }
          ],
          "contour": [
           {
            "colorbar": {
             "outlinewidth": 0,
             "ticks": ""
            },
            "colorscale": [
             [
              0,
              "#0d0887"
             ],
             [
              0.1111111111111111,
              "#46039f"
             ],
             [
              0.2222222222222222,
              "#7201a8"
             ],
             [
              0.3333333333333333,
              "#9c179e"
             ],
             [
              0.4444444444444444,
              "#bd3786"
             ],
             [
              0.5555555555555556,
              "#d8576b"
             ],
             [
              0.6666666666666666,
              "#ed7953"
             ],
             [
              0.7777777777777778,
              "#fb9f3a"
             ],
             [
              0.8888888888888888,
              "#fdca26"
             ],
             [
              1,
              "#f0f921"
             ]
            ],
            "type": "contour"
           }
          ],
          "contourcarpet": [
           {
            "colorbar": {
             "outlinewidth": 0,
             "ticks": ""
            },
            "type": "contourcarpet"
           }
          ],
          "heatmap": [
           {
            "colorbar": {
             "outlinewidth": 0,
             "ticks": ""
            },
            "colorscale": [
             [
              0,
              "#0d0887"
             ],
             [
              0.1111111111111111,
              "#46039f"
             ],
             [
              0.2222222222222222,
              "#7201a8"
             ],
             [
              0.3333333333333333,
              "#9c179e"
             ],
             [
              0.4444444444444444,
              "#bd3786"
             ],
             [
              0.5555555555555556,
              "#d8576b"
             ],
             [
              0.6666666666666666,
              "#ed7953"
             ],
             [
              0.7777777777777778,
              "#fb9f3a"
             ],
             [
              0.8888888888888888,
              "#fdca26"
             ],
             [
              1,
              "#f0f921"
             ]
            ],
            "type": "heatmap"
           }
          ],
          "histogram": [
           {
            "marker": {
             "pattern": {
              "fillmode": "overlay",
              "size": 10,
              "solidity": 0.2
             }
            },
            "type": "histogram"
           }
          ],
          "histogram2d": [
           {
            "colorbar": {
             "outlinewidth": 0,
             "ticks": ""
            },
            "colorscale": [
             [
              0,
              "#0d0887"
             ],
             [
              0.1111111111111111,
              "#46039f"
             ],
             [
              0.2222222222222222,
              "#7201a8"
             ],
             [
              0.3333333333333333,
              "#9c179e"
             ],
             [
              0.4444444444444444,
              "#bd3786"
             ],
             [
              0.5555555555555556,
              "#d8576b"
             ],
             [
              0.6666666666666666,
              "#ed7953"
             ],
             [
              0.7777777777777778,
              "#fb9f3a"
             ],
             [
              0.8888888888888888,
              "#fdca26"
             ],
             [
              1,
              "#f0f921"
             ]
            ],
            "type": "histogram2d"
           }
          ],
          "histogram2dcontour": [
           {
            "colorbar": {
             "outlinewidth": 0,
             "ticks": ""
            },
            "colorscale": [
             [
              0,
              "#0d0887"
             ],
             [
              0.1111111111111111,
              "#46039f"
             ],
             [
              0.2222222222222222,
              "#7201a8"
             ],
             [
              0.3333333333333333,
              "#9c179e"
             ],
             [
              0.4444444444444444,
              "#bd3786"
             ],
             [
              0.5555555555555556,
              "#d8576b"
             ],
             [
              0.6666666666666666,
              "#ed7953"
             ],
             [
              0.7777777777777778,
              "#fb9f3a"
             ],
             [
              0.8888888888888888,
              "#fdca26"
             ],
             [
              1,
              "#f0f921"
             ]
            ],
            "type": "histogram2dcontour"
           }
          ],
          "mesh3d": [
           {
            "colorbar": {
             "outlinewidth": 0,
             "ticks": ""
            },
            "type": "mesh3d"
           }
          ],
          "parcoords": [
           {
            "line": {
             "colorbar": {
              "outlinewidth": 0,
              "ticks": ""
             }
            },
            "type": "parcoords"
           }
          ],
          "pie": [
           {
            "automargin": true,
            "type": "pie"
           }
          ],
          "scatter": [
           {
            "fillpattern": {
             "fillmode": "overlay",
             "size": 10,
             "solidity": 0.2
            },
            "type": "scatter"
           }
          ],
          "scatter3d": [
           {
            "line": {
             "colorbar": {
              "outlinewidth": 0,
              "ticks": ""
             }
            },
            "marker": {
             "colorbar": {
              "outlinewidth": 0,
              "ticks": ""
             }
            },
            "type": "scatter3d"
           }
          ],
          "scattercarpet": [
           {
            "marker": {
             "colorbar": {
              "outlinewidth": 0,
              "ticks": ""
             }
            },
            "type": "scattercarpet"
           }
          ],
          "scattergeo": [
           {
            "marker": {
             "colorbar": {
              "outlinewidth": 0,
              "ticks": ""
             }
            },
            "type": "scattergeo"
           }
          ],
          "scattergl": [
           {
            "marker": {
             "colorbar": {
              "outlinewidth": 0,
              "ticks": ""
             }
            },
            "type": "scattergl"
           }
          ],
          "scattermap": [
           {
            "marker": {
             "colorbar": {
              "outlinewidth": 0,
              "ticks": ""
             }
            },
            "type": "scattermap"
           }
          ],
          "scattermapbox": [
           {
            "marker": {
             "colorbar": {
              "outlinewidth": 0,
              "ticks": ""
             }
            },
            "type": "scattermapbox"
           }
          ],
          "scatterpolar": [
           {
            "marker": {
             "colorbar": {
              "outlinewidth": 0,
              "ticks": ""
             }
            },
            "type": "scatterpolar"
           }
          ],
          "scatterpolargl": [
           {
            "marker": {
             "colorbar": {
              "outlinewidth": 0,
              "ticks": ""
             }
            },
            "type": "scatterpolargl"
           }
          ],
          "scatterternary": [
           {
            "marker": {
             "colorbar": {
              "outlinewidth": 0,
              "ticks": ""
             }
            },
            "type": "scatterternary"
           }
          ],
          "surface": [
           {
            "colorbar": {
             "outlinewidth": 0,
             "ticks": ""
            },
            "colorscale": [
             [
              0,
              "#0d0887"
             ],
             [
              0.1111111111111111,
              "#46039f"
             ],
             [
              0.2222222222222222,
              "#7201a8"
             ],
             [
              0.3333333333333333,
              "#9c179e"
             ],
             [
              0.4444444444444444,
              "#bd3786"
             ],
             [
              0.5555555555555556,
              "#d8576b"
             ],
             [
              0.6666666666666666,
              "#ed7953"
             ],
             [
              0.7777777777777778,
              "#fb9f3a"
             ],
             [
              0.8888888888888888,
              "#fdca26"
             ],
             [
              1,
              "#f0f921"
             ]
            ],
            "type": "surface"
           }
          ],
          "table": [
           {
            "cells": {
             "fill": {
              "color": "#EBF0F8"
             },
             "line": {
              "color": "white"
             }
            },
            "header": {
             "fill": {
              "color": "#C8D4E3"
             },
             "line": {
              "color": "white"
             }
            },
            "type": "table"
           }
          ]
         },
         "layout": {
          "annotationdefaults": {
           "arrowcolor": "#2a3f5f",
           "arrowhead": 0,
           "arrowwidth": 1
          },
          "autotypenumbers": "strict",
          "coloraxis": {
           "colorbar": {
            "outlinewidth": 0,
            "ticks": ""
           }
          },
          "colorscale": {
           "diverging": [
            [
             0,
             "#8e0152"
            ],
            [
             0.1,
             "#c51b7d"
            ],
            [
             0.2,
             "#de77ae"
            ],
            [
             0.3,
             "#f1b6da"
            ],
            [
             0.4,
             "#fde0ef"
            ],
            [
             0.5,
             "#f7f7f7"
            ],
            [
             0.6,
             "#e6f5d0"
            ],
            [
             0.7,
             "#b8e186"
            ],
            [
             0.8,
             "#7fbc41"
            ],
            [
             0.9,
             "#4d9221"
            ],
            [
             1,
             "#276419"
            ]
           ],
           "sequential": [
            [
             0,
             "#0d0887"
            ],
            [
             0.1111111111111111,
             "#46039f"
            ],
            [
             0.2222222222222222,
             "#7201a8"
            ],
            [
             0.3333333333333333,
             "#9c179e"
            ],
            [
             0.4444444444444444,
             "#bd3786"
            ],
            [
             0.5555555555555556,
             "#d8576b"
            ],
            [
             0.6666666666666666,
             "#ed7953"
            ],
            [
             0.7777777777777778,
             "#fb9f3a"
            ],
            [
             0.8888888888888888,
             "#fdca26"
            ],
            [
             1,
             "#f0f921"
            ]
           ],
           "sequentialminus": [
            [
             0,
             "#0d0887"
            ],
            [
             0.1111111111111111,
             "#46039f"
            ],
            [
             0.2222222222222222,
             "#7201a8"
            ],
            [
             0.3333333333333333,
             "#9c179e"
            ],
            [
             0.4444444444444444,
             "#bd3786"
            ],
            [
             0.5555555555555556,
             "#d8576b"
            ],
            [
             0.6666666666666666,
             "#ed7953"
            ],
            [
             0.7777777777777778,
             "#fb9f3a"
            ],
            [
             0.8888888888888888,
             "#fdca26"
            ],
            [
             1,
             "#f0f921"
            ]
           ]
          },
          "colorway": [
           "#636efa",
           "#EF553B",
           "#00cc96",
           "#ab63fa",
           "#FFA15A",
           "#19d3f3",
           "#FF6692",
           "#B6E880",
           "#FF97FF",
           "#FECB52"
          ],
          "font": {
           "color": "#2a3f5f"
          },
          "geo": {
           "bgcolor": "white",
           "lakecolor": "white",
           "landcolor": "#E5ECF6",
           "showlakes": true,
           "showland": true,
           "subunitcolor": "white"
          },
          "hoverlabel": {
           "align": "left"
          },
          "hovermode": "closest",
          "mapbox": {
           "style": "light"
          },
          "paper_bgcolor": "white",
          "plot_bgcolor": "#E5ECF6",
          "polar": {
           "angularaxis": {
            "gridcolor": "white",
            "linecolor": "white",
            "ticks": ""
           },
           "bgcolor": "#E5ECF6",
           "radialaxis": {
            "gridcolor": "white",
            "linecolor": "white",
            "ticks": ""
           }
          },
          "scene": {
           "xaxis": {
            "backgroundcolor": "#E5ECF6",
            "gridcolor": "white",
            "gridwidth": 2,
            "linecolor": "white",
            "showbackground": true,
            "ticks": "",
            "zerolinecolor": "white"
           },
           "yaxis": {
            "backgroundcolor": "#E5ECF6",
            "gridcolor": "white",
            "gridwidth": 2,
            "linecolor": "white",
            "showbackground": true,
            "ticks": "",
            "zerolinecolor": "white"
           },
           "zaxis": {
            "backgroundcolor": "#E5ECF6",
            "gridcolor": "white",
            "gridwidth": 2,
            "linecolor": "white",
            "showbackground": true,
            "ticks": "",
            "zerolinecolor": "white"
           }
          },
          "shapedefaults": {
           "line": {
            "color": "#2a3f5f"
           }
          },
          "ternary": {
           "aaxis": {
            "gridcolor": "white",
            "linecolor": "white",
            "ticks": ""
           },
           "baxis": {
            "gridcolor": "white",
            "linecolor": "white",
            "ticks": ""
           },
           "bgcolor": "#E5ECF6",
           "caxis": {
            "gridcolor": "white",
            "linecolor": "white",
            "ticks": ""
           }
          },
          "title": {
           "x": 0.05
          },
          "xaxis": {
           "automargin": true,
           "gridcolor": "white",
           "linecolor": "white",
           "ticks": "",
           "title": {
            "standoff": 15
           },
           "zerolinecolor": "white",
           "zerolinewidth": 2
          },
          "yaxis": {
           "automargin": true,
           "gridcolor": "white",
           "linecolor": "white",
           "ticks": "",
           "title": {
            "standoff": 15
           },
           "zerolinecolor": "white",
           "zerolinewidth": 2
          }
         }
        },
        "title": {
         "text": "Distribuição da Variável \"Qte_Categorias\""
        },
        "xaxis": {
         "anchor": "y",
         "domain": [
          0,
          1
         ],
         "title": {
          "text": "Qte_Categorias"
         }
        },
        "xaxis2": {
         "anchor": "y2",
         "domain": [
          0,
          1
         ],
         "matches": "x",
         "showgrid": true,
         "showticklabels": false
        },
        "yaxis": {
         "anchor": "x",
         "domain": [
          0,
          0.8316
         ],
         "title": {
          "text": "count"
         }
        },
        "yaxis2": {
         "anchor": "x2",
         "domain": [
          0.8416,
          1
         ],
         "matches": "y2",
         "showgrid": false,
         "showline": false,
         "showticklabels": false,
         "ticks": ""
        }
       }
      }
     },
     "metadata": {},
     "output_type": "display_data"
    },
    {
     "name": "stdout",
     "output_type": "stream",
     "text": [
      "\n",
      "---------- Análise da Variável: 'Sum_Pedidos_Acumulados' ----------\n",
      "Estatísticas Descritivas:\n"
     ]
    },
    {
     "data": {
      "text/html": [
       "<div>\n",
       "<style scoped>\n",
       "    .dataframe tbody tr th:only-of-type {\n",
       "        vertical-align: middle;\n",
       "    }\n",
       "\n",
       "    .dataframe tbody tr th {\n",
       "        vertical-align: top;\n",
       "    }\n",
       "\n",
       "    .dataframe thead th {\n",
       "        text-align: right;\n",
       "    }\n",
       "</style>\n",
       "<table border=\"1\" class=\"dataframe\">\n",
       "  <thead>\n",
       "    <tr style=\"text-align: right;\">\n",
       "      <th></th>\n",
       "      <th>count</th>\n",
       "      <th>mean</th>\n",
       "      <th>std</th>\n",
       "      <th>min</th>\n",
       "      <th>25%</th>\n",
       "      <th>50%</th>\n",
       "      <th>75%</th>\n",
       "      <th>max</th>\n",
       "    </tr>\n",
       "  </thead>\n",
       "  <tbody>\n",
       "    <tr>\n",
       "      <th>Sum_Pedidos_Acumulados</th>\n",
       "      <td>10000.0</td>\n",
       "      <td>417.042666</td>\n",
       "      <td>239.627053</td>\n",
       "      <td>0.04825</td>\n",
       "      <td>212.508792</td>\n",
       "      <td>417.474646</td>\n",
       "      <td>622.451031</td>\n",
       "      <td>833.302</td>\n",
       "    </tr>\n",
       "  </tbody>\n",
       "</table>\n",
       "</div>"
      ],
      "text/plain": [
       "                          count        mean         std      min         25%  \\\n",
       "Sum_Pedidos_Acumulados  10000.0  417.042666  239.627053  0.04825  212.508792   \n",
       "\n",
       "                               50%         75%      max  \n",
       "Sum_Pedidos_Acumulados  417.474646  622.451031  833.302  "
      ]
     },
     "metadata": {},
     "output_type": "display_data"
    },
    {
     "data": {
      "application/vnd.plotly.v1+json": {
       "config": {
        "plotlyServerURL": "https://plot.ly"
       },
       "data": [
        {
         "bingroup": "x",
         "hovertemplate": "Sum_Pedidos_Acumulados=%{x}<br>count=%{y}<extra></extra>",
         "legendgroup": "",
         "marker": {
          "color": "#636efa",
          "pattern": {
           "shape": ""
          }
         },
         "name": "",
         "orientation": "v",
         "showlegend": false,
         "type": "histogram",
         "x": {
          "bdata": "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",
          "dtype": "f8"
         },
         "xaxis": "x",
         "yaxis": "y"
        },
        {
         "hovertemplate": "Sum_Pedidos_Acumulados=%{x}<extra></extra>",
         "legendgroup": "",
         "marker": {
          "color": "#636efa"
         },
         "name": "",
         "notched": true,
         "showlegend": false,
         "type": "box",
         "x": {
          "bdata": "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",
          "dtype": "f8"
         },
         "xaxis": "x2",
         "yaxis": "y2"
        }
       ],
       "layout": {
        "barmode": "relative",
        "legend": {
         "tracegroupgap": 0
        },
        "template": {
         "data": {
          "bar": [
           {
            "error_x": {
             "color": "#2a3f5f"
            },
            "error_y": {
             "color": "#2a3f5f"
            },
            "marker": {
             "line": {
              "color": "#E5ECF6",
              "width": 0.5
             },
             "pattern": {
              "fillmode": "overlay",
              "size": 10,
              "solidity": 0.2
             }
            },
            "type": "bar"
           }
          ],
          "barpolar": [
           {
            "marker": {
             "line": {
              "color": "#E5ECF6",
              "width": 0.5
             },
             "pattern": {
              "fillmode": "overlay",
              "size": 10,
              "solidity": 0.2
             }
            },
            "type": "barpolar"
           }
          ],
          "carpet": [
           {
            "aaxis": {
             "endlinecolor": "#2a3f5f",
             "gridcolor": "white",
             "linecolor": "white",
             "minorgridcolor": "white",
             "startlinecolor": "#2a3f5f"
            },
            "baxis": {
             "endlinecolor": "#2a3f5f",
             "gridcolor": "white",
             "linecolor": "white",
             "minorgridcolor": "white",
             "startlinecolor": "#2a3f5f"
            },
            "type": "carpet"
           }
          ],
          "choropleth": [
           {
            "colorbar": {
             "outlinewidth": 0,
             "ticks": ""
            },
            "type": "choropleth"
           }
          ],
          "contour": [
           {
            "colorbar": {
             "outlinewidth": 0,
             "ticks": ""
            },
            "colorscale": [
             [
              0,
              "#0d0887"
             ],
             [
              0.1111111111111111,
              "#46039f"
             ],
             [
              0.2222222222222222,
              "#7201a8"
             ],
             [
              0.3333333333333333,
              "#9c179e"
             ],
             [
              0.4444444444444444,
              "#bd3786"
             ],
             [
              0.5555555555555556,
              "#d8576b"
             ],
             [
              0.6666666666666666,
              "#ed7953"
             ],
             [
              0.7777777777777778,
              "#fb9f3a"
             ],
             [
              0.8888888888888888,
              "#fdca26"
             ],
             [
              1,
              "#f0f921"
             ]
            ],
            "type": "contour"
           }
          ],
          "contourcarpet": [
           {
            "colorbar": {
             "outlinewidth": 0,
             "ticks": ""
            },
            "type": "contourcarpet"
           }
          ],
          "heatmap": [
           {
            "colorbar": {
             "outlinewidth": 0,
             "ticks": ""
            },
            "colorscale": [
             [
              0,
              "#0d0887"
             ],
             [
              0.1111111111111111,
              "#46039f"
             ],
             [
              0.2222222222222222,
              "#7201a8"
             ],
             [
              0.3333333333333333,
              "#9c179e"
             ],
             [
              0.4444444444444444,
              "#bd3786"
             ],
             [
              0.5555555555555556,
              "#d8576b"
             ],
             [
              0.6666666666666666,
              "#ed7953"
             ],
             [
              0.7777777777777778,
              "#fb9f3a"
             ],
             [
              0.8888888888888888,
              "#fdca26"
             ],
             [
              1,
              "#f0f921"
             ]
            ],
            "type": "heatmap"
           }
          ],
          "histogram": [
           {
            "marker": {
             "pattern": {
              "fillmode": "overlay",
              "size": 10,
              "solidity": 0.2
             }
            },
            "type": "histogram"
           }
          ],
          "histogram2d": [
           {
            "colorbar": {
             "outlinewidth": 0,
             "ticks": ""
            },
            "colorscale": [
             [
              0,
              "#0d0887"
             ],
             [
              0.1111111111111111,
              "#46039f"
             ],
             [
              0.2222222222222222,
              "#7201a8"
             ],
             [
              0.3333333333333333,
              "#9c179e"
             ],
             [
              0.4444444444444444,
              "#bd3786"
             ],
             [
              0.5555555555555556,
              "#d8576b"
             ],
             [
              0.6666666666666666,
              "#ed7953"
             ],
             [
              0.7777777777777778,
              "#fb9f3a"
             ],
             [
              0.8888888888888888,
              "#fdca26"
             ],
             [
              1,
              "#f0f921"
             ]
            ],
            "type": "histogram2d"
           }
          ],
          "histogram2dcontour": [
           {
            "colorbar": {
             "outlinewidth": 0,
             "ticks": ""
            },
            "colorscale": [
             [
              0,
              "#0d0887"
             ],
             [
              0.1111111111111111,
              "#46039f"
             ],
             [
              0.2222222222222222,
              "#7201a8"
             ],
             [
              0.3333333333333333,
              "#9c179e"
             ],
             [
              0.4444444444444444,
              "#bd3786"
             ],
             [
              0.5555555555555556,
              "#d8576b"
             ],
             [
              0.6666666666666666,
              "#ed7953"
             ],
             [
              0.7777777777777778,
              "#fb9f3a"
             ],
             [
              0.8888888888888888,
              "#fdca26"
             ],
             [
              1,
              "#f0f921"
             ]
            ],
            "type": "histogram2dcontour"
           }
          ],
          "mesh3d": [
           {
            "colorbar": {
             "outlinewidth": 0,
             "ticks": ""
            },
            "type": "mesh3d"
           }
          ],
          "parcoords": [
           {
            "line": {
             "colorbar": {
              "outlinewidth": 0,
              "ticks": ""
             }
            },
            "type": "parcoords"
           }
          ],
          "pie": [
           {
            "automargin": true,
            "type": "pie"
           }
          ],
          "scatter": [
           {
            "fillpattern": {
             "fillmode": "overlay",
             "size": 10,
             "solidity": 0.2
            },
            "type": "scatter"
           }
          ],
          "scatter3d": [
           {
            "line": {
             "colorbar": {
              "outlinewidth": 0,
              "ticks": ""
             }
            },
            "marker": {
             "colorbar": {
              "outlinewidth": 0,
              "ticks": ""
             }
            },
            "type": "scatter3d"
           }
          ],
          "scattercarpet": [
           {
            "marker": {
             "colorbar": {
              "outlinewidth": 0,
              "ticks": ""
             }
            },
            "type": "scattercarpet"
           }
          ],
          "scattergeo": [
           {
            "marker": {
             "colorbar": {
              "outlinewidth": 0,
              "ticks": ""
             }
            },
            "type": "scattergeo"
           }
          ],
          "scattergl": [
           {
            "marker": {
             "colorbar": {
              "outlinewidth": 0,
              "ticks": ""
             }
            },
            "type": "scattergl"
           }
          ],
          "scattermap": [
           {
            "marker": {
             "colorbar": {
              "outlinewidth": 0,
              "ticks": ""
             }
            },
            "type": "scattermap"
           }
          ],
          "scattermapbox": [
           {
            "marker": {
             "colorbar": {
              "outlinewidth": 0,
              "ticks": ""
             }
            },
            "type": "scattermapbox"
           }
          ],
          "scatterpolar": [
           {
            "marker": {
             "colorbar": {
              "outlinewidth": 0,
              "ticks": ""
             }
            },
            "type": "scatterpolar"
           }
          ],
          "scatterpolargl": [
           {
            "marker": {
             "colorbar": {
              "outlinewidth": 0,
              "ticks": ""
             }
            },
            "type": "scatterpolargl"
           }
          ],
          "scatterternary": [
           {
            "marker": {
             "colorbar": {
              "outlinewidth": 0,
              "ticks": ""
             }
            },
            "type": "scatterternary"
           }
          ],
          "surface": [
           {
            "colorbar": {
             "outlinewidth": 0,
             "ticks": ""
            },
            "colorscale": [
             [
              0,
              "#0d0887"
             ],
             [
              0.1111111111111111,
              "#46039f"
             ],
             [
              0.2222222222222222,
              "#7201a8"
             ],
             [
              0.3333333333333333,
              "#9c179e"
             ],
             [
              0.4444444444444444,
              "#bd3786"
             ],
             [
              0.5555555555555556,
              "#d8576b"
             ],
             [
              0.6666666666666666,
              "#ed7953"
             ],
             [
              0.7777777777777778,
              "#fb9f3a"
             ],
             [
              0.8888888888888888,
              "#fdca26"
             ],
             [
              1,
              "#f0f921"
             ]
            ],
            "type": "surface"
           }
          ],
          "table": [
           {
            "cells": {
             "fill": {
              "color": "#EBF0F8"
             },
             "line": {
              "color": "white"
             }
            },
            "header": {
             "fill": {
              "color": "#C8D4E3"
             },
             "line": {
              "color": "white"
             }
            },
            "type": "table"
           }
          ]
         },
         "layout": {
          "annotationdefaults": {
           "arrowcolor": "#2a3f5f",
           "arrowhead": 0,
           "arrowwidth": 1
          },
          "autotypenumbers": "strict",
          "coloraxis": {
           "colorbar": {
            "outlinewidth": 0,
            "ticks": ""
           }
          },
          "colorscale": {
           "diverging": [
            [
             0,
             "#8e0152"
            ],
            [
             0.1,
             "#c51b7d"
            ],
            [
             0.2,
             "#de77ae"
            ],
            [
             0.3,
             "#f1b6da"
            ],
            [
             0.4,
             "#fde0ef"
            ],
            [
             0.5,
             "#f7f7f7"
            ],
            [
             0.6,
             "#e6f5d0"
            ],
            [
             0.7,
             "#b8e186"
            ],
            [
             0.8,
             "#7fbc41"
            ],
            [
             0.9,
             "#4d9221"
            ],
            [
             1,
             "#276419"
            ]
           ],
           "sequential": [
            [
             0,
             "#0d0887"
            ],
            [
             0.1111111111111111,
             "#46039f"
            ],
            [
             0.2222222222222222,
             "#7201a8"
            ],
            [
             0.3333333333333333,
             "#9c179e"
            ],
            [
             0.4444444444444444,
             "#bd3786"
            ],
            [
             0.5555555555555556,
             "#d8576b"
            ],
            [
             0.6666666666666666,
             "#ed7953"
            ],
            [
             0.7777777777777778,
             "#fb9f3a"
            ],
            [
             0.8888888888888888,
             "#fdca26"
            ],
            [
             1,
             "#f0f921"
            ]
           ],
           "sequentialminus": [
            [
             0,
             "#0d0887"
            ],
            [
             0.1111111111111111,
             "#46039f"
            ],
            [
             0.2222222222222222,
             "#7201a8"
            ],
            [
             0.3333333333333333,
             "#9c179e"
            ],
            [
             0.4444444444444444,
             "#bd3786"
            ],
            [
             0.5555555555555556,
             "#d8576b"
            ],
            [
             0.6666666666666666,
             "#ed7953"
            ],
            [
             0.7777777777777778,
             "#fb9f3a"
            ],
            [
             0.8888888888888888,
             "#fdca26"
            ],
            [
             1,
             "#f0f921"
            ]
           ]
          },
          "colorway": [
           "#636efa",
           "#EF553B",
           "#00cc96",
           "#ab63fa",
           "#FFA15A",
           "#19d3f3",
           "#FF6692",
           "#B6E880",
           "#FF97FF",
           "#FECB52"
          ],
          "font": {
           "color": "#2a3f5f"
          },
          "geo": {
           "bgcolor": "white",
           "lakecolor": "white",
           "landcolor": "#E5ECF6",
           "showlakes": true,
           "showland": true,
           "subunitcolor": "white"
          },
          "hoverlabel": {
           "align": "left"
          },
          "hovermode": "closest",
          "mapbox": {
           "style": "light"
          },
          "paper_bgcolor": "white",
          "plot_bgcolor": "#E5ECF6",
          "polar": {
           "angularaxis": {
            "gridcolor": "white",
            "linecolor": "white",
            "ticks": ""
           },
           "bgcolor": "#E5ECF6",
           "radialaxis": {
            "gridcolor": "white",
            "linecolor": "white",
            "ticks": ""
           }
          },
          "scene": {
           "xaxis": {
            "backgroundcolor": "#E5ECF6",
            "gridcolor": "white",
            "gridwidth": 2,
            "linecolor": "white",
            "showbackground": true,
            "ticks": "",
            "zerolinecolor": "white"
           },
           "yaxis": {
            "backgroundcolor": "#E5ECF6",
            "gridcolor": "white",
            "gridwidth": 2,
            "linecolor": "white",
            "showbackground": true,
            "ticks": "",
            "zerolinecolor": "white"
           },
           "zaxis": {
            "backgroundcolor": "#E5ECF6",
            "gridcolor": "white",
            "gridwidth": 2,
            "linecolor": "white",
            "showbackground": true,
            "ticks": "",
            "zerolinecolor": "white"
           }
          },
          "shapedefaults": {
           "line": {
            "color": "#2a3f5f"
           }
          },
          "ternary": {
           "aaxis": {
            "gridcolor": "white",
            "linecolor": "white",
            "ticks": ""
           },
           "baxis": {
            "gridcolor": "white",
            "linecolor": "white",
            "ticks": ""
           },
           "bgcolor": "#E5ECF6",
           "caxis": {
            "gridcolor": "white",
            "linecolor": "white",
            "ticks": ""
           }
          },
          "title": {
           "x": 0.05
          },
          "xaxis": {
           "automargin": true,
           "gridcolor": "white",
           "linecolor": "white",
           "ticks": "",
           "title": {
            "standoff": 15
           },
           "zerolinecolor": "white",
           "zerolinewidth": 2
          },
          "yaxis": {
           "automargin": true,
           "gridcolor": "white",
           "linecolor": "white",
           "ticks": "",
           "title": {
            "standoff": 15
           },
           "zerolinecolor": "white",
           "zerolinewidth": 2
          }
         }
        },
        "title": {
         "text": "Distribuição da Variável \"Sum_Pedidos_Acumulados\""
        },
        "xaxis": {
         "anchor": "y",
         "domain": [
          0,
          1
         ],
         "title": {
          "text": "Sum_Pedidos_Acumulados"
         }
        },
        "xaxis2": {
         "anchor": "y2",
         "domain": [
          0,
          1
         ],
         "matches": "x",
         "showgrid": true,
         "showticklabels": false
        },
        "yaxis": {
         "anchor": "x",
         "domain": [
          0,
          0.8316
         ],
         "title": {
          "text": "count"
         }
        },
        "yaxis2": {
         "anchor": "x2",
         "domain": [
          0.8416,
          1
         ],
         "matches": "y2",
         "showgrid": false,
         "showline": false,
         "showticklabels": false,
         "ticks": ""
        }
       }
      }
     },
     "metadata": {},
     "output_type": "display_data"
    }
   ],
   "source": [
    "# Lista de variáveis numéricas\n",
    "variaveis_numericas = [\n",
    "    \"Score_Credito\",\n",
    "    \"Idade\",\n",
    "    \"Tempo_Cliente\",\n",
    "    \"Limite_Credito_Mercado\",\n",
    "    \"Qte_Categorias\",\n",
    "    \"Sum_Pedidos_Acumulados\",\n",
    "]\n",
    "\n",
    "# Loop para criar a tabela de estatísticas e o histograma para cada variável\n",
    "for var in variaveis_numericas:\n",
    "    print(f\"\\n---------- Análise da Variável: '{var}' ----------\")\n",
    "\n",
    "    # 1. Tabela de Estatísticas Descritivas\n",
    "    print(\"Estatísticas Descritivas:\")\n",
    "    display(\n",
    "        df[[var]].describe().transpose()\n",
    "    ) \n",
    "\n",
    "    # 2. Histograma\n",
    "    fig = px.histogram(\n",
    "        df, x=var, title=f'Distribuição da Variável \"{var}\"', marginal=\"box\"\n",
    "    )\n",
    "\n",
    "    fig.show()"
   ]
  },
  {
   "cell_type": "markdown",
   "id": "33d3014e",
   "metadata": {},
   "source": [
    "#### 2.2 Principais Insights da Análise Univariada"
   ]
  },
  {
   "cell_type": "markdown",
   "id": "15503773",
   "metadata": {},
   "source": [
    "Perfil Demográfico e Comportamental (Variáveis Categóricas)\n",
    "\n",
    "* **Estado:** A base é fortemente concentrada em **São Paulo**, que representa **50.1%** de todos os clientes. O restante é dividido de forma quase idêntica entre **Minas Gerais (25.1%)** e **Rio de Janeiro (24.8%)**.\n",
    "    \n",
    "* **Gênero:** A distribuição entre gêneros é ligeiramente desequilibrada, com uma leve maioria do público **Masculino (54.6%)** em relação ao **Feminino (45.4%)**.\n",
    "    \n",
    "* **Uso de Cartão de Crédito:** A grande maioria dos clientes (**70.6%**) confirma que **\"Sim (Cadastrou)\"** um cartão de crédito no aplicativo. Apenas 29.4% indicam \"Não (Não Cadastrou)\".\n",
    "    \n",
    "* **Programa de Fidelidade:** A adesão ao programa de fidelidade é **extremamente equilibrada**, com **51.5%** dos clientes na categoria **\"Sim (Participa)\"** e **48.5%** na categoria **\"Não (Não Participa)\"**. Não há uma tendência dominante aqui."
   ]
  }
 ],
 "metadata": {
  "kernelspec": {
   "display_name": ".venv",
   "language": "python",
   "name": "python3"
  },
  "language_info": {
   "codemirror_mode": {
    "name": "ipython",
    "version": 3
   },
   "file_extension": ".py",
   "mimetype": "text/x-python",
   "name": "python",
   "nbconvert_exporter": "python",
   "pygments_lexer": "ipython3",
   "version": "3.13.5"
  }
 },
 "nbformat": 4,
 "nbformat_minor": 5
}
